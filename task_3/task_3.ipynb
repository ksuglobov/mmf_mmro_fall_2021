{
 "cells": [
  {
   "cell_type": "markdown",
   "metadata": {
    "id": "sWgMIfd_hVo_"
   },
   "source": [
    "# Машинное обучение, ВМК МГУ\n",
    "\n",
    "## Практическое задание 3. Метод опорных векторов и логистическая регрессия\n",
    "\n",
    "### Общая информация\n",
    "\n",
    "Дата выдачи: 5 ноября 2021\n",
    "\n",
    "Мягкий дедлайн: 23:59MSK 19 ноября 2021 (за каждый день просрочки снимается 1 балл)\n",
    "\n",
    "Жесткий дедлайн: 23:59MSK 26 ноября 2021."
   ]
  },
  {
   "cell_type": "markdown",
   "metadata": {
    "id": "JIHW-qm_hVpE"
   },
   "source": [
    "### О задании\n",
    "\n",
    "В этом задании вы:\n",
    "- настроите метод опорных векторов, визуализируете опорные вектора\n",
    "- познакомитесь с калибровочными кривыми и сравните вероятности, выдаваемые логистической регрессией и методом опорных векторов\n",
    "- изучите методы работы с категориальными переменными\n",
    "- в качестве бонуса попробуете библиотеку vowpal wabbit.\n",
    "\n",
    "\n",
    "### Оценивание и штрафы\n",
    "Каждая из задач имеет определенную «стоимость» (указана в скобках около задачи). Максимально допустимая оценка за работу — **10 баллов + 4.8 бонусов**.\n",
    "\n",
    "Сдавать задание после указанного срока сдачи нельзя. При выставлении неполного балла за задание в связи с наличием ошибок на усмотрение проверяющего предусмотрена возможность исправить работу на указанных в ответном письме условиях.\n",
    "\n",
    "Задание выполняется самостоятельно. «Похожие» решения считаются плагиатом и все задействованные студенты (в том числе те, у кого списали) не могут получить за него больше 0 баллов (подробнее о плагиате см. на странице курса). Если вы нашли решение какого-то из заданий (или его часть) в открытом источнике, необходимо указать ссылку на этот источник в отдельном блоке в конце вашей работы (скорее всего вы будете не единственным, кто это нашел, поэтому чтобы исключить подозрение в плагиате, необходима ссылка на источник).\n",
    "\n",
    "Неэффективная реализация кода может негативно отразиться на оценке."
   ]
  },
  {
   "cell_type": "markdown",
   "metadata": {
    "id": "M4MA9NHmhVpF"
   },
   "source": [
    "<p style=\"color:#de3815;font-size:25px;\">\n",
    "Напоминание об оформлении и выполнении ноутбука\n",
    "</p>\n",
    "\n",
    "* Все строчки должны быть выполнены. Нужно, чтобы output команды можно было увидеть, не запуская ячейки (кроме редких случаев, когда необходимо намеренно скрыть ненужный output, про такие случаи желательно писать пояснения в тексте). **В противном случае -1 балл**\n",
    "* При оформлении ДЗ нужно пользоваться данным файлом в качестве шаблона. **Не нужно** удалять и видоизменять написанный код и текст, если явно не указана такая возможность. Создавать новые ячейки с кодом/текстов там, где это осмысленно и вы считаете необходимым, конечно, можно. **В противном случае -1 балл**\n",
    "* В anytask обязательно нужно прикреплять отдельно файл с расширением ipynb (не в архиве, а именно отдельно). Если необходимо отправить еще какие-то файлы, то вынесите их в отдельный архив (если файлов много) и пришлите. **В противном случае -0.5 балла**\n",
    "---\n",
    "* Пишите, пожалуйста, выводы и ответы на вопросы в текстовых ячейках/при помощи print в коде/как результат вывода ячейки. При их отсутствии мы не можем понять, сделали ли вы задание и понимаете, что происходит, и **поэтому будем снижать баллы**\n",
    "* Если алгоритм не сказано реализовывать явно, его всегда можно импортировать из библиотеки.\n",
    "---\n",
    "* Про графики. _Штрафы будут применяться к каждому результату команды отображения графика (plt.show() и др. аналогичные). Исключением являются графики, генерируемые функциями каких-либо сторонних библиотек, если их нельзя кастомизировать_\n",
    "\n",
    "    * должно быть название (plt.title) графика; **В противном случае &ndash; -0.05 балла**\n",
    "    * на графиках должны быть подписаны оси (plt.xlabel, plt.ylabel); **В противном случае &ndash; -0.025 балла за каждую ось**\n",
    "    * должны быть подписаны единицы измерения (если это возможно); **В противном случае &ndash; -0.025 балла за каждую ось**\n",
    "    * все названия должны быть понятны любому человеку, знакомому с терминологией, без заглядывания в код; **В противном случае &ndash; -0.05 балла**\n",
    "    * подписи тиков на осях не должны сливаться как на одной оси, так и между ними; **В противном случае &ndash; -0.025 балла за каждую ось**\n",
    "    * если изображено несколько сущностей на одном холсте (например несколько функций), то необходима поясняющая легенда (plt.legend); **В противном случае &ndash; -0.05 балла**\n",
    "    * все линии на графиках должны быть чётко видны (нет похожих цветов или цветов, сливающихся с фоном); **В противном случае &ndash; -0.05 балла**\n",
    "    * если отображена величина, имеющая очевидный диапазон значений (например, проценты могут быть от 0 до 100), то желательно масштабировать ось на весь диапазон значений (исключением является случай, когда вам необходимо показать малое отличие, которое незаметно в таких масштабах);\n",
    "    * графики должны быть не супер-микро и не супер-макро по размерам, так, чтобы можно было увидеть все, что нужно.\n",
    "    * при необходимости улучшения наглядности графиков, можно пользоваться логарифмической шкалой по осям x/y.\n",
    "    \n",
    "### А также..\n",
    "\n",
    "* Для удобства поиска вопросов, на которые от вас просят ответа, мы пометили их знаком **(?)**\n",
    "* Знак **(!)** означает, что выполнение замечания необходимо для **возможности получения полного балла**\n",
    "* Даем до +0.3 баллов за выдающиеся успехи по субъективному мнению проверяющих. Этот **бонус** не апеллируется"
   ]
  },
  {
   "cell_type": "code",
   "execution_count": 1,
   "metadata": {
    "ExecuteTime": {
     "end_time": "2021-11-21T19:08:07.035832Z",
     "start_time": "2021-11-21T19:08:04.969448Z"
    },
    "colab": {
     "base_uri": "https://localhost:8080/"
    },
    "id": "WrGZetS8hVpG",
    "outputId": "c2cdce47-009e-455d-c0cf-3c9495354e75"
   },
   "outputs": [
    {
     "name": "stdout",
     "output_type": "stream",
     "text": [
      "Populating the interactive namespace from numpy and matplotlib\n"
     ]
    }
   ],
   "source": [
    "%pylab inline\n",
    "import pandas as pd\n",
    "\n",
    "from sklearn.datasets import load_diabetes, make_classification\n",
    "from sklearn.model_selection import train_test_split"
   ]
  },
  {
   "cell_type": "markdown",
   "metadata": {
    "id": "AkIQ2HimlViA"
   },
   "source": [
    "My drive with data:"
   ]
  },
  {
   "cell_type": "code",
   "execution_count": 2,
   "metadata": {
    "colab": {
     "base_uri": "https://localhost:8080/"
    },
    "id": "Xsg8PVI5leDy",
    "outputId": "2d77d091-cb72-4f95-e2a2-270e0fbd1125"
   },
   "outputs": [
    {
     "name": "stdout",
     "output_type": "stream",
     "text": [
      "Mounted at /content/drive\n"
     ]
    }
   ],
   "source": [
    "from google.colab import drive\n",
    "drive.mount('/content/drive')"
   ]
  },
  {
   "cell_type": "markdown",
   "metadata": {
    "id": "Q6kpkDCthVpI"
   },
   "source": [
    "## Часть 1. Метод опорных векторов и калибровка вероятностней"
   ]
  },
  {
   "cell_type": "markdown",
   "metadata": {
    "ExecuteTime": {
     "end_time": "2018-10-12T07:36:04.765536Z",
     "start_time": "2018-10-12T07:35:57.814973Z"
    },
    "id": "6Xxu3KF7hVpI"
   },
   "source": [
    "Сгенерируем синтетические данные."
   ]
  },
  {
   "cell_type": "code",
   "execution_count": 3,
   "metadata": {
    "ExecuteTime": {
     "end_time": "2021-11-21T19:08:08.877963Z",
     "start_time": "2021-11-21T19:08:08.680486Z"
    },
    "id": "YmdD77p0hVpI"
   },
   "outputs": [],
   "source": [
    "X, y = make_classification(\n",
    "    n_samples=100000, n_features=20, n_informative=10, n_redundant=10,\n",
    "    random_state=42)\n",
    "\n",
    "X_train, X_test, y_train, y_test = train_test_split(\n",
    "    X, y, test_size=0.3, random_state=42)"
   ]
  },
  {
   "cell_type": "markdown",
   "metadata": {
    "id": "FSc753NdhVpJ"
   },
   "source": [
    "__Задание 1.__ Обучение и применение метода опорных векторов.\n",
    "\n",
    "__(1 балл)__\n",
    "\n",
    "Обучите метод опорных векторов. На занятиях мы проходили обычный вариант, что соответствует линейному ядру (LinearSVC/LinearSVR в scikit-learn)."
   ]
  },
  {
   "cell_type": "code",
   "execution_count": 4,
   "metadata": {
    "ExecuteTime": {
     "end_time": "2021-11-21T19:09:20.904784Z",
     "start_time": "2021-11-21T19:09:20.693059Z"
    },
    "id": "vDjHNmRihVpK"
   },
   "outputs": [],
   "source": [
    "from sklearn.svm import LinearSVC"
   ]
  },
  {
   "cell_type": "code",
   "execution_count": 5,
   "metadata": {
    "ExecuteTime": {
     "end_time": "2021-11-21T19:09:22.873289Z",
     "start_time": "2021-11-21T19:09:22.419089Z"
    },
    "id": "WvP8CcHKhVpK"
   },
   "outputs": [],
   "source": [
    "model = LinearSVC(dual=False) # прямая задача\n",
    "model.fit(X_train, y_train)\n",
    "y_score = model.decision_function(X_test)"
   ]
  },
  {
   "cell_type": "markdown",
   "metadata": {
    "id": "Z_4H4ObjhVpK"
   },
   "source": [
    "На тестовой части посчитайте ROC-AUC, PR-AUC. Постройте ROC и PR кривые.\n",
    "\n",
    "**Замечания**\n",
    "\n",
    "* Обратите внимание, что ROC/PR-curve строится по предсказанным вероятностям (а не бинаризованым меткам ответов)\n",
    "* Соответственно ROC/PR-AUC так же считается по предсказанным вероятностям"
   ]
  },
  {
   "cell_type": "code",
   "execution_count": 6,
   "metadata": {
    "ExecuteTime": {
     "end_time": "2021-11-21T19:09:39.240012Z",
     "start_time": "2021-11-21T19:09:39.226365Z"
    },
    "id": "jTs7hS6bhVpL"
   },
   "outputs": [],
   "source": [
    "from sklearn.metrics import auc, roc_curve, precision_recall_curve"
   ]
  },
  {
   "cell_type": "code",
   "execution_count": 7,
   "metadata": {
    "ExecuteTime": {
     "end_time": "2021-11-21T19:10:42.758649Z",
     "start_time": "2021-11-21T19:10:42.722545Z"
    },
    "id": "gNsJMt6dhVpL"
   },
   "outputs": [],
   "source": [
    "fpr, tpr, thr = roc_curve(y_test, y_score)\n",
    "precision, recall, thr = precision_recall_curve(y_test, y_score)"
   ]
  },
  {
   "cell_type": "markdown",
   "metadata": {
    "id": "CiB89HQzhVpL"
   },
   "source": [
    "Вспомогательная функция для отрисовки графиков кривых с AUC:"
   ]
  },
  {
   "cell_type": "code",
   "execution_count": 8,
   "metadata": {
    "ExecuteTime": {
     "end_time": "2021-11-21T19:23:09.888913Z",
     "start_time": "2021-11-21T19:23:09.876506Z"
    },
    "id": "iug9yLjohVpM"
   },
   "outputs": [],
   "source": [
    "def plot_curve_w_auc(ax, title_, x, y, color_, xlabel_, ylabel_, eps=0.02):\n",
    "    ax.set_title(title_)\n",
    "    ax.plot(x, y, lw=2, color=color_)\n",
    "    ax.fill_between(x, y, alpha=0.25, color=color_)\n",
    "    ax.set_xlim([-eps, 1 + eps])\n",
    "    ax.set_ylim([-eps, 1 + eps])\n",
    "    ax.set_xlabel(xlabel_)\n",
    "    ax.set_ylabel(ylabel_)\n",
    "    ax.set_aspect('equal')\n",
    "    ax.grid(True)\n",
    "    ax.text(0.5, 0.5, f'auc = {auc(x, y):.4f}', fontsize='large',\n",
    "            ha='center', va='center',\n",
    "            bbox=dict(boxstyle='square,pad=0.5', fc='w',\n",
    "                      ec='grey', lw=1, alpha=0.75))"
   ]
  },
  {
   "cell_type": "code",
   "execution_count": 9,
   "metadata": {
    "ExecuteTime": {
     "end_time": "2021-11-21T19:23:12.428185Z",
     "start_time": "2021-11-21T19:23:11.875947Z"
    },
    "colab": {
     "base_uri": "https://localhost:8080/",
     "height": 375
    },
    "id": "HwgOkgyyhVpM",
    "outputId": "6ee68cb8-7c82-4941-ed7b-13c16d1fd7b7"
   },
   "outputs": [
    {
     "data": {
      "image/png": "[encoded data removed]",
      "text/plain": [
       "<Figure size 720x360 with 2 Axes>"
      ]
     },
     "metadata": {
      "needs_background": "light"
     },
     "output_type": "display_data"
    }
   ],
   "source": [
    "fig, axes = plt.subplots(1, 2, figsize=(10, 5), tight_layout=True)\n",
    "plot_curve_w_auc(axes[0], 'ROC', fpr, tpr, 'g', 'FPR', 'TPR')\n",
    "plot_curve_w_auc(axes[1], 'PR', recall, precision, 'b', 'recall', 'precision')"
   ]
  },
  {
   "cell_type": "markdown",
   "metadata": {
    "id": "Ru-RLFozhVpM"
   },
   "source": [
    "В названии метода присутствуют некоторые \"опорные векторы\". Сгенерируйте синтетический датасет с помощью make_classification с 2 признаками (хотя бы 100 объектов, но желательно больше), обучите на нём метод опорных векторов. Визуализируйте разделяющую прямую, все объекты и выделите опорные вектора (атрибут support\\_vectors\\_). В этот раз вместо LinearSVC воспользуйтесь SVC с линейным ядром (kernel='linear'), так как только в нём есть информация об опорных векторах.\n",
    "\n",
    "**Замечания:**\n",
    "* Графики должны быть оформлены правильно, в соответствии с теми требованиями, которые были в первой лабороторной. Так же опорные вектора следует рисовать не другим цветом, а другой **меткой** (например, крестик), иначе теряется принадлежность к классу. Точки из разных классов рисуйте **разными цветами** (или разными фигурами). Если необходимо, можно вводить альфа-канал (степень прозрачности) для улучшения восприятия. Можно (и очень рекомендуется) рисовать не только разделяющую прямую, но из \"разделяющую полосу\" вокруг прямой.\n",
    "* **Обязательно пишите легенду,** поясняющую что изображено на полотне."
   ]
  },
  {
   "cell_type": "code",
   "execution_count": 10,
   "metadata": {
    "ExecuteTime": {
     "end_time": "2021-11-21T19:30:11.055610Z",
     "start_time": "2021-11-21T19:30:11.042010Z"
    },
    "id": "OhEZIt_KhVpM"
   },
   "outputs": [],
   "source": [
    "from sklearn.svm import SVC"
   ]
  },
  {
   "cell_type": "code",
   "execution_count": 11,
   "metadata": {
    "ExecuteTime": {
     "end_time": "2021-11-21T19:42:52.570157Z",
     "start_time": "2021-11-21T19:42:52.555855Z"
    },
    "id": "Ct-LJJYahVpN"
   },
   "outputs": [],
   "source": [
    "X_, classes = make_classification(n_samples=200, n_features=2, random_state=42,\n",
    "                                    n_informative=2, n_redundant=0)\n",
    "classes = 2 * classes - 1\n",
    "model = SVC(kernel='linear', random_state=0)\n",
    "model.fit(X_, classes)\n",
    "feat_1, feat_2 = np.split(X_, 2, axis=1)"
   ]
  },
  {
   "cell_type": "markdown",
   "metadata": {
    "id": "8r_wYv1YhVpN"
   },
   "source": [
    "Visualization:"
   ]
  },
  {
   "cell_type": "code",
   "execution_count": 12,
   "metadata": {
    "ExecuteTime": {
     "end_time": "2021-11-21T19:54:34.149576Z",
     "start_time": "2021-11-21T19:54:33.407236Z"
    },
    "colab": {
     "base_uri": "https://localhost:8080/",
     "height": 573
    },
    "id": "3-Dule-KhVpN",
    "outputId": "a665d1fc-6ba9-4739-f380-369ecb800040"
   },
   "outputs": [
    {
     "data": {
      "image/png": "[encoded data removed]",
      "text/plain": [
       "<Figure size 2280x1140 with 1 Axes>"
      ]
     },
     "metadata": {
      "needs_background": "light"
     },
     "output_type": "display_data"
    }
   ],
   "source": [
    "plt.figure(figsize=(10, 5), dpi=228)\n",
    "plt.title('SVM, 2 features')\n",
    "plt.xlabel('Feature 1')\n",
    "plt.ylabel('Feature 2')\n",
    "plt.tight_layout()\n",
    "\n",
    "x_pl, y_pl = np.meshgrid(np.linspace(-10, 10, 5), np.linspace(-10, 10, 5))\n",
    "xy = np.vstack([x_pl.ravel(), y_pl.ravel()]).T\n",
    "cls = plt.contour(x_pl, y_pl, model.decision_function(xy).reshape(x_pl.shape),\n",
    "                  colors=['g', 'r', 'b'], levels=[-1, 0, 1],\n",
    "                  linestyles=['--', '-', '--']).collections\n",
    "\n",
    "# SVM borders in legend\n",
    "for cl, _ in zip(cls, [-1, 0, 1]):\n",
    "    cl.set_label(r'$\\mathbf{w}^T \\mathbf{x}+w_0=' + str(_) + '$')\n",
    "\n",
    "# scatter vis and legend\n",
    "for class_, color in zip([-1, 1], ['g', 'b']):\n",
    "    class_ind = (classes == class_).nonzero()[0]\n",
    "    supp_ind = np.intersect1d(class_ind, model.support_)\n",
    "    \n",
    "    #all\n",
    "    plt.scatter(feat_1[class_ind], feat_2[class_ind],\n",
    "                marker='o', label=f'class {class_:+}', linewidth=1,\n",
    "                facecolors='white', edgecolors=color, s=100)\n",
    "    #support\n",
    "    plt.scatter(feat_1[supp_ind], feat_2[supp_ind],\n",
    "                marker='$x$', label=f'support vectors of class {class_:+}', \n",
    "                facecolor=color, s=30)\n",
    "\n",
    "\n",
    "plt.xlim([-4, 5])\n",
    "plt.ylim([-5, 5])\n",
    "plt.legend()\n",
    "plt.show()"
   ]
  },
  {
   "cell_type": "markdown",
   "metadata": {
    "id": "xcIdeuB1hVpN"
   },
   "source": [
    "__Задание 2.__ Калибровка вероятностей.\n",
    "\n",
    "__(1.5 балла)__\n",
    "\n",
    "Перейдём к оценке качества выдаваемых алгоритмами вероятностей. Начнём с калибровочных кривых. \n",
    "\n",
    "Допустим, алгоритм возвращает некоторые числа от нуля до единицы. Хорошо ли они оценивают вероятность? Для этого разобьем отрезок $[0, 1]$ на несколько маленьких отрезков одинаковой длины. Рассмотрим $i$-й отрезок с границами $[a_i, b_i]$ и предсказания $p_1, p_2, \\dots, p_k$, которые попали в него. Пусть им соответствуют истинные ответы $y_1, y_2, \\dots, y_k$. Если алгоритм выдает корректные вероятности, то среди этих истинных ответов должно быть примерно $(a_i + b_i) / 2$ единиц. Иными словами, если нарисовать кривую, у которой по оси X отложены центры отрезков, а по оси Y — доли единичных ответов этих в отрезках, то она должна оказаться диагональной. \n",
    "\n",
    "* Ниже приведена функция, которая должна рисовать такие кривые. В ней допущено две ошибки — найдите и исправьте их."
   ]
  },
  {
   "cell_type": "code",
   "execution_count": 13,
   "metadata": {
    "ExecuteTime": {
     "end_time": "2021-11-21T19:59:00.879128Z",
     "start_time": "2021-11-21T19:59:00.870252Z"
    },
    "id": "dKSHCJ1KhVpO"
   },
   "outputs": [],
   "source": [
    "def plot_calibration_curve(y_test, preds):\n",
    "    \"\"\"\n",
    "    preds --- array of probabilities\n",
    "    \"\"\"\n",
    "    bin_middle_points = []\n",
    "    bin_real_ratios = []\n",
    "    n_bins = 20\n",
    "    for i in range(n_bins):\n",
    "        l = 1.0 / n_bins * i\n",
    "        r = 1.0 / n_bins * (i + 1)\n",
    "        # mistake 1: from '-' to '+'\n",
    "        bin_middle_points.append((l + r) / 2)\n",
    "        # mistake 2: from 'min' to 'mean'\n",
    "        bin_real_ratios.append(np.mean(y_test[(preds >= l) & (preds < r)] == 1))\n",
    "    plt.plot(bin_middle_points, bin_real_ratios)"
   ]
  },
  {
   "cell_type": "markdown",
   "metadata": {
    "id": "hQ5zBTKzhVpO"
   },
   "source": [
    "* **(?)** Постройте калибровочные кривые для логистической регрессии и метода опорных векторов. Изучите распределение ответов классификаторов (постройте гистограммы с помощью plt.hist). Чем они различаются? Чем вы можете объяснить это?\n",
    "\n",
    "\n",
    "**Замечания**\n",
    "* Заметим, что метод опорных векторов не умеет predict_proba, но имеет метод decision_function.\n",
    "* Для нормировки в [0,1] decision_function используйте MinMaxScaler\n",
    "* Не используйте параметр probability=True при обучении SVM -- этот параметр неявно запускает калибровку предсказания https://scikit-learn.org/stable/modules/svm.html#scores-probabilities"
   ]
  },
  {
   "cell_type": "code",
   "execution_count": 14,
   "metadata": {
    "ExecuteTime": {
     "end_time": "2021-11-21T19:59:04.435436Z",
     "start_time": "2021-11-21T19:59:04.258252Z"
    },
    "id": "My6Yg4v8hVpO"
   },
   "outputs": [],
   "source": [
    "X, y = make_classification(\n",
    "    n_samples=100000, n_features=20, n_informative=10, n_redundant=10,\n",
    "    random_state=42)\n",
    "X_train, X_test, y_train, y_test = train_test_split(\n",
    "    X, y, test_size=0.3, random_state=42)"
   ]
  },
  {
   "cell_type": "code",
   "execution_count": 15,
   "metadata": {
    "ExecuteTime": {
     "end_time": "2021-11-21T19:59:37.373983Z",
     "start_time": "2021-11-21T19:59:37.364025Z"
    },
    "id": "NRLwKWQkhVpP"
   },
   "outputs": [],
   "source": [
    "from sklearn.linear_model import LogisticRegression"
   ]
  },
  {
   "cell_type": "code",
   "execution_count": 16,
   "metadata": {
    "ExecuteTime": {
     "end_time": "2021-11-21T19:59:38.899285Z",
     "start_time": "2021-11-21T19:59:38.444053Z"
    },
    "id": "ng-ez86shVpP"
   },
   "outputs": [],
   "source": [
    "model = LinearSVC(dual=False)  # n_samples >> n_features\n",
    "model.fit(X_train, y_train)\n",
    "y_svm_score = model.decision_function(X_test)\n",
    "# MinMaxScaling\n",
    "y_svm_proba = (y_svm_score - y_svm_score.min()) / (y_svm_score.max() - y_svm_score.min())"
   ]
  },
  {
   "cell_type": "code",
   "execution_count": 17,
   "metadata": {
    "ExecuteTime": {
     "end_time": "2021-11-21T19:59:39.966557Z",
     "start_time": "2021-11-21T19:59:39.770077Z"
    },
    "id": "1bRKh5vEhVpP"
   },
   "outputs": [],
   "source": [
    "model = LogisticRegression()\n",
    "model.fit(X_train, y_train)\n",
    "y_logreg_proba = model.predict_proba(X_test)[:, 1]"
   ]
  },
  {
   "cell_type": "code",
   "execution_count": 18,
   "metadata": {
    "ExecuteTime": {
     "end_time": "2021-11-21T20:06:26.323863Z",
     "start_time": "2021-11-21T20:06:26.316140Z"
    },
    "id": "IPmJEGLzhVpP"
   },
   "outputs": [],
   "source": [
    "# custom plot fucntion\n",
    "def my_plot_calibration_curve(y_test, preds, n_bins=20, name=None, color=None):\n",
    "    bin_middle_points = []\n",
    "    bin_real_ratios = []\n",
    "    for i in range(n_bins):\n",
    "        l = 1.0 / n_bins * i\n",
    "        r = 1.0 / n_bins * (i + 1)\n",
    "        bin_middle_points.append((l + r) / 2)\n",
    "        bin_real_ratios.append(np.mean(y_test[(preds >= l) & (preds < r)] == 1))\n",
    "    plt.plot(bin_middle_points, bin_real_ratios, marker='o',\n",
    "             label=name, color=color)"
   ]
  },
  {
   "cell_type": "code",
   "execution_count": 19,
   "metadata": {
    "ExecuteTime": {
     "end_time": "2021-11-21T20:06:38.471566Z",
     "start_time": "2021-11-21T20:06:38.457803Z"
    },
    "id": "ZqZa1CfShVpP"
   },
   "outputs": [],
   "source": [
    "def plot_calib_hist(n_bins=20, eps=0.02):\n",
    "    plt.figure(figsize=(11, 4.5))\n",
    "\n",
    "    plt.subplot(121, aspect='equal')\n",
    "    plt.title('Calibration curves')\n",
    "    my_plot_calibration_curve(y_test, y_svm_proba, n_bins=n_bins,\n",
    "        name='SVM', color='b')\n",
    "    my_plot_calibration_curve(y_test, y_logreg_proba, n_bins=n_bins, name='Logistic regression', color='g')\n",
    "    plt.plot([0, 1], color='grey', linestyle='--',\n",
    "             label='Ideal calibration')\n",
    "    plt.xlim([-eps, 1 + eps])\n",
    "    plt.ylim([-eps, 1 + eps])\n",
    "    plt.xticks(np.linspace(0, 1, 11))\n",
    "    plt.yticks(np.linspace(0, 1, 11))\n",
    "    plt.xlabel('Predicted proba')\n",
    "    plt.ylabel('Fraction of class +1')\n",
    "    plt.legend()\n",
    "    plt.grid(True)\n",
    "    \n",
    "    plt.subplot(122)\n",
    "    plt.title('Histograms')\n",
    "    plt.hist([y_svm_proba, y_logreg_proba], color=['b', 'g'], bins=n_bins, label=['SVM', 'Logistic regression'])\n",
    "    plt.xlim([0, 1])\n",
    "    plt.xticks(np.linspace(0, 1, 11))\n",
    "    plt.xlabel('Predicted proba')\n",
    "    plt.ylabel('Samples quantity')\n",
    "    plt.legend()\n",
    "    plt.grid(True)\n",
    "\n",
    "    plt.tight_layout()"
   ]
  },
  {
   "cell_type": "code",
   "execution_count": 20,
   "metadata": {
    "ExecuteTime": {
     "end_time": "2021-11-21T20:06:41.384312Z",
     "start_time": "2021-11-21T20:06:40.524241Z"
    },
    "colab": {
     "base_uri": "https://localhost:8080/",
     "height": 333
    },
    "id": "Ck89mMTohVpQ",
    "outputId": "27d4f1b6-c9f0-4078-c3a1-dbfe716676c6"
   },
   "outputs": [
    {
     "data": {
      "image/png": "[encoded data removed]",
      "text/plain": [
       "<Figure size 792x324 with 2 Axes>"
      ]
     },
     "metadata": {
      "needs_background": "light"
     },
     "output_type": "display_data"
    }
   ],
   "source": [
    "plot_calib_hist()"
   ]
  },
  {
   "cell_type": "markdown",
   "metadata": {
    "id": "8atOiCochVpQ"
   },
   "source": [
    "* По графику калибровочных кривых, что LogReg имеет хорошо откалиброванные ответы. А SVM даёт большие вероятности на малой доле положительных классов и малые вероятности на большой доле положительных классов.\n",
    "* Ответы LogReg распределены в основном по крайним значениям (LogReg минимизирует Log(Loss)), а ответы SVM -наоборот, по центральным (вероятности SVM не откалиброваны)"
   ]
  },
  {
   "cell_type": "markdown",
   "metadata": {
    "id": "01VgsHe8hVpQ"
   },
   "source": [
    "**(?)** Воспользуйтесь CalibratedClassifierCV из sklearn для калибровки вероятностей метода опорных векторов на обучении и постройте с его помощью предсказания для тестовой выборки. Нарисуйте для них калибровочную кривую. Улучшилась ли она?"
   ]
  },
  {
   "cell_type": "code",
   "execution_count": 21,
   "metadata": {
    "ExecuteTime": {
     "end_time": "2021-11-21T20:07:01.678470Z",
     "start_time": "2021-11-21T20:07:01.604590Z"
    },
    "id": "d2W2ToEHhVpQ"
   },
   "outputs": [],
   "source": [
    "from sklearn.calibration import CalibratedClassifierCV"
   ]
  },
  {
   "cell_type": "code",
   "execution_count": 22,
   "metadata": {
    "ExecuteTime": {
     "end_time": "2021-11-21T20:07:05.863997Z",
     "start_time": "2021-11-21T20:07:03.743467Z"
    },
    "id": "9rnzMt4AhVpR"
   },
   "outputs": [],
   "source": [
    "model = CalibratedClassifierCV(LinearSVC(dual=False), method='sigmoid')\n",
    "model.fit(X_train, y_train)\n",
    "y_svm_proba = model.predict_proba(X_test)[:, 1]"
   ]
  },
  {
   "cell_type": "code",
   "execution_count": 23,
   "metadata": {
    "ExecuteTime": {
     "end_time": "2021-11-21T20:07:07.072933Z",
     "start_time": "2021-11-21T20:07:06.154173Z"
    },
    "colab": {
     "base_uri": "https://localhost:8080/",
     "height": 333
    },
    "id": "hzXzYkQthVpR",
    "outputId": "07d4affa-1e3c-468b-f4ad-73d1a60b96a3"
   },
   "outputs": [
    {
     "data": {
      "image/png": "[encoded data removed]",
      "text/plain": [
       "<Figure size 792x324 with 2 Axes>"
      ]
     },
     "metadata": {
      "needs_background": "light"
     },
     "output_type": "display_data"
    }
   ],
   "source": [
    "plot_calib_hist()"
   ]
  },
  {
   "cell_type": "markdown",
   "metadata": {
    "id": "pl5ppjHqhVpR"
   },
   "source": [
    "Сравним откалиброванны SVM с LogReg - очень похоже. Калибровочная кривая улучшилась, вероятности стали близкими к LogReg, к верным. То есть калибровка SVM с помощью сигмоиды прошла успешно."
   ]
  },
  {
   "cell_type": "markdown",
   "metadata": {
    "id": "NyeCgRurhVpR"
   },
   "source": [
    "__Бонусное задание (1 балл).__ Реализуйте свою функцию для калибровки вероятностей. Опишите ваш подход и продемонстрируйте результаты."
   ]
  },
  {
   "cell_type": "code",
   "execution_count": 24,
   "metadata": {
    "ExecuteTime": {
     "end_time": "2021-11-21T19:56:14.399559Z",
     "start_time": "2021-11-21T19:56:14.387293Z"
    },
    "id": "LVAkY1WyhVpR"
   },
   "outputs": [],
   "source": [
    "def my_plot_calibration_curve(y_test, preds, n_bins=20,\n",
    "                                  name=None, color=None):\n",
    "    bin_middle_points = []\n",
    "    bin_real_ratios = []\n",
    "    for i in range(n_bins):\n",
    "        l = 1.0 / n_bins * i\n",
    "        r = 1.0 / n_bins * (i + 1)\n",
    "        bin_middle_points.append((l + r) / 2)\n",
    "        bin_real_ratios.append(np.mean(y_test[(preds >= l) & (preds < r)] == 1))\n",
    "    plt.plot(bin_middle_points, bin_real_ratios, marker='o',\n",
    "             label=name, color=color)"
   ]
  },
  {
   "cell_type": "markdown",
   "metadata": {
    "id": "ap3bTkS6hVpR"
   },
   "source": [
    "Используем нашу функцию калибровки `my_plot_calibration_curve` для прошлых вопросов."
   ]
  },
  {
   "cell_type": "markdown",
   "metadata": {
    "id": "_Vln6CpahVpS"
   },
   "source": [
    "## Часть 2. Логистическая регрессия."
   ]
  },
  {
   "cell_type": "markdown",
   "metadata": {
    "id": "B3ha7xs7hVpS"
   },
   "source": [
    "__Задание 3.__ Обучение логистической регрессии на реальных данных и оценка качества классификации.\n",
    "\n",
    "**(1 балл)**"
   ]
  },
  {
   "cell_type": "markdown",
   "metadata": {
    "ExecuteTime": {
     "end_time": "2018-10-11T20:41:54.913436Z",
     "start_time": "2018-10-11T20:41:54.907515Z"
    },
    "id": "LgRusPZ0hVpS"
   },
   "source": [
    "__Подготовка данных.__\n",
    "\n",
    "Загрузим данные с конкурса  [Kaggle Porto Seguro’s Safe Driver Prediction](https://www.kaggle.com/c/porto-seguro-safe-driver-prediction) (вам нужна только обучающая выборка). Задача состоит в определении водителей, которые в ближайший год воспользуются своей автомобильной страховкой (бинарная классификация). Но для нас важна будет не сама задача, а только её данные. При этом под нужды задания мы немного модифицируем датасет."
   ]
  },
  {
   "cell_type": "code",
   "execution_count": 25,
   "metadata": {
    "ExecuteTime": {
     "end_time": "2021-11-21T20:27:43.725528Z",
     "start_time": "2021-11-21T20:27:39.342142Z"
    },
    "id": "k6qQpD9_hVpS"
   },
   "outputs": [],
   "source": [
    "data = pd.read_csv('drive/MyDrive/train.csv', index_col=0)\n",
    "target = data.target.values\n",
    "data = data.drop('target', axis=1)"
   ]
  },
  {
   "cell_type": "markdown",
   "metadata": {
    "id": "ap4Bjz_fhVpS"
   },
   "source": [
    "Пересемплируем выборку так, чтобы положительных и отрицательных объектов в выборке было одинаковое число. Разделим на обучающую и тестовую выборки.\n"
   ]
  },
  {
   "cell_type": "code",
   "execution_count": 26,
   "metadata": {
    "id": "ovkP1qFQoTAb"
   },
   "outputs": [],
   "source": [
    "np.random.seed(910)"
   ]
  },
  {
   "cell_type": "code",
   "execution_count": 27,
   "metadata": {
    "ExecuteTime": {
     "end_time": "2021-11-21T20:27:44.566815Z",
     "start_time": "2021-11-21T20:27:43.727522Z"
    },
    "id": "RqahzbLrhVpS"
   },
   "outputs": [],
   "source": [
    "mask_one = np.random.choice(np.where(target == 1)[0], 100000, replace=True)\n",
    "mask_zero = np.random.choice(np.where(target == 0)[0], 100000, replace=True)\n",
    "data = pd.concat((data.iloc[mask_one], data.iloc[mask_zero]))\n",
    "target = np.hstack((target[mask_one], target[mask_zero]))\n",
    "\n",
    "X_train, X_test, y_train, y_test = train_test_split(data, target, test_size=0.5)"
   ]
  },
  {
   "cell_type": "code",
   "execution_count": 28,
   "metadata": {
    "ExecuteTime": {
     "end_time": "2021-11-21T20:28:33.807841Z",
     "start_time": "2021-11-21T20:28:33.262071Z"
    },
    "colab": {
     "base_uri": "https://localhost:8080/",
     "height": 320
    },
    "id": "2q78xv0ohVpS",
    "outputId": "e6119c04-182b-4ab9-c511-f127f1abab88"
   },
   "outputs": [
    {
     "data": {
      "text/html": [
       "<div>\n",
       "<style scoped>\n",
       "    .dataframe tbody tr th:only-of-type {\n",
       "        vertical-align: middle;\n",
       "    }\n",
       "\n",
       "    .dataframe tbody tr th {\n",
       "        vertical-align: top;\n",
       "    }\n",
       "\n",
       "    .dataframe thead th {\n",
       "        text-align: right;\n",
       "    }\n",
       "</style>\n",
       "<table border=\"1\" class=\"dataframe\">\n",
       "  <thead>\n",
       "    <tr style=\"text-align: right;\">\n",
       "      <th></th>\n",
       "      <th>ps_ind_01</th>\n",
       "      <th>ps_ind_02_cat</th>\n",
       "      <th>ps_ind_03</th>\n",
       "      <th>ps_ind_04_cat</th>\n",
       "      <th>ps_ind_05_cat</th>\n",
       "      <th>ps_ind_06_bin</th>\n",
       "      <th>ps_ind_07_bin</th>\n",
       "      <th>ps_ind_08_bin</th>\n",
       "      <th>ps_ind_09_bin</th>\n",
       "      <th>ps_ind_10_bin</th>\n",
       "      <th>ps_ind_11_bin</th>\n",
       "      <th>ps_ind_12_bin</th>\n",
       "      <th>ps_ind_13_bin</th>\n",
       "      <th>ps_ind_14</th>\n",
       "      <th>ps_ind_15</th>\n",
       "      <th>ps_ind_16_bin</th>\n",
       "      <th>ps_ind_17_bin</th>\n",
       "      <th>ps_ind_18_bin</th>\n",
       "      <th>ps_reg_01</th>\n",
       "      <th>ps_reg_02</th>\n",
       "      <th>ps_reg_03</th>\n",
       "      <th>ps_car_01_cat</th>\n",
       "      <th>ps_car_02_cat</th>\n",
       "      <th>ps_car_03_cat</th>\n",
       "      <th>ps_car_04_cat</th>\n",
       "      <th>ps_car_05_cat</th>\n",
       "      <th>ps_car_06_cat</th>\n",
       "      <th>ps_car_07_cat</th>\n",
       "      <th>ps_car_08_cat</th>\n",
       "      <th>ps_car_09_cat</th>\n",
       "      <th>ps_car_10_cat</th>\n",
       "      <th>ps_car_11_cat</th>\n",
       "      <th>ps_car_11</th>\n",
       "      <th>ps_car_12</th>\n",
       "      <th>ps_car_13</th>\n",
       "      <th>ps_car_14</th>\n",
       "      <th>ps_car_15</th>\n",
       "      <th>ps_calc_01</th>\n",
       "      <th>ps_calc_02</th>\n",
       "      <th>ps_calc_03</th>\n",
       "      <th>ps_calc_04</th>\n",
       "      <th>ps_calc_05</th>\n",
       "      <th>ps_calc_06</th>\n",
       "      <th>ps_calc_07</th>\n",
       "      <th>ps_calc_08</th>\n",
       "      <th>ps_calc_09</th>\n",
       "      <th>ps_calc_10</th>\n",
       "      <th>ps_calc_11</th>\n",
       "      <th>ps_calc_12</th>\n",
       "      <th>ps_calc_13</th>\n",
       "      <th>ps_calc_14</th>\n",
       "      <th>ps_calc_15_bin</th>\n",
       "      <th>ps_calc_16_bin</th>\n",
       "      <th>ps_calc_17_bin</th>\n",
       "      <th>ps_calc_18_bin</th>\n",
       "      <th>ps_calc_19_bin</th>\n",
       "      <th>ps_calc_20_bin</th>\n",
       "    </tr>\n",
       "  </thead>\n",
       "  <tbody>\n",
       "    <tr>\n",
       "      <th>count</th>\n",
       "      <td>100000.000000</td>\n",
       "      <td>100000.00000</td>\n",
       "      <td>100000.000000</td>\n",
       "      <td>100000.00000</td>\n",
       "      <td>100000.000000</td>\n",
       "      <td>100000.000000</td>\n",
       "      <td>100000.000000</td>\n",
       "      <td>100000.000000</td>\n",
       "      <td>100000.000000</td>\n",
       "      <td>100000.000000</td>\n",
       "      <td>100000.000000</td>\n",
       "      <td>100000.000000</td>\n",
       "      <td>100000.000000</td>\n",
       "      <td>100000.000000</td>\n",
       "      <td>100000.000000</td>\n",
       "      <td>100000.000000</td>\n",
       "      <td>100000.000000</td>\n",
       "      <td>100000.000000</td>\n",
       "      <td>100000.000000</td>\n",
       "      <td>100000.000000</td>\n",
       "      <td>100000.000000</td>\n",
       "      <td>100000.00000</td>\n",
       "      <td>100000.000000</td>\n",
       "      <td>100000.000000</td>\n",
       "      <td>100000.000000</td>\n",
       "      <td>100000.000000</td>\n",
       "      <td>100000.000000</td>\n",
       "      <td>100000.000000</td>\n",
       "      <td>100000.00000</td>\n",
       "      <td>100000.00000</td>\n",
       "      <td>100000.000000</td>\n",
       "      <td>100000.000000</td>\n",
       "      <td>100000.000000</td>\n",
       "      <td>100000.000000</td>\n",
       "      <td>100000.000000</td>\n",
       "      <td>100000.000000</td>\n",
       "      <td>100000.000000</td>\n",
       "      <td>100000.000000</td>\n",
       "      <td>100000.000000</td>\n",
       "      <td>100000.000000</td>\n",
       "      <td>100000.00000</td>\n",
       "      <td>100000.00000</td>\n",
       "      <td>100000.000000</td>\n",
       "      <td>100000.000000</td>\n",
       "      <td>100000.00000</td>\n",
       "      <td>100000.000000</td>\n",
       "      <td>100000.000000</td>\n",
       "      <td>100000.000000</td>\n",
       "      <td>100000.000000</td>\n",
       "      <td>100000.00000</td>\n",
       "      <td>100000.000000</td>\n",
       "      <td>100000.000000</td>\n",
       "      <td>100000.000000</td>\n",
       "      <td>100000.000000</td>\n",
       "      <td>100000.000000</td>\n",
       "      <td>100000.000000</td>\n",
       "      <td>100000.000000</td>\n",
       "    </tr>\n",
       "    <tr>\n",
       "      <th>mean</th>\n",
       "      <td>2.004130</td>\n",
       "      <td>1.37000</td>\n",
       "      <td>4.497130</td>\n",
       "      <td>0.42935</td>\n",
       "      <td>0.500320</td>\n",
       "      <td>0.351120</td>\n",
       "      <td>0.292770</td>\n",
       "      <td>0.178180</td>\n",
       "      <td>0.177930</td>\n",
       "      <td>0.000450</td>\n",
       "      <td>0.001810</td>\n",
       "      <td>0.011150</td>\n",
       "      <td>0.001040</td>\n",
       "      <td>0.014450</td>\n",
       "      <td>7.115580</td>\n",
       "      <td>0.629090</td>\n",
       "      <td>0.151070</td>\n",
       "      <td>0.156200</td>\n",
       "      <td>0.628948</td>\n",
       "      <td>0.476676</td>\n",
       "      <td>0.616771</td>\n",
       "      <td>8.40946</td>\n",
       "      <td>0.801810</td>\n",
       "      <td>-0.436890</td>\n",
       "      <td>0.901700</td>\n",
       "      <td>-0.109130</td>\n",
       "      <td>6.718940</td>\n",
       "      <td>0.878790</td>\n",
       "      <td>0.81344</td>\n",
       "      <td>1.34322</td>\n",
       "      <td>0.992170</td>\n",
       "      <td>62.683100</td>\n",
       "      <td>2.338520</td>\n",
       "      <td>0.385403</td>\n",
       "      <td>0.842344</td>\n",
       "      <td>0.272787</td>\n",
       "      <td>3.114183</td>\n",
       "      <td>0.451190</td>\n",
       "      <td>0.449873</td>\n",
       "      <td>0.450285</td>\n",
       "      <td>2.37211</td>\n",
       "      <td>1.89083</td>\n",
       "      <td>7.683070</td>\n",
       "      <td>3.008300</td>\n",
       "      <td>9.23313</td>\n",
       "      <td>2.337070</td>\n",
       "      <td>8.443470</td>\n",
       "      <td>5.447950</td>\n",
       "      <td>1.441040</td>\n",
       "      <td>2.87945</td>\n",
       "      <td>7.555420</td>\n",
       "      <td>0.123140</td>\n",
       "      <td>0.631210</td>\n",
       "      <td>0.554500</td>\n",
       "      <td>0.287040</td>\n",
       "      <td>0.344120</td>\n",
       "      <td>0.151950</td>\n",
       "    </tr>\n",
       "    <tr>\n",
       "      <th>std</th>\n",
       "      <td>2.019429</td>\n",
       "      <td>0.67912</td>\n",
       "      <td>2.744301</td>\n",
       "      <td>0.49662</td>\n",
       "      <td>1.500394</td>\n",
       "      <td>0.477323</td>\n",
       "      <td>0.455036</td>\n",
       "      <td>0.382666</td>\n",
       "      <td>0.382456</td>\n",
       "      <td>0.021209</td>\n",
       "      <td>0.042506</td>\n",
       "      <td>0.105004</td>\n",
       "      <td>0.032232</td>\n",
       "      <td>0.137264</td>\n",
       "      <td>3.556255</td>\n",
       "      <td>0.483051</td>\n",
       "      <td>0.358119</td>\n",
       "      <td>0.363047</td>\n",
       "      <td>0.282497</td>\n",
       "      <td>0.427596</td>\n",
       "      <td>0.777430</td>\n",
       "      <td>2.56548</td>\n",
       "      <td>0.398638</td>\n",
       "      <td>0.824842</td>\n",
       "      <td>2.386532</td>\n",
       "      <td>0.844931</td>\n",
       "      <td>5.533163</td>\n",
       "      <td>0.408876</td>\n",
       "      <td>0.38956</td>\n",
       "      <td>0.97450</td>\n",
       "      <td>0.091372</td>\n",
       "      <td>33.316994</td>\n",
       "      <td>0.844672</td>\n",
       "      <td>0.061683</td>\n",
       "      <td>0.245477</td>\n",
       "      <td>0.364555</td>\n",
       "      <td>0.691499</td>\n",
       "      <td>0.286483</td>\n",
       "      <td>0.286704</td>\n",
       "      <td>0.286812</td>\n",
       "      <td>1.11669</td>\n",
       "      <td>1.13966</td>\n",
       "      <td>1.331316</td>\n",
       "      <td>1.422825</td>\n",
       "      <td>1.45839</td>\n",
       "      <td>1.249292</td>\n",
       "      <td>2.905706</td>\n",
       "      <td>2.341304</td>\n",
       "      <td>1.201282</td>\n",
       "      <td>1.69067</td>\n",
       "      <td>2.749553</td>\n",
       "      <td>0.328599</td>\n",
       "      <td>0.482479</td>\n",
       "      <td>0.497023</td>\n",
       "      <td>0.452383</td>\n",
       "      <td>0.475083</td>\n",
       "      <td>0.358974</td>\n",
       "    </tr>\n",
       "    <tr>\n",
       "      <th>min</th>\n",
       "      <td>0.000000</td>\n",
       "      <td>-1.00000</td>\n",
       "      <td>0.000000</td>\n",
       "      <td>-1.00000</td>\n",
       "      <td>-1.000000</td>\n",
       "      <td>0.000000</td>\n",
       "      <td>0.000000</td>\n",
       "      <td>0.000000</td>\n",
       "      <td>0.000000</td>\n",
       "      <td>0.000000</td>\n",
       "      <td>0.000000</td>\n",
       "      <td>0.000000</td>\n",
       "      <td>0.000000</td>\n",
       "      <td>0.000000</td>\n",
       "      <td>0.000000</td>\n",
       "      <td>0.000000</td>\n",
       "      <td>0.000000</td>\n",
       "      <td>0.000000</td>\n",
       "      <td>0.000000</td>\n",
       "      <td>0.000000</td>\n",
       "      <td>-1.000000</td>\n",
       "      <td>-1.00000</td>\n",
       "      <td>0.000000</td>\n",
       "      <td>-1.000000</td>\n",
       "      <td>0.000000</td>\n",
       "      <td>-1.000000</td>\n",
       "      <td>0.000000</td>\n",
       "      <td>-1.000000</td>\n",
       "      <td>0.00000</td>\n",
       "      <td>-1.00000</td>\n",
       "      <td>0.000000</td>\n",
       "      <td>1.000000</td>\n",
       "      <td>-1.000000</td>\n",
       "      <td>0.141421</td>\n",
       "      <td>0.310658</td>\n",
       "      <td>-1.000000</td>\n",
       "      <td>0.000000</td>\n",
       "      <td>0.000000</td>\n",
       "      <td>0.000000</td>\n",
       "      <td>0.000000</td>\n",
       "      <td>0.00000</td>\n",
       "      <td>0.00000</td>\n",
       "      <td>1.000000</td>\n",
       "      <td>0.000000</td>\n",
       "      <td>2.00000</td>\n",
       "      <td>0.000000</td>\n",
       "      <td>0.000000</td>\n",
       "      <td>0.000000</td>\n",
       "      <td>0.000000</td>\n",
       "      <td>0.00000</td>\n",
       "      <td>0.000000</td>\n",
       "      <td>0.000000</td>\n",
       "      <td>0.000000</td>\n",
       "      <td>0.000000</td>\n",
       "      <td>0.000000</td>\n",
       "      <td>0.000000</td>\n",
       "      <td>0.000000</td>\n",
       "    </tr>\n",
       "    <tr>\n",
       "      <th>25%</th>\n",
       "      <td>0.000000</td>\n",
       "      <td>1.00000</td>\n",
       "      <td>2.000000</td>\n",
       "      <td>0.00000</td>\n",
       "      <td>0.000000</td>\n",
       "      <td>0.000000</td>\n",
       "      <td>0.000000</td>\n",
       "      <td>0.000000</td>\n",
       "      <td>0.000000</td>\n",
       "      <td>0.000000</td>\n",
       "      <td>0.000000</td>\n",
       "      <td>0.000000</td>\n",
       "      <td>0.000000</td>\n",
       "      <td>0.000000</td>\n",
       "      <td>5.000000</td>\n",
       "      <td>0.000000</td>\n",
       "      <td>0.000000</td>\n",
       "      <td>0.000000</td>\n",
       "      <td>0.400000</td>\n",
       "      <td>0.200000</td>\n",
       "      <td>0.554527</td>\n",
       "      <td>7.00000</td>\n",
       "      <td>1.000000</td>\n",
       "      <td>-1.000000</td>\n",
       "      <td>0.000000</td>\n",
       "      <td>-1.000000</td>\n",
       "      <td>1.000000</td>\n",
       "      <td>1.000000</td>\n",
       "      <td>1.00000</td>\n",
       "      <td>0.00000</td>\n",
       "      <td>1.000000</td>\n",
       "      <td>32.000000</td>\n",
       "      <td>2.000000</td>\n",
       "      <td>0.316228</td>\n",
       "      <td>0.684676</td>\n",
       "      <td>0.330454</td>\n",
       "      <td>2.828427</td>\n",
       "      <td>0.200000</td>\n",
       "      <td>0.200000</td>\n",
       "      <td>0.200000</td>\n",
       "      <td>2.00000</td>\n",
       "      <td>1.00000</td>\n",
       "      <td>7.000000</td>\n",
       "      <td>2.000000</td>\n",
       "      <td>8.00000</td>\n",
       "      <td>1.000000</td>\n",
       "      <td>6.000000</td>\n",
       "      <td>4.000000</td>\n",
       "      <td>1.000000</td>\n",
       "      <td>2.00000</td>\n",
       "      <td>6.000000</td>\n",
       "      <td>0.000000</td>\n",
       "      <td>0.000000</td>\n",
       "      <td>0.000000</td>\n",
       "      <td>0.000000</td>\n",
       "      <td>0.000000</td>\n",
       "      <td>0.000000</td>\n",
       "    </tr>\n",
       "    <tr>\n",
       "      <th>50%</th>\n",
       "      <td>1.000000</td>\n",
       "      <td>1.00000</td>\n",
       "      <td>4.000000</td>\n",
       "      <td>0.00000</td>\n",
       "      <td>0.000000</td>\n",
       "      <td>0.000000</td>\n",
       "      <td>0.000000</td>\n",
       "      <td>0.000000</td>\n",
       "      <td>0.000000</td>\n",
       "      <td>0.000000</td>\n",
       "      <td>0.000000</td>\n",
       "      <td>0.000000</td>\n",
       "      <td>0.000000</td>\n",
       "      <td>0.000000</td>\n",
       "      <td>7.000000</td>\n",
       "      <td>1.000000</td>\n",
       "      <td>0.000000</td>\n",
       "      <td>0.000000</td>\n",
       "      <td>0.700000</td>\n",
       "      <td>0.300000</td>\n",
       "      <td>0.759111</td>\n",
       "      <td>9.00000</td>\n",
       "      <td>1.000000</td>\n",
       "      <td>-1.000000</td>\n",
       "      <td>0.000000</td>\n",
       "      <td>0.000000</td>\n",
       "      <td>7.000000</td>\n",
       "      <td>1.000000</td>\n",
       "      <td>1.00000</td>\n",
       "      <td>2.00000</td>\n",
       "      <td>1.000000</td>\n",
       "      <td>65.000000</td>\n",
       "      <td>3.000000</td>\n",
       "      <td>0.387298</td>\n",
       "      <td>0.787558</td>\n",
       "      <td>0.368782</td>\n",
       "      <td>3.316625</td>\n",
       "      <td>0.500000</td>\n",
       "      <td>0.500000</td>\n",
       "      <td>0.500000</td>\n",
       "      <td>2.00000</td>\n",
       "      <td>2.00000</td>\n",
       "      <td>8.000000</td>\n",
       "      <td>3.000000</td>\n",
       "      <td>9.00000</td>\n",
       "      <td>2.000000</td>\n",
       "      <td>8.000000</td>\n",
       "      <td>5.000000</td>\n",
       "      <td>1.000000</td>\n",
       "      <td>3.00000</td>\n",
       "      <td>7.000000</td>\n",
       "      <td>0.000000</td>\n",
       "      <td>1.000000</td>\n",
       "      <td>1.000000</td>\n",
       "      <td>0.000000</td>\n",
       "      <td>0.000000</td>\n",
       "      <td>0.000000</td>\n",
       "    </tr>\n",
       "    <tr>\n",
       "      <th>75%</th>\n",
       "      <td>3.000000</td>\n",
       "      <td>2.00000</td>\n",
       "      <td>7.000000</td>\n",
       "      <td>1.00000</td>\n",
       "      <td>0.000000</td>\n",
       "      <td>1.000000</td>\n",
       "      <td>1.000000</td>\n",
       "      <td>0.000000</td>\n",
       "      <td>0.000000</td>\n",
       "      <td>0.000000</td>\n",
       "      <td>0.000000</td>\n",
       "      <td>0.000000</td>\n",
       "      <td>0.000000</td>\n",
       "      <td>0.000000</td>\n",
       "      <td>10.000000</td>\n",
       "      <td>1.000000</td>\n",
       "      <td>0.000000</td>\n",
       "      <td>0.000000</td>\n",
       "      <td>0.900000</td>\n",
       "      <td>0.700000</td>\n",
       "      <td>1.059776</td>\n",
       "      <td>11.00000</td>\n",
       "      <td>1.000000</td>\n",
       "      <td>0.000000</td>\n",
       "      <td>0.000000</td>\n",
       "      <td>1.000000</td>\n",
       "      <td>11.000000</td>\n",
       "      <td>1.000000</td>\n",
       "      <td>1.00000</td>\n",
       "      <td>2.00000</td>\n",
       "      <td>1.000000</td>\n",
       "      <td>95.000000</td>\n",
       "      <td>3.000000</td>\n",
       "      <td>0.424264</td>\n",
       "      <td>0.941709</td>\n",
       "      <td>0.397492</td>\n",
       "      <td>3.605551</td>\n",
       "      <td>0.700000</td>\n",
       "      <td>0.700000</td>\n",
       "      <td>0.700000</td>\n",
       "      <td>3.00000</td>\n",
       "      <td>3.00000</td>\n",
       "      <td>9.000000</td>\n",
       "      <td>4.000000</td>\n",
       "      <td>10.00000</td>\n",
       "      <td>3.000000</td>\n",
       "      <td>10.000000</td>\n",
       "      <td>7.000000</td>\n",
       "      <td>2.000000</td>\n",
       "      <td>4.00000</td>\n",
       "      <td>9.000000</td>\n",
       "      <td>0.000000</td>\n",
       "      <td>1.000000</td>\n",
       "      <td>1.000000</td>\n",
       "      <td>1.000000</td>\n",
       "      <td>1.000000</td>\n",
       "      <td>0.000000</td>\n",
       "    </tr>\n",
       "    <tr>\n",
       "      <th>max</th>\n",
       "      <td>7.000000</td>\n",
       "      <td>4.00000</td>\n",
       "      <td>11.000000</td>\n",
       "      <td>1.00000</td>\n",
       "      <td>6.000000</td>\n",
       "      <td>1.000000</td>\n",
       "      <td>1.000000</td>\n",
       "      <td>1.000000</td>\n",
       "      <td>1.000000</td>\n",
       "      <td>1.000000</td>\n",
       "      <td>1.000000</td>\n",
       "      <td>1.000000</td>\n",
       "      <td>1.000000</td>\n",
       "      <td>4.000000</td>\n",
       "      <td>13.000000</td>\n",
       "      <td>1.000000</td>\n",
       "      <td>1.000000</td>\n",
       "      <td>1.000000</td>\n",
       "      <td>0.900000</td>\n",
       "      <td>1.800000</td>\n",
       "      <td>2.947457</td>\n",
       "      <td>11.00000</td>\n",
       "      <td>1.000000</td>\n",
       "      <td>1.000000</td>\n",
       "      <td>9.000000</td>\n",
       "      <td>1.000000</td>\n",
       "      <td>17.000000</td>\n",
       "      <td>1.000000</td>\n",
       "      <td>1.00000</td>\n",
       "      <td>4.00000</td>\n",
       "      <td>2.000000</td>\n",
       "      <td>104.000000</td>\n",
       "      <td>3.000000</td>\n",
       "      <td>1.264911</td>\n",
       "      <td>3.720626</td>\n",
       "      <td>0.631664</td>\n",
       "      <td>3.741657</td>\n",
       "      <td>0.900000</td>\n",
       "      <td>0.900000</td>\n",
       "      <td>0.900000</td>\n",
       "      <td>5.00000</td>\n",
       "      <td>6.00000</td>\n",
       "      <td>10.000000</td>\n",
       "      <td>9.000000</td>\n",
       "      <td>12.00000</td>\n",
       "      <td>7.000000</td>\n",
       "      <td>23.000000</td>\n",
       "      <td>16.000000</td>\n",
       "      <td>8.000000</td>\n",
       "      <td>13.00000</td>\n",
       "      <td>22.000000</td>\n",
       "      <td>1.000000</td>\n",
       "      <td>1.000000</td>\n",
       "      <td>1.000000</td>\n",
       "      <td>1.000000</td>\n",
       "      <td>1.000000</td>\n",
       "      <td>1.000000</td>\n",
       "    </tr>\n",
       "  </tbody>\n",
       "</table>\n",
       "</div>"
      ],
      "text/plain": [
       "           ps_ind_01  ps_ind_02_cat  ...  ps_calc_19_bin  ps_calc_20_bin\n",
       "count  100000.000000   100000.00000  ...   100000.000000   100000.000000\n",
       "mean        2.004130        1.37000  ...        0.344120        0.151950\n",
       "std         2.019429        0.67912  ...        0.475083        0.358974\n",
       "min         0.000000       -1.00000  ...        0.000000        0.000000\n",
       "25%         0.000000        1.00000  ...        0.000000        0.000000\n",
       "50%         1.000000        1.00000  ...        0.000000        0.000000\n",
       "75%         3.000000        2.00000  ...        1.000000        0.000000\n",
       "max         7.000000        4.00000  ...        1.000000        1.000000\n",
       "\n",
       "[8 rows x 57 columns]"
      ]
     },
     "execution_count": 28,
     "metadata": {},
     "output_type": "execute_result"
    }
   ],
   "source": [
    "X_train.describe()"
   ]
  },
  {
   "cell_type": "markdown",
   "metadata": {
    "id": "C4oh-zl0hVpS"
   },
   "source": [
    "Обучите логистическую регрессию с удобными для вас параметрами. Сделайте предсказание на тестовой части выборки."
   ]
  },
  {
   "cell_type": "code",
   "execution_count": 29,
   "metadata": {
    "ExecuteTime": {
     "end_time": "2021-11-21T20:30:34.882764Z",
     "start_time": "2021-11-21T20:29:29.965144Z"
    },
    "colab": {
     "base_uri": "https://localhost:8080/"
    },
    "id": "oDaeR3m4hVpS",
    "outputId": "7efaa69c-f8af-4476-f8d0-a003b85ad435"
   },
   "outputs": [
    {
     "name": "stderr",
     "output_type": "stream",
     "text": [
      "[Parallel(n_jobs=1)]: Using backend SequentialBackend with 1 concurrent workers.\n"
     ]
    },
    {
     "name": "stdout",
     "output_type": "stream",
     "text": [
      "convergence after 380 epochs took 43 seconds\n"
     ]
    },
    {
     "name": "stderr",
     "output_type": "stream",
     "text": [
      "[Parallel(n_jobs=1)]: Done   1 out of   1 | elapsed:   43.4s remaining:    0.0s\n",
      "[Parallel(n_jobs=1)]: Done   1 out of   1 | elapsed:   43.4s finished\n"
     ]
    }
   ],
   "source": [
    "# We will keep in mind, that:\n",
    "# 'saga' - the best optimization\n",
    "# 'sag' - the fastest optimization\n",
    "\n",
    "model = LogisticRegression(solver='saga', max_iter=1e3, penalty='none',\n",
    "                           verbose=3, tol=1e-3, random_state=0)\n",
    "model.fit(X_train, y_train)\n",
    "y_pred_proba = model.predict_proba(X_test)[:, 1]"
   ]
  },
  {
   "cell_type": "markdown",
   "metadata": {
    "id": "KLPHNVSchVpT"
   },
   "source": [
    "**(?)** Постройку ROC-кривую и Precision-Recall-кривую, посчитайте ROC-AUC и PR-AUC. Какие наблюдения и выводы по ним можно сделать? (В свободной форме)"
   ]
  },
  {
   "cell_type": "code",
   "execution_count": 30,
   "metadata": {
    "ExecuteTime": {
     "end_time": "2021-11-21T20:34:04.008805Z",
     "start_time": "2021-11-21T20:34:03.134805Z"
    },
    "colab": {
     "base_uri": "https://localhost:8080/",
     "height": 441
    },
    "id": "TYK8Pv-6hVpT",
    "outputId": "d9a90711-f941-4da8-8ae7-457d63ee0703"
   },
   "outputs": [
    {
     "data": {
      "image/png": "[encoded data removed]",
      "text/plain": [
       "<Figure size 936x432 with 2 Axes>"
      ]
     },
     "metadata": {
      "needs_background": "light"
     },
     "output_type": "display_data"
    }
   ],
   "source": [
    "fpr, tpr, thr = roc_curve(y_test, y_pred_proba)\n",
    "precision, recall, thr = precision_recall_curve(y_test, y_pred_proba)\n",
    "fig, axes = plt.subplots(1, 2, figsize=(13, 6), tight_layout=True)\n",
    "plot_curve_w_auc(axes[0], 'ROC curve', fpr, tpr, 'g', 'FPR', 'TPR')\n",
    "plot_curve_w_auc(axes[1], 'PR curve', recall, precision, 'b', 'Recall', 'Precision')"
   ]
  },
  {
   "cell_type": "markdown",
   "metadata": {
    "id": "6Dvp47VWhVpT"
   },
   "source": [
    "**Ответ**:\n",
    "\n",
    "Когда $recall = 1$, $precision \\approx \\frac{1}{2} \\Rightarrow$ сбалансированность классов на `train` и `test`.\n",
    "\n",
    "Также AUC качество модели невелико"
   ]
  },
  {
   "cell_type": "markdown",
   "metadata": {
    "id": "GEJqudPuhVpT"
   },
   "source": [
    "__Задание 4.__ Изучение влияния регуляризатора на процесс обучения\n",
    "\n",
    "__(1.5 балла)__\n",
    "\n",
    "Проверьте на практике, как влияет регуляризатор на процесс обучения (убывание функции потерь на обучающей и отложенной выборках). Чтобы считать функцию потерь на отложенной выборке после каждой итерации, можно воспользоваться параметром `warm_start` у `sklearn.linear_model.LogisticRegression` либо методом `partial_fit` `sklearn.linear_model.SGDClassifier` (параметр `loss` тогда должен быть равен `log`).\n",
    "\n",
    "Замечание:\n",
    "* Для каждого $\\alpha$ своя функция на графике; функции можно отображать на одном полотне **обязательно с легендой;** если $\\alpha$ слишком много и на одном полотне они выглядят грязно, то можно строить на нескольких, однако в этом случае рекомендуется приводить масштаб и деления (min, max значения) на оси $y$ к одним  и тем же значениям --- так визуально будет очень просто сравнить графики и сделать выводы :)\n",
    "* $\\alpha$ желательно перебирать по **логарифмической шкале** (примерно как в первом задании), однако можно использовать информацию о том, что при некоторых значениях $\\alpha$ модель не обучается хорошо и не исследовать их. Тут обязательно перебрать хотя бы 3 разных (степени в лог. шкале) $\\alpha$, больше -- приветствуется."
   ]
  },
  {
   "cell_type": "code",
   "execution_count": 31,
   "metadata": {
    "ExecuteTime": {
     "end_time": "2021-11-21T20:36:15.245896Z",
     "start_time": "2021-11-21T20:36:15.172763Z"
    },
    "id": "RBRcb1JihVpT"
   },
   "outputs": [],
   "source": [
    "from sklearn.metrics import log_loss\n",
    "from tqdm import tqdm\n",
    "from sklearn.exceptions import ConvergenceWarning\n",
    "import warnings"
   ]
  },
  {
   "cell_type": "code",
   "execution_count": 32,
   "metadata": {
    "ExecuteTime": {
     "end_time": "2021-11-21T22:37:36.146298Z",
     "start_time": "2021-11-21T22:37:36.140275Z"
    },
    "id": "vHgTq_QkhVpT"
   },
   "outputs": [],
   "source": [
    "alphas = np.logspace(-3, 3, 7)\n",
    "max_iter = 20\n",
    "epochs_quant = 30\n",
    "epochs = np.arange(1, epochs_quant+ 1)"
   ]
  },
  {
   "cell_type": "code",
   "execution_count": 33,
   "metadata": {
    "ExecuteTime": {
     "end_time": "2021-11-22T02:03:03.974442Z",
     "start_time": "2021-11-22T02:03:03.956492Z"
    },
    "id": "stuuKxLqhVpT"
   },
   "outputs": [],
   "source": [
    "import warnings\n",
    "\n",
    "# ignore warnings for correct output of progressbars\n",
    "from sklearn.exceptions import ConvergenceWarning\n",
    "warnings.filterwarnings('ignore', category=ConvergenceWarning)"
   ]
  },
  {
   "cell_type": "code",
   "execution_count": 34,
   "metadata": {
    "ExecuteTime": {
     "end_time": "2021-11-21T20:48:24.488053Z",
     "start_time": "2021-11-21T20:43:03.907773Z"
    },
    "colab": {
     "base_uri": "https://localhost:8080/"
    },
    "id": "s3Q_g8C3hVpT",
    "outputId": "5a61aad5-a252-4d1c-84fe-bd1b0be2b3e0"
   },
   "outputs": [
    {
     "name": "stderr",
     "output_type": "stream",
     "text": [
      "100%|██████████| 30/30 [01:14<00:00,  2.49s/it]\n",
      "100%|██████████| 30/30 [01:14<00:00,  2.50s/it]\n",
      "100%|██████████| 30/30 [01:14<00:00,  2.48s/it]\n",
      "100%|██████████| 30/30 [01:13<00:00,  2.46s/it]\n",
      "100%|██████████| 30/30 [01:15<00:00,  2.51s/it]\n",
      "100%|██████████| 30/30 [01:15<00:00,  2.50s/it]\n",
      "100%|██████████| 30/30 [01:14<00:00,  2.48s/it]\n"
     ]
    }
   ],
   "source": [
    "loss_arr_train = []\n",
    "loss_arr_test = []\n",
    "\n",
    "for alpha in alphas:\n",
    "    model = LogisticRegression(solver='saga', warm_start=True, C=1/alpha,\n",
    "                               max_iter=max_iter, random_state=0)\n",
    "    loss_train = []\n",
    "    loss_test = []\n",
    "    with warnings.catch_warnings():\n",
    "        warnings.filterwarnings('ignore', category=ConvergenceWarning)\n",
    "        for epoch in tqdm(epochs):\n",
    "            model.fit(X_train, y_train)\n",
    "            loss_train += [log_loss(y_train, model.predict_proba(X_train))]\n",
    "            loss_test += [log_loss(y_test, model.predict_proba(X_test))]\n",
    "    loss_arr_train += [loss_train]\n",
    "    loss_arr_test += [loss_test]"
   ]
  },
  {
   "cell_type": "markdown",
   "metadata": {
    "id": "opp2vTHuhVpU"
   },
   "source": [
    "Строим графики зависимости функции потерь от номера итерации при различных коэффициентах регуляризации:"
   ]
  },
  {
   "cell_type": "code",
   "execution_count": 35,
   "metadata": {
    "ExecuteTime": {
     "end_time": "2021-11-21T23:00:57.706158Z",
     "start_time": "2021-11-21T23:00:57.195320Z"
    },
    "colab": {
     "base_uri": "https://localhost:8080/",
     "height": 729
    },
    "id": "K4IchYhThVpU",
    "outputId": "d92d1c59-55ed-4b74-a339-25a0c64b6a8a"
   },
   "outputs": [
    {
     "data": {
      "image/png": "[encoded data removed]",
      "text/plain": [
       "<Figure size 720x720 with 4 Axes>"
      ]
     },
     "metadata": {
      "needs_background": "light"
     },
     "output_type": "display_data"
    }
   ],
   "source": [
    "plt.figure(figsize=(10, 10))\n",
    "\n",
    "for i, (losses_, title_, alphas_, ylim, subplot_) in \\\n",
    "    enumerate(zip([loss_arr_train[:3], loss_arr_test[:3],\n",
    "                      loss_arr_train[3:], loss_arr_test[3:]],\n",
    "                  ['Loss on train', 'Loss on test (valid)'] * 2,\n",
    "                  [alphas[:3]] * 2 + [alphas[3:].astype(int)] * 2,\n",
    "                  [(0.6681, 0.6688), (0.6692, 0.6697)] * 2, # for a single scale\n",
    "                  [221, 223, 222, 224])):\n",
    "    plt.subplot(subplot_)\n",
    "    plt.title(title_)\n",
    "    for loss, alpha in zip(losses_, alphas_):\n",
    "        plt.plot(epochs * max_iter, loss, label=f'$\\\\alpha={alpha}$')\n",
    "    plt.xticks([20, *range(max_iter * 3, max_iter * epochs_quant + 1, max_iter * 3)])\n",
    "    plt.xlim(20, epochs_quant * max_iter)\n",
    "    plt.ylim(ylim)\n",
    "    plt.xlabel('Iterations')\n",
    "    plt.ylabel('Mean logloss')\n",
    "    plt.legend()\n",
    "    plt.grid(True)\n",
    "\n",
    "plt.tight_layout()"
   ]
  },
  {
   "cell_type": "markdown",
   "metadata": {
    "id": "wh3hL2PyhVpU"
   },
   "source": [
    "Сверху графики, полученные на обучающей выборке (`X_train`), снизу - на отложенной (`X_test`). В обоих случаях графики похожи (форма, монотонной убывание), только на отложенной выборке функции потерь чуть больше, что естественно"
   ]
  },
  {
   "cell_type": "markdown",
   "metadata": {
    "id": "iNzLi3YyhVpU"
   },
   "source": [
    "## Часть 3. Работа с категориальными переменными"
   ]
  },
  {
   "cell_type": "markdown",
   "metadata": {
    "id": "7MhbUAwihVpU"
   },
   "source": [
    "В этой части мы научимся обрабатывать категориальные переменные, так как закодировать их в виде чисел недостаточно (это задаёт некоторый порядок, которого на категориальных переменных может и не быть). Существует два основных способа обработки категориальных значений:\n",
    "- One-hot-кодирование\n",
    "- Счётчики (CTR, mean-target кодирование, ...) — каждый категориальный признак заменяется на среднее значение целевой переменной по всем объектам, имеющим одинаковое значение в этом признаке.\n",
    "\n",
    "Начнём с one-hot-кодирования. Допустим наш категориальный признак $f_j(x)$ принимает значения из множества $C=\\{c_1, \\dots, c_m\\}$. Заменим его на $m$ бинарных признаков $b_1(x), \\dots, b_m(x)$, каждый из которых является индикатором одного из возможных категориальных значений:\n",
    "$$\n",
    "b_i(x) = [f_j(x) = c_i]\n",
    "$$\n",
    "\n",
    "В этой части работаем с датасетом из предыдущей части."
   ]
  },
  {
   "cell_type": "markdown",
   "metadata": {
    "id": "4aM65EwXhVpU"
   },
   "source": [
    "__Задание 5.__ Посчитайте качество (в этом задании будем работать c ROC-AUC) на исходных признаках при применении логистической регрессии.\n",
    "\n",
    "__(0 баллов)__"
   ]
  },
  {
   "cell_type": "code",
   "execution_count": 36,
   "metadata": {
    "ExecuteTime": {
     "end_time": "2021-11-21T23:15:16.868013Z",
     "start_time": "2021-11-21T23:15:16.860011Z"
    },
    "id": "zS6-En0rhVpV"
   },
   "outputs": [],
   "source": [
    "from sklearn.metrics import roc_auc_score"
   ]
  },
  {
   "cell_type": "code",
   "execution_count": 37,
   "metadata": {
    "ExecuteTime": {
     "end_time": "2021-11-21T23:05:41.752203Z",
     "start_time": "2021-11-21T23:05:15.804662Z"
    },
    "colab": {
     "base_uri": "https://localhost:8080/"
    },
    "id": "bBMB-rZghVpV",
    "outputId": "e90833e3-b1e5-424b-96b6-bbfcb6cf5d94"
   },
   "outputs": [
    {
     "name": "stderr",
     "output_type": "stream",
     "text": [
      "[Parallel(n_jobs=1)]: Using backend SequentialBackend with 1 concurrent workers.\n"
     ]
    },
    {
     "name": "stdout",
     "output_type": "stream",
     "text": [
      "convergence after 374 epochs took 42 seconds\n"
     ]
    },
    {
     "name": "stderr",
     "output_type": "stream",
     "text": [
      "[Parallel(n_jobs=1)]: Done   1 out of   1 | elapsed:   42.3s finished\n"
     ]
    }
   ],
   "source": [
    "model = LogisticRegression(solver='saga', max_iter=1e3, tol=1e-3, verbose=1, random_state=0)\n",
    "model.fit(X_train, y_train)\n",
    "y_pred_proba = model.predict_proba(X_test)[:, 1]"
   ]
  },
  {
   "cell_type": "code",
   "execution_count": 38,
   "metadata": {
    "ExecuteTime": {
     "end_time": "2021-11-21T02:48:43.761927Z",
     "start_time": "2021-11-21T02:48:43.708917Z"
    },
    "colab": {
     "base_uri": "https://localhost:8080/"
    },
    "id": "qIMawy7ghVpV",
    "outputId": "61ad7c8b-1acb-4570-b41a-4b2dadf5a622"
   },
   "outputs": [
    {
     "name": "stdout",
     "output_type": "stream",
     "text": [
      "ROC AUC: 0.6251\n"
     ]
    }
   ],
   "source": [
    "print(f'ROC AUC: {roc_auc_score(y_test, y_pred_proba):.4f}')"
   ]
  },
  {
   "cell_type": "markdown",
   "metadata": {
    "id": "-9tL3ZMahVpV"
   },
   "source": [
    "__Задание 6.__ Закодируйте все категориальные признаки с помощью one-hot-кодирования. Обучите логистическую регрессию и посмотрите, как изменилось качество модели (с тем, что было до кодирования). Измерьте время, потребовавшееся на обучение модели.\n",
    "\n",
    "__(0.5 балла)__"
   ]
  },
  {
   "cell_type": "code",
   "execution_count": 39,
   "metadata": {
    "ExecuteTime": {
     "end_time": "2021-11-21T23:07:08.832598Z",
     "start_time": "2021-11-21T23:07:08.818632Z"
    },
    "id": "cr9uVXrhhVpV"
   },
   "outputs": [],
   "source": [
    "import re"
   ]
  },
  {
   "cell_type": "code",
   "execution_count": 40,
   "metadata": {
    "ExecuteTime": {
     "end_time": "2021-11-21T23:07:12.231905Z",
     "start_time": "2021-11-21T23:07:12.216940Z"
    },
    "id": "zeFb7XZKhVpV"
   },
   "outputs": [],
   "source": [
    "cat_feats = list(filter(re.compile('.*cat').match, X_train.columns))"
   ]
  },
  {
   "cell_type": "markdown",
   "metadata": {
    "id": "c1UOmjNJhVpV"
   },
   "source": [
    "Функция для ohe:"
   ]
  },
  {
   "cell_type": "code",
   "execution_count": 41,
   "metadata": {
    "ExecuteTime": {
     "end_time": "2021-11-21T23:12:23.389238Z",
     "start_time": "2021-11-21T23:12:23.371287Z"
    },
    "id": "ZNv2EKP8hVpV"
   },
   "outputs": [],
   "source": [
    "def do_ohe(X_train, X_test):\n",
    "    delim = X_train.shape[0]\n",
    "    X_ohe = pd.get_dummies(pd.concat([X_train, X_test], axis=0), columns=cat_feats)\n",
    "    return X_ohe.iloc[:delim], X_ohe.iloc[delim:]"
   ]
  },
  {
   "cell_type": "code",
   "execution_count": 42,
   "metadata": {
    "ExecuteTime": {
     "end_time": "2021-11-21T23:14:16.961263Z",
     "start_time": "2021-11-21T23:13:29.317887Z"
    },
    "colab": {
     "base_uri": "https://localhost:8080/"
    },
    "id": "lrC5BMn-hVpV",
    "outputId": "e4f71556-4fc4-450d-8b13-13496d18d092"
   },
   "outputs": [
    {
     "name": "stderr",
     "output_type": "stream",
     "text": [
      "[Parallel(n_jobs=1)]: Using backend SequentialBackend with 1 concurrent workers.\n"
     ]
    },
    {
     "name": "stdout",
     "output_type": "stream",
     "text": [
      "convergence after 216 epochs took 65 seconds\n"
     ]
    },
    {
     "name": "stderr",
     "output_type": "stream",
     "text": [
      "[Parallel(n_jobs=1)]: Done   1 out of   1 | elapsed:  1.1min finished\n"
     ]
    }
   ],
   "source": [
    "X_train_ohe, X_test_ohe = do_ohe(X_train, X_test)\n",
    "model.fit(X_train_ohe, y_train)\n",
    "y_pred_proba = model.predict_proba(X_test_ohe)[:, 1]"
   ]
  },
  {
   "cell_type": "code",
   "execution_count": 43,
   "metadata": {
    "ExecuteTime": {
     "end_time": "2021-11-21T02:59:33.787738Z",
     "start_time": "2021-11-21T02:59:33.730867Z"
    },
    "colab": {
     "base_uri": "https://localhost:8080/"
    },
    "id": "qDporMPHhVpV",
    "outputId": "851d7348-5453-4bd7-cfe2-9b0519a61a8a"
   },
   "outputs": [
    {
     "name": "stdout",
     "output_type": "stream",
     "text": [
      "ROC AUC: 0.6329\n"
     ]
    }
   ],
   "source": [
    "print(f'ROC AUC: {roc_auc_score(y_test, y_pred_proba):.4f}')"
   ]
  },
  {
   "cell_type": "markdown",
   "metadata": {
    "id": "yAoYUQ3HhVpW"
   },
   "source": [
    "Время работы алгритма увеличилось (хотя количество итераций стало меньше), качество увеличилось (было $0.6251$, теперь $0.6329$)"
   ]
  },
  {
   "cell_type": "markdown",
   "metadata": {
    "id": "MS4MLdWqhVpW"
   },
   "source": [
    "Как можно было заменить, one-hot-кодирование может сильно увеличивать количество признаков в датасете, что сказывается на памяти, особенно, если некоторый признак имеет большое количество значений. Эту проблему решает другой способ кодирование категориальных признаков — счётчики. Основная идея в том, что нам важны не сами категории, а значения целевой переменной, которые имеют объекты этой категории. Каждый категориальный признак мы заменим средним значением целевой переменной по всем объектам этой же категории:\n",
    "$$\n",
    "g_j(x, X) = \\frac{\\sum_{i=1}^{l} [f_j(x) = f_j(x_i)][y_i = +1]}{\\sum_{i=1}^{l} [f_j(x) = f_j(x_i)]}\n",
    "$$"
   ]
  },
  {
   "cell_type": "markdown",
   "metadata": {
    "id": "CWeyhWlthVpW"
   },
   "source": [
    "Отметим, что такие признаки сами по себе являются классификаторами и, обучаясь на них, мы допускаем \"утечку\" целевой переменной в признаки. Это ведёт к переобучению, поэтому считать такие признаки необходимо таким образом, чтобы при вычислении для конкретного объекта его целевая метка не использовалась. Это можно делать следующими способами:\n",
    "1. Вычислять значение счётчика по всем объектам расположенным выше в датасете (например, если у нас выборка отсортирована по времени).\n",
    "2. Вычислять по фолдам, то есть делить выборку на некоторое количество частей и подсчитывать значение признаков по всем фолдам кроме текущего (как делается в кросс-валидации).\n",
    "3. Внесение некоторого шума в посчитанные признаки.\n",
    "\n",
    "**Замечание (!)**\n",
    "* При реализации счетчиков необходимо использовать один из методов борьбы с переобучением. В заданиях вам либо говорится, как использовать, либо вы выбираете сами"
   ]
  },
  {
   "cell_type": "markdown",
   "metadata": {
    "id": "HDOXoIqzhVpW"
   },
   "source": [
    "**(Бонусная часть)** Закодируйте категориальные переменные с помощью счётчиков (ровно так, как описано выше без каких-либо хитростей). Реализуйте корректное вычисление счётчиков самым простым способом — добавление шума к значениям (необходимо соблюсти баланс между избавление от переобучения и полезностью признаков). Снова обучите логистическую регрессию, оцените качество. Сделайте выводы. Не забудьте замерить время.\n",
    "\n",
    "__(+0.5 баллa)__"
   ]
  },
  {
   "cell_type": "code",
   "execution_count": 44,
   "metadata": {
    "ExecuteTime": {
     "end_time": "2021-11-21T23:33:55.618301Z",
     "start_time": "2021-11-21T23:33:55.606333Z"
    },
    "id": "i3KwlRPzhVpW"
   },
   "outputs": [],
   "source": [
    "def add_noise(maps, std=0.1, seed=0):\n",
    "    rng = np.random.default_rng(seed=seed)\n",
    "    return {key: vals + rng.normal(scale=std, size=len(vals))\n",
    "            for key, vals in maps.items()}"
   ]
  },
  {
   "cell_type": "code",
   "execution_count": 45,
   "metadata": {
    "ExecuteTime": {
     "end_time": "2021-11-21T23:33:57.701247Z",
     "start_time": "2021-11-21T23:33:57.635751Z"
    },
    "id": "mCDHq6rlhVpW"
   },
   "outputs": [],
   "source": [
    "y_train_ser = pd.Series(y_train, index=X_train.index)\n",
    "mean_maps = {col: y_train_ser.groupby(X_train[col]).mean() for col in cat_feats}"
   ]
  },
  {
   "cell_type": "code",
   "execution_count": 46,
   "metadata": {
    "ExecuteTime": {
     "end_time": "2021-11-21T23:39:18.429429Z",
     "start_time": "2021-11-21T23:37:17.135385Z"
    },
    "colab": {
     "base_uri": "https://localhost:8080/"
    },
    "id": "ZJGLiFoahVpW",
    "outputId": "ccfc77fc-7e87-4327-b868-ed7a6b7f98ea"
   },
   "outputs": [
    {
     "name": "stderr",
     "output_type": "stream",
     "text": [
      "[Parallel(n_jobs=1)]: Using backend SequentialBackend with 1 concurrent workers.\n"
     ]
    },
    {
     "name": "stdout",
     "output_type": "stream",
     "text": [
      "convergence after 284 epochs took 32 seconds\n"
     ]
    },
    {
     "name": "stderr",
     "output_type": "stream",
     "text": [
      "[Parallel(n_jobs=1)]: Done   1 out of   1 | elapsed:   32.2s finished\n",
      "[Parallel(n_jobs=1)]: Using backend SequentialBackend with 1 concurrent workers.\n"
     ]
    },
    {
     "name": "stdout",
     "output_type": "stream",
     "text": [
      "convergence after 284 epochs took 32 seconds\n"
     ]
    },
    {
     "name": "stderr",
     "output_type": "stream",
     "text": [
      "[Parallel(n_jobs=1)]: Done   1 out of   1 | elapsed:   32.5s finished\n",
      "[Parallel(n_jobs=1)]: Using backend SequentialBackend with 1 concurrent workers.\n"
     ]
    },
    {
     "name": "stdout",
     "output_type": "stream",
     "text": [
      "convergence after 288 epochs took 34 seconds\n"
     ]
    },
    {
     "name": "stderr",
     "output_type": "stream",
     "text": [
      "[Parallel(n_jobs=1)]: Done   1 out of   1 | elapsed:   33.2s finished\n",
      "[Parallel(n_jobs=1)]: Using backend SequentialBackend with 1 concurrent workers.\n"
     ]
    },
    {
     "name": "stdout",
     "output_type": "stream",
     "text": [
      "convergence after 296 epochs took 33 seconds\n"
     ]
    },
    {
     "name": "stderr",
     "output_type": "stream",
     "text": [
      "[Parallel(n_jobs=1)]: Done   1 out of   1 | elapsed:   33.7s finished\n",
      "[Parallel(n_jobs=1)]: Using backend SequentialBackend with 1 concurrent workers.\n"
     ]
    },
    {
     "name": "stdout",
     "output_type": "stream",
     "text": [
      "convergence after 336 epochs took 39 seconds\n"
     ]
    },
    {
     "name": "stderr",
     "output_type": "stream",
     "text": [
      "[Parallel(n_jobs=1)]: Done   1 out of   1 | elapsed:   38.3s finished\n",
      "[Parallel(n_jobs=1)]: Using backend SequentialBackend with 1 concurrent workers.\n"
     ]
    },
    {
     "name": "stdout",
     "output_type": "stream",
     "text": [
      "convergence after 106 epochs took 12 seconds\n"
     ]
    },
    {
     "name": "stderr",
     "output_type": "stream",
     "text": [
      "[Parallel(n_jobs=1)]: Done   1 out of   1 | elapsed:   11.9s finished\n"
     ]
    }
   ],
   "source": [
    "stds = np.hstack([0, np.logspace(-4, 0, 5)]) # standart deviations\n",
    "results = pd.DataFrame(index=pd.Index(stds, name=r'$\\sigma$'), columns=['ROC AUC score'], dtype=float)\n",
    "for std in stds:\n",
    "    maps_ = add_noise(mean_maps, std)\n",
    "    X_train_mean_noise, X_test_mean_noise = X_train.replace(maps_), X_test.replace(maps_)\n",
    "    model.fit(X_train_mean_noise, y_train)\n",
    "    results.loc[std] = roc_auc_score(y_test, model.predict_proba(X_test_mean_noise)[:, 1])"
   ]
  },
  {
   "cell_type": "code",
   "execution_count": 47,
   "metadata": {
    "ExecuteTime": {
     "end_time": "2021-11-21T23:45:47.060555Z",
     "start_time": "2021-11-21T23:45:47.037609Z"
    },
    "colab": {
     "base_uri": "https://localhost:8080/",
     "height": 269
    },
    "id": "ISxairYVhVpW",
    "outputId": "cee72129-f8a5-4adc-c044-a87bfa3de220"
   },
   "outputs": [
    {
     "data": {
      "text/html": [
       "<div>\n",
       "<style scoped>\n",
       "    .dataframe tbody tr th:only-of-type {\n",
       "        vertical-align: middle;\n",
       "    }\n",
       "\n",
       "    .dataframe tbody tr th {\n",
       "        vertical-align: top;\n",
       "    }\n",
       "\n",
       "    .dataframe thead th {\n",
       "        text-align: right;\n",
       "    }\n",
       "</style>\n",
       "<table border=\"1\" class=\"dataframe\">\n",
       "  <thead>\n",
       "    <tr style=\"text-align: right;\">\n",
       "      <th></th>\n",
       "      <th>ROC AUC score</th>\n",
       "    </tr>\n",
       "    <tr>\n",
       "      <th>$\\sigma$</th>\n",
       "      <th></th>\n",
       "    </tr>\n",
       "  </thead>\n",
       "  <tbody>\n",
       "    <tr>\n",
       "      <th>0.0000</th>\n",
       "      <td>0.6285</td>\n",
       "    </tr>\n",
       "    <tr>\n",
       "      <th>0.0001</th>\n",
       "      <td>0.6285</td>\n",
       "    </tr>\n",
       "    <tr>\n",
       "      <th>0.0010</th>\n",
       "      <td>0.6286</td>\n",
       "    </tr>\n",
       "    <tr>\n",
       "      <th>0.0100</th>\n",
       "      <td>0.6288</td>\n",
       "    </tr>\n",
       "    <tr>\n",
       "      <th>0.1000</th>\n",
       "      <td>0.6263</td>\n",
       "    </tr>\n",
       "    <tr>\n",
       "      <th>1.0000</th>\n",
       "      <td>0.6223</td>\n",
       "    </tr>\n",
       "  </tbody>\n",
       "</table>\n",
       "</div>"
      ],
      "text/plain": [
       "          ROC AUC score\n",
       "$\\sigma$               \n",
       "0.0000           0.6285\n",
       "0.0001           0.6285\n",
       "0.0010           0.6286\n",
       "0.0100           0.6288\n",
       "0.1000           0.6263\n",
       "1.0000           0.6223"
      ]
     },
     "execution_count": 47,
     "metadata": {},
     "output_type": "execute_result"
    }
   ],
   "source": [
    "results.round(4)"
   ]
  },
  {
   "cell_type": "markdown",
   "metadata": {
    "id": "_ZOf8AeThVpW"
   },
   "source": [
    "**Ответ:**\n",
    "* Этот способ быстрее, чем ohe\n",
    "* С ростом $\\sigma$ алгоритм сходится быстрее, кроме случая $\\sigma = 1.0$, он быстрее всех\n",
    "* Качество растёт до $\\sigma = 0.01$ и убывает после него (худшее при $\\sigma = 1.0$)\n",
    "* Лучшее качество $\\approx 0.6288$ (при $\\sigma = 0.1$) всё же хуже ROC AUC при ohe ($\\approx 0.6329$)"
   ]
  },
  {
   "cell_type": "markdown",
   "metadata": {
    "id": "uatqap_ihVpX"
   },
   "source": [
    "__(Бонусная часть)__ Посчитайте корректные счётчики, основываясь на объектах расположеных выше в датасете (не забудьте добавить и шум). \n",
    "\n",
    "__(+0.5 балла)__"
   ]
  },
  {
   "cell_type": "markdown",
   "metadata": {
    "id": "MoJyGH04hVpX"
   },
   "source": [
    "Используем колонку первую колонку, `id`, для ранжирования датасета:"
   ]
  },
  {
   "cell_type": "code",
   "execution_count": 48,
   "metadata": {
    "ExecuteTime": {
     "end_time": "2021-11-22T00:52:24.825713Z",
     "start_time": "2021-11-22T00:52:24.650216Z"
    },
    "id": "HYJAr1pwhVpX"
   },
   "outputs": [],
   "source": [
    "X_t, y_t = (X_train.groupby(X_train.index).first(),\n",
    "            y_train_ser.groupby(y_train_ser.index).first())\n",
    "X_train_new, X_test_new = X_train.copy(), X_test.copy()"
   ]
  },
  {
   "cell_type": "markdown",
   "metadata": {
    "id": "szehB8F-hVpa"
   },
   "source": [
    "Преобразуем данные:"
   ]
  },
  {
   "cell_type": "code",
   "execution_count": 49,
   "metadata": {
    "ExecuteTime": {
     "end_time": "2021-11-22T00:52:27.907603Z",
     "start_time": "2021-11-22T00:52:26.198678Z"
    },
    "colab": {
     "base_uri": "https://localhost:8080/"
    },
    "id": "dDkOsuGJhVpa",
    "outputId": "d7fe0f09-e874-4e56-c910-9d3dc10e59c3"
   },
   "outputs": [
    {
     "name": "stdout",
     "output_type": "stream",
     "text": [
      "CPU times: user 3.07 s, sys: 149 ms, total: 3.21 s\n",
      "Wall time: 3.05 s\n"
     ]
    }
   ],
   "source": [
    "%%time\n",
    "for feat in cat_feats:\n",
    "    maps_ = y_t.groupby(X_t[feat]).expanding().mean()\n",
    "    for v in maps_.index.levels[0]:\n",
    "        for s in [X_test_new, X_train_new]:\n",
    "            ind = np.digitize(s.index[s[feat] == v], maps_[v].index) - 1\n",
    "            ind[ind < 0] = 0\n",
    "            s.loc[s[feat] == v, feat] = maps_[v].iloc[ind].values"
   ]
  },
  {
   "cell_type": "code",
   "execution_count": 50,
   "metadata": {
    "ExecuteTime": {
     "end_time": "2021-11-22T00:52:41.223002Z",
     "start_time": "2021-11-22T00:52:29.360522Z"
    },
    "colab": {
     "base_uri": "https://localhost:8080/"
    },
    "id": "JYG2UQWihVpa",
    "outputId": "8532e80f-fdc9-494f-9c64-193ff54c39a6"
   },
   "outputs": [
    {
     "name": "stderr",
     "output_type": "stream",
     "text": [
      "[Parallel(n_jobs=1)]: Using backend SequentialBackend with 1 concurrent workers.\n"
     ]
    },
    {
     "name": "stdout",
     "output_type": "stream",
     "text": [
      "convergence after 162 epochs took 19 seconds\n"
     ]
    },
    {
     "name": "stderr",
     "output_type": "stream",
     "text": [
      "[Parallel(n_jobs=1)]: Done   1 out of   1 | elapsed:   18.6s finished\n"
     ]
    }
   ],
   "source": [
    "model.fit(X_train_new, y_train)\n",
    "y_pred_proba = model.predict_proba(X_test_new)[:, 1]"
   ]
  },
  {
   "cell_type": "code",
   "execution_count": 51,
   "metadata": {
    "ExecuteTime": {
     "end_time": "2021-11-22T00:52:41.270503Z",
     "start_time": "2021-11-22T00:52:41.224967Z"
    },
    "colab": {
     "base_uri": "https://localhost:8080/"
    },
    "id": "_NVUUvQlhVpa",
    "outputId": "cb463a1a-b644-4824-e3d3-cebc1c612e09"
   },
   "outputs": [
    {
     "name": "stdout",
     "output_type": "stream",
     "text": [
      "ROC AUC: 0.6336\n"
     ]
    }
   ],
   "source": [
    "print(f'ROC AUC: {roc_auc_score(y_test, y_pred_proba):.4f}')"
   ]
  },
  {
   "cell_type": "markdown",
   "metadata": {
    "id": "BH3OiBB3hVpa"
   },
   "source": [
    "Это качество даже лучше, чем на ohe"
   ]
  },
  {
   "cell_type": "markdown",
   "metadata": {
    "id": "MR8xfeZ1hVpa"
   },
   "source": [
    "А теперь ответьте на следующий вопрос: что будет, если некоторая категория встречается в выборке всего несколько раз? По этой причине производится сглаживание счётчиков. Например, на практике хорошие результаты показывает использование сглаживания средним по всей выборке:\n",
    "$$\n",
    "g_j(x, X) = \\frac{\\sum_{i=1}^{\\ell} [f_j(x) = f_j(x_i)][y_i = +1] + C \\times global\\_mean}{\\sum_{i=1}^{\\ell} [f_j(x) = f_j(x_i)] + C}\n",
    "$$\n",
    "где $global\\_mean$ — среднее значение целевой переменной по всей выборке, $C$ — параметр, определяющий степень сглаживания (например, можно использовать 10 или подобрать для каждого признака свой). Основная идея в том, что мы \"разбавляем\" среднее значение по некоторой категории глобальным средним значении. И тем меньше, чем большее количество объектов этой категории встречается в выборке. \n",
    "\n",
    "Однако для сглаживания вместо среднего значения целевой переменной можно использовать любое другое значение от 0 до 1 (этот параметр иногда называют $prior$). Можно сделать несколько признаков с разными значениями параметра. На практике в задачах бинарной классификации полезными бывают даже отрицательные значения!\n",
    "\n",
    "__Задание 7.__ Реализуйте счетчики со сглаживанием, как описано выше. Обучите логистическую регрессию, оцените качество.\n",
    "\n",
    "__(1 балл)__"
   ]
  },
  {
   "cell_type": "code",
   "execution_count": 52,
   "metadata": {
    "ExecuteTime": {
     "end_time": "2021-11-22T01:12:02.960358Z",
     "start_time": "2021-11-22T01:12:02.950364Z"
    },
    "id": "bawCZB45hVpb"
   },
   "outputs": [],
   "source": [
    "def do_smooth_maps(C=10):\n",
    "    prior = data[cat_feats].mean()\n",
    "    C = dict.fromkeys(cat_feats, C)\n",
    "    maps = {}\n",
    "    for feat in cat_feats:\n",
    "        group = y_train_ser.groupby(X_train[feat])\n",
    "        C_ =  C[feat]\n",
    "        global_mean = prior[feat]\n",
    "        maps[feat] = (group.sum() + C_* global_mean) / (group.size() + C_)\n",
    "    return maps"
   ]
  },
  {
   "cell_type": "code",
   "execution_count": 53,
   "metadata": {
    "ExecuteTime": {
     "end_time": "2021-11-22T01:12:30.196108Z",
     "start_time": "2021-11-22T01:12:10.116508Z"
    },
    "colab": {
     "base_uri": "https://localhost:8080/"
    },
    "id": "qI7kiOYBhVpb",
    "outputId": "e95b8f13-1fd4-4584-a6f5-32f50f2c54f5"
   },
   "outputs": [
    {
     "name": "stderr",
     "output_type": "stream",
     "text": [
      "[Parallel(n_jobs=1)]: Using backend SequentialBackend with 1 concurrent workers.\n"
     ]
    },
    {
     "name": "stdout",
     "output_type": "stream",
     "text": [
      "convergence after 276 epochs took 31 seconds\n"
     ]
    },
    {
     "name": "stderr",
     "output_type": "stream",
     "text": [
      "[Parallel(n_jobs=1)]: Done   1 out of   1 | elapsed:   31.5s finished\n"
     ]
    }
   ],
   "source": [
    "smm_maps = do_smooth_maps()\n",
    "Xtr_smm = X_train.replace(smm_maps)\n",
    "Xts_smm = X_test.replace(smm_maps)\n",
    "model.fit(Xtr_smm, y_train)\n",
    "y_pred_proba = model.predict_proba(Xts_smm)[:, 1]"
   ]
  },
  {
   "cell_type": "code",
   "execution_count": 54,
   "metadata": {
    "ExecuteTime": {
     "end_time": "2021-11-22T01:12:30.244000Z",
     "start_time": "2021-11-22T01:12:30.198103Z"
    },
    "colab": {
     "base_uri": "https://localhost:8080/"
    },
    "id": "yCvgFoashVpb",
    "outputId": "d2babf4b-77f4-4fa4-ed89-b25622e56366"
   },
   "outputs": [
    {
     "name": "stdout",
     "output_type": "stream",
     "text": [
      "ROC AUC: 0.6273\n"
     ]
    }
   ],
   "source": [
    "print(f'ROC AUC: {roc_auc_score(y_test, y_pred_proba):.4f}')"
   ]
  },
  {
   "cell_type": "markdown",
   "metadata": {
    "id": "FPAwvG6JhVpb"
   },
   "source": [
    "Это качество лучше, чем на данных без преобразований, но хуже, чем при ohe и чем при обычных счётчиках без сглаживания\n",
    "\n",
    "То есть этот метод нужно донастраивать параметрами (`C` и `prior`)"
   ]
  },
  {
   "cell_type": "markdown",
   "metadata": {
    "id": "PppS768nhVpb"
   },
   "source": [
    "__Замечание.__ Усложнение методов вычисления счётчиков не делают результаты модели гарантированно лучше. Особенно с учётом того, что логистическая регрессия не такая сложная модель, чтобы переобучаться. Поэтому вы необязательно должны были получать на каждом шаге всё лучшие и лучшие результаты.\n",
    "\n",
    "**(?)** Как вы должны были заметить, счётчики являются хорошей альтернативой one-hot-кодированию. Напишите, какие плюсы и минусы использования счётчиков по сравнению с one-hot-кодированием, вы заметили.\n",
    "\n",
    "**Ответ:**\n",
    "\n",
    "Плюсы:\n",
    "* Много параметров для настройки, благодаря которым модно достичь качества, не меньшего, чем на ohe\n",
    "* Меньшее время работы и меньше используемой памяти\n",
    "\n",
    "Минусы:\n",
    "* Чтобы получить хорошее качество, параметры счётчиков надо тщательно подбирать, иначе качество может быть низким*\n",
    "* Сложность реализации (фолдинг и ранжирование)"
   ]
  },
  {
   "cell_type": "markdown",
   "metadata": {
    "id": "a4IjtJayhVpb"
   },
   "source": [
    "## Часть 4. Отбор признаков"
   ]
  },
  {
   "cell_type": "markdown",
   "metadata": {
    "id": "MmMR16TkhVpb"
   },
   "source": [
    "Важной частью процесса построения модели является отбор признаков. На практике многие признаки оказывают малое влияние на модель (при этом их расчёт занимает время) или даже негативно сказываются на качестве модели. Попробуем несколько подходов отбора признаков, оценим, как они влияют на качество модели и сколько времени занимают.\n",
    "\n",
    "Обратимся к тому же датасету про обращение клиентов по страховым случаям. Обойдёмся без сэмплирования объектов."
   ]
  },
  {
   "cell_type": "code",
   "execution_count": 55,
   "metadata": {
    "ExecuteTime": {
     "end_time": "2021-11-22T01:59:43.628148Z",
     "start_time": "2021-11-22T01:59:41.508516Z"
    },
    "id": "0xufZ-xYhVpb"
   },
   "outputs": [],
   "source": [
    "data = pd.read_csv('drive/MyDrive/train.csv', index_col=0)\n",
    "target = data.target.values\n",
    "data = data.drop('target', axis=1)\n",
    "X_train, X_test, y_train, y_test = train_test_split(data, target, test_size=0.2, random_state=124)"
   ]
  },
  {
   "cell_type": "markdown",
   "metadata": {
    "id": "Bcik10tphVpc"
   },
   "source": [
    "Как вы помните, в данных много категориальных признаков. Давайте закодируем их с помощью one-hot кодирования. Исходные колонки с категориальными признаками можно удалить. Сколько признаков мы получили?"
   ]
  },
  {
   "cell_type": "code",
   "execution_count": 56,
   "metadata": {
    "ExecuteTime": {
     "end_time": "2021-11-22T01:59:44.826554Z",
     "start_time": "2021-11-22T01:59:43.628148Z"
    },
    "colab": {
     "base_uri": "https://localhost:8080/"
    },
    "id": "ZX-foTgohVpc",
    "outputId": "15d833f5-c347-42a5-e2d2-d4d6ffedc7e6"
   },
   "outputs": [
    {
     "name": "stdout",
     "output_type": "stream",
     "text": [
      "Всего признаков: 227\n"
     ]
    }
   ],
   "source": [
    "X_train, X_test = do_ohe(X_train, X_test)\n",
    "print(f'Всего признаков: {X_train.shape[1]}')"
   ]
  },
  {
   "cell_type": "markdown",
   "metadata": {
    "id": "OZDOfQkMhVpc"
   },
   "source": [
    "В качестве основной модели будем использовать логистическую регрессию, а целевой метрики — ROC-AUC. Обучите модель и посчитайте качество на тестовой выборке. Давайте запомним полученное значение."
   ]
  },
  {
   "cell_type": "code",
   "execution_count": 57,
   "metadata": {
    "ExecuteTime": {
     "end_time": "2021-11-22T02:06:50.886159Z",
     "start_time": "2021-11-22T02:05:28.554634Z"
    },
    "colab": {
     "base_uri": "https://localhost:8080/"
    },
    "id": "G5xW3n1ihVpc",
    "outputId": "83d2acb7-3080-4520-8cbb-c0e42b91bf65"
   },
   "outputs": [
    {
     "name": "stderr",
     "output_type": "stream",
     "text": [
      "[Parallel(n_jobs=1)]: Using backend SequentialBackend with 1 concurrent workers.\n"
     ]
    },
    {
     "name": "stdout",
     "output_type": "stream",
     "text": [
      "max_iter reached after 106 seconds\n"
     ]
    },
    {
     "name": "stderr",
     "output_type": "stream",
     "text": [
      "[Parallel(n_jobs=1)]: Done   1 out of   1 | elapsed:  1.8min finished\n"
     ]
    }
   ],
   "source": [
    "model = LogisticRegression(solver='sag', max_iter=80, verbose=1, random_state=0)\n",
    "model.fit(X_train, y_train)\n",
    "y_pred_proba = model.predict_proba(X_test)[:, 1]"
   ]
  },
  {
   "cell_type": "code",
   "execution_count": 58,
   "metadata": {
    "ExecuteTime": {
     "end_time": "2021-11-22T02:07:28.122977Z",
     "start_time": "2021-11-22T02:07:28.085127Z"
    },
    "colab": {
     "base_uri": "https://localhost:8080/"
    },
    "id": "ziWdO6EohVpc",
    "outputId": "6fc57384-60e8-4e94-ab7d-657d0f9d3fb8"
   },
   "outputs": [
    {
     "name": "stdout",
     "output_type": "stream",
     "text": [
      "ROC AUC: 0.6381\n"
     ]
    }
   ],
   "source": [
    "print(f'ROC AUC: {roc_auc_score(y_test, y_pred_proba):.4f}')"
   ]
  },
  {
   "cell_type": "markdown",
   "metadata": {
    "id": "VAM3OPqBhVpc"
   },
   "source": [
    "### Встроенные методы"
   ]
  },
  {
   "cell_type": "markdown",
   "metadata": {
    "id": "FpIB-BK_hVpc"
   },
   "source": [
    "Допустим, мы хотим оставить только 200 лучших признаков. Попробуем сделать это несколькими способами.\n",
    "\n",
    "Начнём с отборам признаков с помощью линейной модели. Как известно, веса линейной модели означают вклад каждого признака в предсказание модели, а значит, модуль этого вклада можно интерпретировать как важность признаков. Такой метод отбора называются встроенным или embedded methods, так как он заложен в особенности модели.\n",
    "\n",
    "__Задание 8.__ Оставьте 200 признаков с наибольшим модулем соответсвующего параметра линейной модели. Обучите модели заново и оцените её качество. Замерьте скорость такого отбора признаков (время обучения нашего метода отбора).\n",
    "\n",
    "**(?)** Изменилось ли качество? Как?\n",
    "\n",
    "__(0.5 балла)__"
   ]
  },
  {
   "cell_type": "code",
   "execution_count": 59,
   "metadata": {
    "ExecuteTime": {
     "end_time": "2021-11-22T02:17:12.997767Z",
     "start_time": "2021-11-22T02:17:12.982141Z"
    },
    "id": "dVX8TCpvhVpc"
   },
   "outputs": [],
   "source": [
    "def select_feats(X_train, X_test, n=200):\n",
    "    i = np.abs(model.coef_[0]).argsort()[-n:]\n",
    "    if isinstance(X_train, np.ndarray):\n",
    "        return X_train[:, i], X_test[:, i]\n",
    "    else:\n",
    "        return X_train.iloc[:, i], X_test.iloc[:, i]"
   ]
  },
  {
   "cell_type": "code",
   "execution_count": 60,
   "metadata": {
    "ExecuteTime": {
     "end_time": "2021-11-22T02:17:15.692775Z",
     "start_time": "2021-11-22T02:17:15.436303Z"
    },
    "id": "NX_Lt5pjhVpd"
   },
   "outputs": [],
   "source": [
    "X_tr, X_ts = select_feats(X_train, X_test)"
   ]
  },
  {
   "cell_type": "code",
   "execution_count": 61,
   "metadata": {
    "ExecuteTime": {
     "end_time": "2021-11-22T02:18:36.941897Z",
     "start_time": "2021-11-22T02:17:19.344140Z"
    },
    "colab": {
     "base_uri": "https://localhost:8080/"
    },
    "id": "CT1jZDDXhVpd",
    "outputId": "6cb50d76-847a-4e02-e21c-e0a51343c346"
   },
   "outputs": [
    {
     "name": "stderr",
     "output_type": "stream",
     "text": [
      "[Parallel(n_jobs=1)]: Using backend SequentialBackend with 1 concurrent workers.\n"
     ]
    },
    {
     "name": "stdout",
     "output_type": "stream",
     "text": [
      "max_iter reached after 96 seconds\n"
     ]
    },
    {
     "name": "stderr",
     "output_type": "stream",
     "text": [
      "[Parallel(n_jobs=1)]: Done   1 out of   1 | elapsed:  1.6min finished\n"
     ]
    }
   ],
   "source": [
    "model.fit(X_tr, y_train)\n",
    "y_pred_proba = model.predict_proba(X_ts)[:, 1]"
   ]
  },
  {
   "cell_type": "code",
   "execution_count": 62,
   "metadata": {
    "ExecuteTime": {
     "end_time": "2021-11-22T02:18:45.186769Z",
     "start_time": "2021-11-22T02:18:45.147852Z"
    },
    "colab": {
     "base_uri": "https://localhost:8080/"
    },
    "id": "9fm0y_8nhVpd",
    "outputId": "a8a6ef1e-533f-477e-e16d-2a07898fe796"
   },
   "outputs": [
    {
     "name": "stdout",
     "output_type": "stream",
     "text": [
      "ROC AUC (отбор признаков без нормализации): 0.6383\n"
     ]
    }
   ],
   "source": [
    "print(f'ROC AUC (отбор признаков без нормализации): {roc_auc_score(y_test, y_pred_proba):.4f}')"
   ]
  },
  {
   "cell_type": "markdown",
   "metadata": {
    "id": "BSHl6rOUhVpd"
   },
   "source": [
    "**(?)** А теперь давайте подумаем, что мы не учли. Мы предположили, что признаки вносят вклад равномерно, но не учли их масштаба. Если мы умножим один из признаков в 100 раз, то без учёта регуляризации его вес уменьшится в эти же 100 раз. А мы на основе этого отбираем признаки! Давайте сначала отнормируем признаки одним из способов, а только потом будем удалять признаки. \n",
    "\n",
    "Кстати, в таком случае надо пересчитать качество на всех признаках (сделайте это ниже). Если вы сделали нормирование признаков в самом начале, то попробуйте отобрать признаки на неотмасштабированных данных.\n",
    "\n",
    "Что получилось?"
   ]
  },
  {
   "cell_type": "code",
   "execution_count": 63,
   "metadata": {
    "ExecuteTime": {
     "end_time": "2021-11-22T02:28:56.160210Z",
     "start_time": "2021-11-22T02:28:56.155192Z"
    },
    "id": "jXWm2vnLhVpd"
   },
   "outputs": [],
   "source": [
    "from sklearn.preprocessing import StandardScaler, MinMaxScaler"
   ]
  },
  {
   "cell_type": "code",
   "execution_count": 64,
   "metadata": {
    "ExecuteTime": {
     "end_time": "2021-11-22T02:34:53.554010Z",
     "start_time": "2021-11-22T02:29:30.357597Z"
    },
    "colab": {
     "base_uri": "https://localhost:8080/"
    },
    "id": "mh1GbzuyhVpd",
    "outputId": "ffe59dd9-6e4d-4d51-c3f9-366f0f8460c7"
   },
   "outputs": [
    {
     "name": "stderr",
     "output_type": "stream",
     "text": [
      "[Parallel(n_jobs=1)]: Using backend SequentialBackend with 1 concurrent workers.\n"
     ]
    },
    {
     "name": "stdout",
     "output_type": "stream",
     "text": [
      "max_iter reached after 105 seconds\n"
     ]
    },
    {
     "name": "stderr",
     "output_type": "stream",
     "text": [
      "[Parallel(n_jobs=1)]: Done   1 out of   1 | elapsed:  1.8min finished\n",
      "[Parallel(n_jobs=1)]: Using backend SequentialBackend with 1 concurrent workers.\n"
     ]
    },
    {
     "name": "stdout",
     "output_type": "stream",
     "text": [
      "max_iter reached after 96 seconds\n"
     ]
    },
    {
     "name": "stderr",
     "output_type": "stream",
     "text": [
      "[Parallel(n_jobs=1)]: Done   1 out of   1 | elapsed:  1.6min finished\n",
      "[Parallel(n_jobs=1)]: Using backend SequentialBackend with 1 concurrent workers.\n"
     ]
    },
    {
     "name": "stdout",
     "output_type": "stream",
     "text": [
      "max_iter reached after 106 seconds\n"
     ]
    },
    {
     "name": "stderr",
     "output_type": "stream",
     "text": [
      "[Parallel(n_jobs=1)]: Done   1 out of   1 | elapsed:  1.8min finished\n",
      "[Parallel(n_jobs=1)]: Using backend SequentialBackend with 1 concurrent workers.\n"
     ]
    },
    {
     "name": "stdout",
     "output_type": "stream",
     "text": [
      "max_iter reached after 97 seconds\n"
     ]
    },
    {
     "name": "stderr",
     "output_type": "stream",
     "text": [
      "[Parallel(n_jobs=1)]: Done   1 out of   1 | elapsed:  1.6min finished\n"
     ]
    }
   ],
   "source": [
    "methods = [StandardScaler, MinMaxScaler]\n",
    "method_names = [method.__name__ for method in methods]\n",
    "res = pd.DataFrame(index=pd.Index(method_names, name='method'), columns=['All feats', 'Selected feats'], dtype=float)\n",
    "\n",
    "for method in methods:\n",
    "    scaler = method()\n",
    "    X_train_norm, X_test_norm = scaler.fit_transform(X_train), scaler.transform(X_test)\n",
    "    \n",
    "    model.fit(X_train_norm, y_train)\n",
    "    y_pred_proba = model.predict_proba(X_test_norm)[:, 1]\n",
    "    res.loc[method.__name__, 'All feats'] = roc_auc_score(y_test, y_pred_proba)\n",
    "    \n",
    "    X_tr, X_ts = select_feats(X_train_norm, X_test_norm)\n",
    "    model.fit(X_tr, y_train)\n",
    "    y_pred_proba = model.predict_proba(X_ts)[:, 1]\n",
    "    res.loc[method.__name__, 'Selected feats'] = roc_auc_score(y_test, y_pred_proba)"
   ]
  },
  {
   "cell_type": "code",
   "execution_count": 65,
   "metadata": {
    "ExecuteTime": {
     "end_time": "2021-11-22T02:45:30.979486Z",
     "start_time": "2021-11-22T02:45:30.960574Z"
    },
    "colab": {
     "base_uri": "https://localhost:8080/",
     "height": 143
    },
    "id": "BDLRriWUhVpd",
    "outputId": "aecf036b-fa4b-484c-b173-50c243d0c344"
   },
   "outputs": [
    {
     "data": {
      "text/html": [
       "<div>\n",
       "<style scoped>\n",
       "    .dataframe tbody tr th:only-of-type {\n",
       "        vertical-align: middle;\n",
       "    }\n",
       "\n",
       "    .dataframe tbody tr th {\n",
       "        vertical-align: top;\n",
       "    }\n",
       "\n",
       "    .dataframe thead th {\n",
       "        text-align: right;\n",
       "    }\n",
       "</style>\n",
       "<table border=\"1\" class=\"dataframe\">\n",
       "  <thead>\n",
       "    <tr style=\"text-align: right;\">\n",
       "      <th></th>\n",
       "      <th>All feats</th>\n",
       "      <th>Selected feats</th>\n",
       "    </tr>\n",
       "    <tr>\n",
       "      <th>method</th>\n",
       "      <th></th>\n",
       "      <th></th>\n",
       "    </tr>\n",
       "  </thead>\n",
       "  <tbody>\n",
       "    <tr>\n",
       "      <th>StandardScaler</th>\n",
       "      <td>0.638065</td>\n",
       "      <td>0.638106</td>\n",
       "    </tr>\n",
       "    <tr>\n",
       "      <th>MinMaxScaler</th>\n",
       "      <td>0.638025</td>\n",
       "      <td>0.638209</td>\n",
       "    </tr>\n",
       "  </tbody>\n",
       "</table>\n",
       "</div>"
      ],
      "text/plain": [
       "                All feats  Selected feats\n",
       "method                                   \n",
       "StandardScaler   0.638065        0.638106\n",
       "MinMaxScaler     0.638025        0.638209"
      ]
     },
     "execution_count": 65,
     "metadata": {},
     "output_type": "execute_result"
    }
   ],
   "source": [
    "res"
   ]
  },
  {
   "cell_type": "markdown",
   "metadata": {
    "ExecuteTime": {
     "end_time": "2021-11-22T02:49:07.176902Z",
     "start_time": "2021-11-22T02:49:07.168894Z"
    },
    "id": "e_REL4hDhVpe"
   },
   "source": [
    "До отбора признаков высокое качество даёт стандартизация, а после отбора - min-max scaler, именно этот результат наилучший, $\\approx 0.6382$. Последнее качество выше, чем ohe, счётчики и отбор без нормализации\n",
    "\n"
   ]
  },
  {
   "cell_type": "markdown",
   "metadata": {
    "id": "ukGE8utphVpe"
   },
   "source": [
    "### Методы фильтрации"
   ]
  },
  {
   "cell_type": "markdown",
   "metadata": {
    "id": "FkeTbLANhVpe"
   },
   "source": [
    "Давайте отбирать признаки умнее, а именно через подсчёт некоторой функции для каждого признака. На основании значений этой функции будем оставлять наиболее важные признаки. Методы этого семейства называют фильтрующими или  filter methods. \n",
    "\n",
    "В качестве такой функции будем считать t-статистику:\n",
    "\n",
    "$$t(x) = \\frac{|\\mu_+ - \\mu_-|}{\\sqrt{\\frac{n_+ \\sigma^2_+ + n_- \\sigma^2_-}{n_+ + n_-}}},$$\n",
    "\n",
    "где $\\mu_{+/-}$, $\\sigma_{+/-}$, $n_{+/-}$ соответственно это --- среднее; среднеквадратичное отклонение; количество объектов каждого из классов.\n",
    "\n",
    "__Задание 9.__ Оставьте 200 признаков с наибольшим значением и замерьте качество. Не забудьте замерить скорость отбора признаков (время обучения нашего метода отбора) в этом случае.\n",
    "\n",
    "__(0.5 балла)__"
   ]
  },
  {
   "cell_type": "code",
   "execution_count": 66,
   "metadata": {
    "ExecuteTime": {
     "end_time": "2021-11-22T02:54:46.202840Z",
     "start_time": "2021-11-22T02:54:46.193863Z"
    },
    "id": "KpNXCZUAhVpe"
   },
   "outputs": [],
   "source": [
    "def t_statistic(X_pos, X_neg):\n",
    "    v = (len(X_pos) * X_pos.var() + len(X_neg) * X_neg.var()) / (len(X_pos) + len(X_neg))\n",
    "    return (X_pos.mean() - X_neg.mean()).abs() / np.sqrt(v)"
   ]
  },
  {
   "cell_type": "code",
   "execution_count": 67,
   "metadata": {
    "ExecuteTime": {
     "end_time": "2021-11-22T02:56:14.322992Z",
     "start_time": "2021-11-22T02:56:12.657261Z"
    },
    "colab": {
     "base_uri": "https://localhost:8080/"
    },
    "id": "UqjTvolChVpe",
    "outputId": "e4e99e42-fd4c-4ec2-b714-ac946d46b463"
   },
   "outputs": [
    {
     "name": "stdout",
     "output_type": "stream",
     "text": [
      "CPU times: user 1.25 s, sys: 18.6 ms, total: 1.27 s\n",
      "Wall time: 1.27 s\n"
     ]
    }
   ],
   "source": [
    "%%time\n",
    "top_ind = t_statistic(X_train.loc[y_train == 1], X_train.loc[y_train == 0]).nlargest(200).index"
   ]
  },
  {
   "cell_type": "code",
   "execution_count": 68,
   "metadata": {
    "ExecuteTime": {
     "end_time": "2021-11-22T03:01:00.203897Z",
     "start_time": "2021-11-22T02:59:37.472988Z"
    },
    "colab": {
     "base_uri": "https://localhost:8080/"
    },
    "id": "-s9NQdoyhVpe",
    "outputId": "939c6686-67c7-4635-ae3b-a7550d4db56e"
   },
   "outputs": [
    {
     "name": "stderr",
     "output_type": "stream",
     "text": [
      "[Parallel(n_jobs=1)]: Using backend SequentialBackend with 1 concurrent workers.\n"
     ]
    },
    {
     "name": "stdout",
     "output_type": "stream",
     "text": [
      "max_iter reached after 95 seconds\n"
     ]
    },
    {
     "name": "stderr",
     "output_type": "stream",
     "text": [
      "[Parallel(n_jobs=1)]: Done   1 out of   1 | elapsed:  1.6min finished\n"
     ]
    }
   ],
   "source": [
    "model.fit(X_train[top_ind], y_train)\n",
    "y_pred_proba = model.predict_proba(X_test[top_ind])[:, 1]"
   ]
  },
  {
   "cell_type": "code",
   "execution_count": 69,
   "metadata": {
    "ExecuteTime": {
     "end_time": "2021-11-22T03:01:00.260744Z",
     "start_time": "2021-11-22T03:01:00.205893Z"
    },
    "colab": {
     "base_uri": "https://localhost:8080/"
    },
    "id": "Wx9REi96hVpe",
    "outputId": "67436f66-2cc6-4e2c-817e-a830768e67ec"
   },
   "outputs": [
    {
     "name": "stdout",
     "output_type": "stream",
     "text": [
      "ROC AUC (отбор признаков по t-статистике): 0.6386\n"
     ]
    }
   ],
   "source": [
    "print(f'ROC AUC (отбор признаков по t-статистике): {roc_auc_score(y_test, y_pred_proba):.4f}')"
   ]
  },
  {
   "cell_type": "markdown",
   "metadata": {
    "id": "rcDNraAIhVpf"
   },
   "source": [
    "Это качество превосходит предыдущий (лучший) результат. Также этот алгоритм быстро работает"
   ]
  },
  {
   "cell_type": "markdown",
   "metadata": {
    "id": "ouOTa9C2hVpf"
   },
   "source": [
    "### Методы-обёртки"
   ]
  },
  {
   "cell_type": "markdown",
   "metadata": {
    "id": "cHunADKShVpf"
   },
   "source": [
    "__Задание 10.__ \n",
    "\n",
    "__(1 балл)__\n",
    "\n",
    "Заключительный из рассматриваемых нами методов работает следующим образом: мы исключаем по очереди один из признаков и смотрим, как это влияет на качество. Удаляем признаки таким жадным способом, пока не достигнем некоторого критерия (количество признаков или ухудшением качества).\n",
    "\n",
    "Заметим, что нельзя оценивать качество по тестовой выборке, иначе мы можем переобучиться, как, например, при настройке гиперпараметров. Разделите выборку на 2 части, на одной из них обучайте модель без одного из признаков,  на второй части оценивайте качество. Исходную тестовую выборку стоит использовать только на финальной оценке качества.\n",
    "\n",
    "Сделайте одну итерацию и прикиньте, сколько времени займёт такой отбор признаков. Кажется, что чересчур. Давайте возьмём маленький сэмпл данных (например, в 10 тысяч объектов), что сильно уменьшит время итерации. Теперь это долго, но уже приемлемо. \n",
    "\n",
    "**Напишите функцию, которая отбирает признаки вышеприведенным способом (использовать готовые решения аналогичных библиотечных функций нельзя)**\n",
    "\n",
    "**Замечание**\n",
    "* Если это всё ещё долго для вашего комьютера, можете попробовать брать не по одному признаку, а сразу по пять (и удалять сразу тоже по 5). Для этого перед каждой итерацией удаления делите заново все признаки на группы по 5 штук.\n",
    "\n",
    "Снова оставьте только 200 признаков и оцените качество на тестовой выборке. Сколько времени занял такой отбор признаков?"
   ]
  },
  {
   "cell_type": "markdown",
   "metadata": {
    "id": "ZUCKKuWQhVpf"
   },
   "source": [
    "Реализация описанного выше жадного алгоритма:"
   ]
  },
  {
   "cell_type": "code",
   "execution_count": 70,
   "metadata": {
    "ExecuteTime": {
     "end_time": "2021-11-22T04:09:37.633389Z",
     "start_time": "2021-11-22T04:09:37.621387Z"
    },
    "id": "JOU5tYqKhVpf"
   },
   "outputs": [],
   "source": [
    "def greedy_algo_feats(X_train, X_val, y_train, y_val, model, n_drops,\n",
    "              random_state=None, max_iter=10):\n",
    "    model.set_params(verbose=0)\n",
    "    rng = np.random.default_rng(seed=random_state)\n",
    "    model.fit(X_train, y_train)\n",
    "    y_pred_proba = model.predict_proba(X_val)[:, 1]\n",
    "    prev_auc = roc_auc_score(y_val, y_pred_proba)\n",
    "    ans = X_train.columns.tolist()\n",
    "    drop = []\n",
    "    for i in range(max_iter):\n",
    "        rng.shuffle(ans)\n",
    "        for col in ans:\n",
    "            print(f'{prev_auc:.5f}', end=' ')\n",
    "            model.fit(X_train.drop(columns=drop+[col]), y_train)\n",
    "            y_pred_proba = model.predict_proba(X_val.drop(columns=drop+[col]))[:, 1]\n",
    "            cur_auc = roc_auc_score(y_val, y_pred_proba)\n",
    "            if cur_auc > prev_auc:\n",
    "                prev_auc = cur_auc\n",
    "                drop.append(col)\n",
    "                if len(drop) == n_drops:\n",
    "                    break\n",
    "        for col in drop:\n",
    "            ans.remove(col)\n",
    "        if len(drop) == n_drops:\n",
    "            break\n",
    "    print()\n",
    "    model.set_params(verbose=1)\n",
    "    return ans"
   ]
  },
  {
   "cell_type": "code",
   "execution_count": 71,
   "metadata": {
    "ExecuteTime": {
     "end_time": "2021-11-22T03:40:36.005372Z",
     "start_time": "2021-11-22T03:40:35.483603Z"
    },
    "id": "q-kwyawfhVpf"
   },
   "outputs": [],
   "source": [
    "sample = train_test_split(X_train, y_train, test_size=0.5, random_state=0)"
   ]
  },
  {
   "cell_type": "markdown",
   "metadata": {
    "id": "tW2dZa6HhVpf"
   },
   "source": [
    "Жадный алгоритм, в ходе которого удаляем 1 признак, пробная итерация:"
   ]
  },
  {
   "cell_type": "code",
   "execution_count": 72,
   "metadata": {
    "ExecuteTime": {
     "end_time": "2021-11-22T04:12:27.838125Z",
     "start_time": "2021-11-22T04:09:41.364412Z"
    },
    "colab": {
     "base_uri": "https://localhost:8080/"
    },
    "id": "4SAN1o6HhVpf",
    "outputId": "02c3d22d-187f-4343-a682-96e8cffa86e3"
   },
   "outputs": [
    {
     "name": "stdout",
     "output_type": "stream",
     "text": [
      "0.62725 0.62725 \n",
      "CPU times: user 2min 38s, sys: 1.09 s, total: 2min 39s\n",
      "Wall time: 2min 37s\n"
     ]
    }
   ],
   "source": [
    "%%time\n",
    "f = greedy_algo_feats(*sample, model, n_drops=1)"
   ]
  },
  {
   "cell_type": "markdown",
   "metadata": {
    "ExecuteTime": {
     "end_time": "2021-11-22T04:48:01.133917Z",
     "start_time": "2021-11-22T04:48:01.117928Z"
    },
    "id": "wJlkB9PEhVpg"
   },
   "source": [
    "Признак для удаления не нашёлся, так как качество не изменилось. Процесс удаления 1-го признака занял около 3-х минут, значит, процесс удаления 27 признаков (отбора 200 признаков) займёт от 40 минут в лучшем случае. Это долго для нас, поэтому возьмём семпл"
   ]
  },
  {
   "cell_type": "markdown",
   "metadata": {
    "ExecuteTime": {
     "end_time": "2021-11-22T03:47:21.232356Z",
     "start_time": "2021-11-22T03:47:21.213377Z"
    },
    "id": "JBjar7wYhVpg"
   },
   "source": [
    "Далее возьмем семпл из $30 000$ объектов (вместо $10000$, предложенных в условии) исходного трейна с той же долей для валидации $0.5$:"
   ]
  },
  {
   "cell_type": "code",
   "execution_count": 73,
   "metadata": {
    "ExecuteTime": {
     "end_time": "2021-11-22T04:49:05.419180Z",
     "start_time": "2021-11-22T04:49:05.356922Z"
    },
    "id": "7CLrWqq_hVpg"
   },
   "outputs": [],
   "source": [
    "n = 30000\n",
    "sample = train_test_split(X_train.iloc[:n], y_train[:n], test_size=0.5, random_state=0)"
   ]
  },
  {
   "cell_type": "markdown",
   "metadata": {
    "ExecuteTime": {
     "end_time": "2021-11-22T03:46:02.592010Z",
     "start_time": "2021-11-22T03:46:02.577051Z"
    },
    "id": "QtBlIF-_hVpg"
   },
   "source": [
    "Жадный алгоритм, в ходе которого удаляем 27 признаков:"
   ]
  },
  {
   "cell_type": "code",
   "execution_count": 74,
   "metadata": {
    "ExecuteTime": {
     "end_time": "2021-11-22T04:50:41.990194Z",
     "start_time": "2021-11-22T04:49:07.717783Z"
    },
    "colab": {
     "base_uri": "https://localhost:8080/"
    },
    "id": "Tbov0bechVpg",
    "outputId": "8403aa32-9775-4602-fd3d-901c6e24c3e1"
   },
   "outputs": [
    {
     "name": "stdout",
     "output_type": "stream",
     "text": [
      "0.57000 0.57149 0.57164 0.57247 0.57247 0.57248 0.57253 0.57260 0.57260 0.57414 0.57494 0.57499 0.57513 0.57522 0.57522 0.57522 0.57541 0.57663 0.57682 0.57682 0.57682 0.57774 0.57774 0.57804 0.57821 0.57822 0.57822 0.57875 0.57875 0.57875 0.57928 0.57928 0.57928 0.57928 0.58072 0.58097 0.58101 0.58142 0.58142 0.58142 \n",
      "CPU times: user 2min 5s, sys: 13 s, total: 2min 18s\n",
      "Wall time: 2min 3s\n"
     ]
    }
   ],
   "source": [
    "%%time\n",
    "f = greedy_algo_feats(*sample, model, n_drops=27, random_state=0)"
   ]
  },
  {
   "cell_type": "markdown",
   "metadata": {
    "id": "r0_1gZKQhVpg"
   },
   "source": [
    "Обучаем модель на отобранных признаках:"
   ]
  },
  {
   "cell_type": "code",
   "execution_count": 75,
   "metadata": {
    "ExecuteTime": {
     "end_time": "2021-11-22T04:53:20.584743Z",
     "start_time": "2021-11-22T04:52:01.444640Z"
    },
    "colab": {
     "base_uri": "https://localhost:8080/"
    },
    "id": "bwcaKLqqhVpg",
    "outputId": "e9df1503-31c5-4a81-b4bb-6500980a1573"
   },
   "outputs": [
    {
     "name": "stderr",
     "output_type": "stream",
     "text": [
      "[Parallel(n_jobs=1)]: Using backend SequentialBackend with 1 concurrent workers.\n"
     ]
    },
    {
     "name": "stdout",
     "output_type": "stream",
     "text": [
      "max_iter reached after 96 seconds\n"
     ]
    },
    {
     "name": "stderr",
     "output_type": "stream",
     "text": [
      "[Parallel(n_jobs=1)]: Done   1 out of   1 | elapsed:  1.6min finished\n"
     ]
    }
   ],
   "source": [
    "model.fit(X_train[f], y_train)\n",
    "y_pred_proba = model.predict_proba(X_test[f])[:, 1]"
   ]
  },
  {
   "cell_type": "code",
   "execution_count": 76,
   "metadata": {
    "ExecuteTime": {
     "end_time": "2021-11-22T04:53:20.648601Z",
     "start_time": "2021-11-22T04:53:20.586738Z"
    },
    "colab": {
     "base_uri": "https://localhost:8080/"
    },
    "id": "J43AsvhRhVpg",
    "outputId": "5fb88cf1-c605-4198-f7f1-b95cc5da1fbf"
   },
   "outputs": [
    {
     "name": "stdout",
     "output_type": "stream",
     "text": [
      "ROC AUC (greedy feature selection): 0.6375\n"
     ]
    }
   ],
   "source": [
    "print(f'ROC AUC (greedy feature selection): {roc_auc_score(y_test, y_pred_proba):.4f}')"
   ]
  },
  {
   "cell_type": "markdown",
   "metadata": {
    "id": "vg6idGChhVpg"
   },
   "source": [
    "**(?)** Давайте подведём итоги по отбору признаков. Назовите преимущества и недостатки каждого из методов. Какой метод привёл к наилучшему качеству?\n",
    "\n",
    "**Ответ:**\n",
    "\n",
    "Сравнение методов:\n",
    "<table>\n",
    "  <tr>\n",
    "    <th>Метод отбора признаков</th>\n",
    "    <th>Качество</th>\n",
    "    <th>Преимущества</th>\n",
    "    <th>Недостатки</th>\n",
    "  </tr>\n",
    "  <tr>\n",
    "    <td>Без отбора</td>\n",
    "    <td>0.63809</td>\n",
    "    <td>Моментальный результат</td>\n",
    "    <td>Низкое качество</td>\n",
    "  </tr>\n",
    "  <tr>\n",
    "    <td>Встроенный</td>\n",
    "    <td>0.63821</td>\n",
    "    <td>Нормальная скорость работы, простота</td>\n",
    "    <td>Необходимость масштабирования</td>\n",
    "  </tr>\n",
    "  <tr>\n",
    "    <td>Фильтрация</td>\n",
    "    <td>0.63861</td>\n",
    "    <td>Высокая скорость работы</td>\n",
    "    <td>Возможно переобучение, то есть нужна большая выборка</td>\n",
    "  </tr>\n",
    "  <tr>\n",
    "    <td>Обёртка</td>\n",
    "    <td>0.63752</td>\n",
    "    <td>Теоретически эффективно, если уменшить жадность</td>\n",
    "    <td>Низкая скорость работы, низкое качество из-за слишком большой жадности</td>\n",
    "  </tr>\n",
    "</table>\n",
    "\n",
    "Самый быстрый метод с наилучшим качеством: **метод фильтрации t-статистикой**."
   ]
  },
  {
   "cell_type": "markdown",
   "metadata": {
    "id": "Ycved1vphVph"
   },
   "source": [
    "## Часть 5. Настройка порога для бинаризации вероятностей"
   ]
  },
  {
   "cell_type": "markdown",
   "metadata": {
    "id": "0S482PZFhVph"
   },
   "source": [
    "В этой части мы будем проделывать стандартные операции для подготовки модели к её реальному использованию — подбора порога для бинаризации вероятностей с учётом потребностей бизнеса или продукта. Хороший алгоритм с точки зрения ROC-AUC это, конечно, хорошо, но ведь в реальности нам надо принимать решение бинарно, например, выдавать ли кредит человеку. \n",
    "\n",
    "Воспользуемся той же самой задачей, что и в предыдущем разделе — определение обращение клиента в страховую в ближайшее время. Положительные объекты в нашей выборки как раз обратившиеся в страховую клиенты. \n",
    "\n",
    "Не вдаваясь в подробности бизнеса страховых, можно понять, что обращение клиента по страховому случаю для нас как страховой невыгодно, ведь мы теряем на этом деньги. Клиенты, которые не обращаются в страховую и ездят аккуратно, приносят нам деньги.\n",
    "\n",
    "Пусть на каждом клиенте, который обратился в нашу страховую, мы теряем 100000, а на клиенте, который не обратился в страховую, мы зарабатываем 5000. \n",
    "\n",
    "Будем строить алгоритм, который прогнозирует обращение по страховому случаю, чтобы некоторым потенциальным клиентам отказывать в обслуживании, если мы уверены, что на них мы потеряем деньги."
   ]
  },
  {
   "cell_type": "code",
   "execution_count": 77,
   "metadata": {
    "ExecuteTime": {
     "end_time": "2021-11-22T06:21:34.586687Z",
     "start_time": "2021-11-22T06:21:32.346193Z"
    },
    "id": "woQixgqHhVph"
   },
   "outputs": [],
   "source": [
    "data = pd.read_csv('drive/MyDrive/train.csv', index_col=0)\n",
    "target = data.target.values\n",
    "data = data.drop('target', axis=1)\n",
    "X_train, X_test, y_train, y_test = train_test_split(data, target, test_size=0.2, random_state=124)"
   ]
  },
  {
   "cell_type": "markdown",
   "metadata": {
    "id": "_O3aFMs-hVph"
   },
   "source": [
    "**Задание 11 (0.5 балла)**"
   ]
  },
  {
   "cell_type": "markdown",
   "metadata": {
    "id": "OAwc8CTihVph"
   },
   "source": [
    "В этот раз мы не будем сэмплировать данные и будем использовать их \"как есть\".\n",
    "\n",
    "**(?)** Посчитайте долю положительных примеров в выборке? Скажите, почему она такая?"
   ]
  },
  {
   "cell_type": "code",
   "execution_count": 78,
   "metadata": {
    "ExecuteTime": {
     "end_time": "2021-11-22T06:21:34.602644Z",
     "start_time": "2021-11-22T06:21:34.588682Z"
    },
    "colab": {
     "base_uri": "https://localhost:8080/"
    },
    "id": "jU4XOsFKhVph",
    "outputId": "f55e0dc3-1c35-4ac2-c8f6-f57fb6dc38b5"
   },
   "outputs": [
    {
     "name": "stdout",
     "output_type": "stream",
     "text": [
      "0.03645\n"
     ]
    }
   ],
   "source": [
    "print(f'{target.mean():.5f}')"
   ]
  },
  {
   "cell_type": "markdown",
   "metadata": {
    "id": "jlzgeFFGhVph"
   },
   "source": [
    "Положительных примеров меньше 4%, потому что страховые случаи происходят редко"
   ]
  },
  {
   "cell_type": "markdown",
   "metadata": {
    "id": "jslMDIAyhVpi"
   },
   "source": [
    "Как вы помните, в данных много категориальных признаков. Давайте закодируем их с помощью one-hot кодирования. Исходные колонки с категориальными признаками можно удалить."
   ]
  },
  {
   "cell_type": "code",
   "execution_count": 79,
   "metadata": {
    "ExecuteTime": {
     "end_time": "2021-11-22T06:21:38.071198Z",
     "start_time": "2021-11-22T06:21:36.863464Z"
    },
    "id": "tBTvpywYhVpi"
   },
   "outputs": [],
   "source": [
    "X_train, X_test = do_ohe(X_train, X_test)"
   ]
  },
  {
   "cell_type": "code",
   "execution_count": 80,
   "metadata": {
    "ExecuteTime": {
     "end_time": "2021-11-22T06:21:39.627148Z",
     "start_time": "2021-11-22T06:21:39.498983Z"
    },
    "colab": {
     "base_uri": "https://localhost:8080/",
     "height": 475
    },
    "id": "RTyCh_QahVpi",
    "outputId": "5955a998-e76a-4c1a-f610-793813a9fbfa"
   },
   "outputs": [
    {
     "data": {
      "text/html": [
       "<div>\n",
       "<style scoped>\n",
       "    .dataframe tbody tr th:only-of-type {\n",
       "        vertical-align: middle;\n",
       "    }\n",
       "\n",
       "    .dataframe tbody tr th {\n",
       "        vertical-align: top;\n",
       "    }\n",
       "\n",
       "    .dataframe thead th {\n",
       "        text-align: right;\n",
       "    }\n",
       "</style>\n",
       "<table border=\"1\" class=\"dataframe\">\n",
       "  <thead>\n",
       "    <tr style=\"text-align: right;\">\n",
       "      <th></th>\n",
       "      <th>ps_ind_01</th>\n",
       "      <th>ps_ind_03</th>\n",
       "      <th>ps_ind_06_bin</th>\n",
       "      <th>ps_ind_07_bin</th>\n",
       "      <th>ps_ind_08_bin</th>\n",
       "      <th>ps_ind_09_bin</th>\n",
       "      <th>ps_ind_10_bin</th>\n",
       "      <th>ps_ind_11_bin</th>\n",
       "      <th>ps_ind_12_bin</th>\n",
       "      <th>ps_ind_13_bin</th>\n",
       "      <th>ps_ind_14</th>\n",
       "      <th>ps_ind_15</th>\n",
       "      <th>ps_ind_16_bin</th>\n",
       "      <th>ps_ind_17_bin</th>\n",
       "      <th>ps_ind_18_bin</th>\n",
       "      <th>ps_reg_01</th>\n",
       "      <th>ps_reg_02</th>\n",
       "      <th>ps_reg_03</th>\n",
       "      <th>ps_car_11</th>\n",
       "      <th>ps_car_12</th>\n",
       "      <th>ps_car_13</th>\n",
       "      <th>ps_car_14</th>\n",
       "      <th>ps_car_15</th>\n",
       "      <th>ps_calc_01</th>\n",
       "      <th>ps_calc_02</th>\n",
       "      <th>ps_calc_03</th>\n",
       "      <th>ps_calc_04</th>\n",
       "      <th>ps_calc_05</th>\n",
       "      <th>ps_calc_06</th>\n",
       "      <th>ps_calc_07</th>\n",
       "      <th>ps_calc_08</th>\n",
       "      <th>ps_calc_09</th>\n",
       "      <th>ps_calc_10</th>\n",
       "      <th>ps_calc_11</th>\n",
       "      <th>ps_calc_12</th>\n",
       "      <th>ps_calc_13</th>\n",
       "      <th>ps_calc_14</th>\n",
       "      <th>ps_calc_15_bin</th>\n",
       "      <th>ps_calc_16_bin</th>\n",
       "      <th>ps_calc_17_bin</th>\n",
       "      <th>...</th>\n",
       "      <th>ps_car_11_cat_65</th>\n",
       "      <th>ps_car_11_cat_66</th>\n",
       "      <th>ps_car_11_cat_67</th>\n",
       "      <th>ps_car_11_cat_68</th>\n",
       "      <th>ps_car_11_cat_69</th>\n",
       "      <th>ps_car_11_cat_70</th>\n",
       "      <th>ps_car_11_cat_71</th>\n",
       "      <th>ps_car_11_cat_72</th>\n",
       "      <th>ps_car_11_cat_73</th>\n",
       "      <th>ps_car_11_cat_74</th>\n",
       "      <th>ps_car_11_cat_75</th>\n",
       "      <th>ps_car_11_cat_76</th>\n",
       "      <th>ps_car_11_cat_77</th>\n",
       "      <th>ps_car_11_cat_78</th>\n",
       "      <th>ps_car_11_cat_79</th>\n",
       "      <th>ps_car_11_cat_80</th>\n",
       "      <th>ps_car_11_cat_81</th>\n",
       "      <th>ps_car_11_cat_82</th>\n",
       "      <th>ps_car_11_cat_83</th>\n",
       "      <th>ps_car_11_cat_84</th>\n",
       "      <th>ps_car_11_cat_85</th>\n",
       "      <th>ps_car_11_cat_86</th>\n",
       "      <th>ps_car_11_cat_87</th>\n",
       "      <th>ps_car_11_cat_88</th>\n",
       "      <th>ps_car_11_cat_89</th>\n",
       "      <th>ps_car_11_cat_90</th>\n",
       "      <th>ps_car_11_cat_91</th>\n",
       "      <th>ps_car_11_cat_92</th>\n",
       "      <th>ps_car_11_cat_93</th>\n",
       "      <th>ps_car_11_cat_94</th>\n",
       "      <th>ps_car_11_cat_95</th>\n",
       "      <th>ps_car_11_cat_96</th>\n",
       "      <th>ps_car_11_cat_97</th>\n",
       "      <th>ps_car_11_cat_98</th>\n",
       "      <th>ps_car_11_cat_99</th>\n",
       "      <th>ps_car_11_cat_100</th>\n",
       "      <th>ps_car_11_cat_101</th>\n",
       "      <th>ps_car_11_cat_102</th>\n",
       "      <th>ps_car_11_cat_103</th>\n",
       "      <th>ps_car_11_cat_104</th>\n",
       "    </tr>\n",
       "    <tr>\n",
       "      <th>id</th>\n",
       "      <th></th>\n",
       "      <th></th>\n",
       "      <th></th>\n",
       "      <th></th>\n",
       "      <th></th>\n",
       "      <th></th>\n",
       "      <th></th>\n",
       "      <th></th>\n",
       "      <th></th>\n",
       "      <th></th>\n",
       "      <th></th>\n",
       "      <th></th>\n",
       "      <th></th>\n",
       "      <th></th>\n",
       "      <th></th>\n",
       "      <th></th>\n",
       "      <th></th>\n",
       "      <th></th>\n",
       "      <th></th>\n",
       "      <th></th>\n",
       "      <th></th>\n",
       "      <th></th>\n",
       "      <th></th>\n",
       "      <th></th>\n",
       "      <th></th>\n",
       "      <th></th>\n",
       "      <th></th>\n",
       "      <th></th>\n",
       "      <th></th>\n",
       "      <th></th>\n",
       "      <th></th>\n",
       "      <th></th>\n",
       "      <th></th>\n",
       "      <th></th>\n",
       "      <th></th>\n",
       "      <th></th>\n",
       "      <th></th>\n",
       "      <th></th>\n",
       "      <th></th>\n",
       "      <th></th>\n",
       "      <th></th>\n",
       "      <th></th>\n",
       "      <th></th>\n",
       "      <th></th>\n",
       "      <th></th>\n",
       "      <th></th>\n",
       "      <th></th>\n",
       "      <th></th>\n",
       "      <th></th>\n",
       "      <th></th>\n",
       "      <th></th>\n",
       "      <th></th>\n",
       "      <th></th>\n",
       "      <th></th>\n",
       "      <th></th>\n",
       "      <th></th>\n",
       "      <th></th>\n",
       "      <th></th>\n",
       "      <th></th>\n",
       "      <th></th>\n",
       "      <th></th>\n",
       "      <th></th>\n",
       "      <th></th>\n",
       "      <th></th>\n",
       "      <th></th>\n",
       "      <th></th>\n",
       "      <th></th>\n",
       "      <th></th>\n",
       "      <th></th>\n",
       "      <th></th>\n",
       "      <th></th>\n",
       "      <th></th>\n",
       "      <th></th>\n",
       "      <th></th>\n",
       "      <th></th>\n",
       "      <th></th>\n",
       "      <th></th>\n",
       "      <th></th>\n",
       "      <th></th>\n",
       "      <th></th>\n",
       "      <th></th>\n",
       "    </tr>\n",
       "  </thead>\n",
       "  <tbody>\n",
       "    <tr>\n",
       "      <th>381341</th>\n",
       "      <td>1</td>\n",
       "      <td>8</td>\n",
       "      <td>0</td>\n",
       "      <td>0</td>\n",
       "      <td>1</td>\n",
       "      <td>0</td>\n",
       "      <td>0</td>\n",
       "      <td>0</td>\n",
       "      <td>0</td>\n",
       "      <td>0</td>\n",
       "      <td>0</td>\n",
       "      <td>12</td>\n",
       "      <td>1</td>\n",
       "      <td>0</td>\n",
       "      <td>0</td>\n",
       "      <td>0.6</td>\n",
       "      <td>0.2</td>\n",
       "      <td>0.557898</td>\n",
       "      <td>3</td>\n",
       "      <td>0.316070</td>\n",
       "      <td>0.661625</td>\n",
       "      <td>0.374433</td>\n",
       "      <td>2.828427</td>\n",
       "      <td>0.3</td>\n",
       "      <td>0.8</td>\n",
       "      <td>0.4</td>\n",
       "      <td>2</td>\n",
       "      <td>1</td>\n",
       "      <td>8</td>\n",
       "      <td>2</td>\n",
       "      <td>9</td>\n",
       "      <td>2</td>\n",
       "      <td>7</td>\n",
       "      <td>2</td>\n",
       "      <td>1</td>\n",
       "      <td>5</td>\n",
       "      <td>8</td>\n",
       "      <td>0</td>\n",
       "      <td>1</td>\n",
       "      <td>1</td>\n",
       "      <td>...</td>\n",
       "      <td>0</td>\n",
       "      <td>0</td>\n",
       "      <td>0</td>\n",
       "      <td>0</td>\n",
       "      <td>0</td>\n",
       "      <td>0</td>\n",
       "      <td>0</td>\n",
       "      <td>0</td>\n",
       "      <td>0</td>\n",
       "      <td>0</td>\n",
       "      <td>0</td>\n",
       "      <td>0</td>\n",
       "      <td>0</td>\n",
       "      <td>0</td>\n",
       "      <td>0</td>\n",
       "      <td>0</td>\n",
       "      <td>0</td>\n",
       "      <td>0</td>\n",
       "      <td>0</td>\n",
       "      <td>0</td>\n",
       "      <td>0</td>\n",
       "      <td>0</td>\n",
       "      <td>0</td>\n",
       "      <td>0</td>\n",
       "      <td>0</td>\n",
       "      <td>0</td>\n",
       "      <td>0</td>\n",
       "      <td>0</td>\n",
       "      <td>0</td>\n",
       "      <td>0</td>\n",
       "      <td>0</td>\n",
       "      <td>0</td>\n",
       "      <td>0</td>\n",
       "      <td>0</td>\n",
       "      <td>0</td>\n",
       "      <td>0</td>\n",
       "      <td>0</td>\n",
       "      <td>0</td>\n",
       "      <td>0</td>\n",
       "      <td>0</td>\n",
       "    </tr>\n",
       "    <tr>\n",
       "      <th>1327969</th>\n",
       "      <td>2</td>\n",
       "      <td>2</td>\n",
       "      <td>0</td>\n",
       "      <td>0</td>\n",
       "      <td>0</td>\n",
       "      <td>1</td>\n",
       "      <td>0</td>\n",
       "      <td>0</td>\n",
       "      <td>0</td>\n",
       "      <td>0</td>\n",
       "      <td>0</td>\n",
       "      <td>10</td>\n",
       "      <td>1</td>\n",
       "      <td>0</td>\n",
       "      <td>0</td>\n",
       "      <td>0.8</td>\n",
       "      <td>0.9</td>\n",
       "      <td>0.943729</td>\n",
       "      <td>1</td>\n",
       "      <td>0.316228</td>\n",
       "      <td>0.642824</td>\n",
       "      <td>0.394335</td>\n",
       "      <td>3.162278</td>\n",
       "      <td>0.5</td>\n",
       "      <td>0.8</td>\n",
       "      <td>0.2</td>\n",
       "      <td>3</td>\n",
       "      <td>2</td>\n",
       "      <td>9</td>\n",
       "      <td>1</td>\n",
       "      <td>8</td>\n",
       "      <td>2</td>\n",
       "      <td>5</td>\n",
       "      <td>6</td>\n",
       "      <td>0</td>\n",
       "      <td>2</td>\n",
       "      <td>5</td>\n",
       "      <td>0</td>\n",
       "      <td>1</td>\n",
       "      <td>1</td>\n",
       "      <td>...</td>\n",
       "      <td>0</td>\n",
       "      <td>0</td>\n",
       "      <td>0</td>\n",
       "      <td>0</td>\n",
       "      <td>0</td>\n",
       "      <td>0</td>\n",
       "      <td>0</td>\n",
       "      <td>0</td>\n",
       "      <td>0</td>\n",
       "      <td>0</td>\n",
       "      <td>0</td>\n",
       "      <td>0</td>\n",
       "      <td>0</td>\n",
       "      <td>0</td>\n",
       "      <td>0</td>\n",
       "      <td>0</td>\n",
       "      <td>0</td>\n",
       "      <td>0</td>\n",
       "      <td>0</td>\n",
       "      <td>0</td>\n",
       "      <td>0</td>\n",
       "      <td>0</td>\n",
       "      <td>0</td>\n",
       "      <td>0</td>\n",
       "      <td>0</td>\n",
       "      <td>0</td>\n",
       "      <td>0</td>\n",
       "      <td>0</td>\n",
       "      <td>0</td>\n",
       "      <td>0</td>\n",
       "      <td>0</td>\n",
       "      <td>0</td>\n",
       "      <td>0</td>\n",
       "      <td>0</td>\n",
       "      <td>0</td>\n",
       "      <td>0</td>\n",
       "      <td>0</td>\n",
       "      <td>0</td>\n",
       "      <td>0</td>\n",
       "      <td>0</td>\n",
       "    </tr>\n",
       "    <tr>\n",
       "      <th>601794</th>\n",
       "      <td>0</td>\n",
       "      <td>2</td>\n",
       "      <td>1</td>\n",
       "      <td>0</td>\n",
       "      <td>0</td>\n",
       "      <td>0</td>\n",
       "      <td>0</td>\n",
       "      <td>0</td>\n",
       "      <td>0</td>\n",
       "      <td>0</td>\n",
       "      <td>0</td>\n",
       "      <td>8</td>\n",
       "      <td>0</td>\n",
       "      <td>1</td>\n",
       "      <td>0</td>\n",
       "      <td>0.6</td>\n",
       "      <td>0.4</td>\n",
       "      <td>0.637868</td>\n",
       "      <td>3</td>\n",
       "      <td>0.374166</td>\n",
       "      <td>0.741327</td>\n",
       "      <td>0.318591</td>\n",
       "      <td>3.464102</td>\n",
       "      <td>0.9</td>\n",
       "      <td>0.6</td>\n",
       "      <td>0.2</td>\n",
       "      <td>1</td>\n",
       "      <td>2</td>\n",
       "      <td>9</td>\n",
       "      <td>2</td>\n",
       "      <td>10</td>\n",
       "      <td>2</td>\n",
       "      <td>3</td>\n",
       "      <td>9</td>\n",
       "      <td>1</td>\n",
       "      <td>5</td>\n",
       "      <td>3</td>\n",
       "      <td>0</td>\n",
       "      <td>0</td>\n",
       "      <td>0</td>\n",
       "      <td>...</td>\n",
       "      <td>0</td>\n",
       "      <td>0</td>\n",
       "      <td>0</td>\n",
       "      <td>0</td>\n",
       "      <td>0</td>\n",
       "      <td>0</td>\n",
       "      <td>0</td>\n",
       "      <td>0</td>\n",
       "      <td>0</td>\n",
       "      <td>0</td>\n",
       "      <td>0</td>\n",
       "      <td>0</td>\n",
       "      <td>0</td>\n",
       "      <td>0</td>\n",
       "      <td>0</td>\n",
       "      <td>0</td>\n",
       "      <td>0</td>\n",
       "      <td>0</td>\n",
       "      <td>0</td>\n",
       "      <td>0</td>\n",
       "      <td>0</td>\n",
       "      <td>0</td>\n",
       "      <td>0</td>\n",
       "      <td>0</td>\n",
       "      <td>0</td>\n",
       "      <td>0</td>\n",
       "      <td>0</td>\n",
       "      <td>0</td>\n",
       "      <td>0</td>\n",
       "      <td>0</td>\n",
       "      <td>0</td>\n",
       "      <td>0</td>\n",
       "      <td>0</td>\n",
       "      <td>0</td>\n",
       "      <td>0</td>\n",
       "      <td>0</td>\n",
       "      <td>0</td>\n",
       "      <td>0</td>\n",
       "      <td>0</td>\n",
       "      <td>0</td>\n",
       "    </tr>\n",
       "    <tr>\n",
       "      <th>632925</th>\n",
       "      <td>6</td>\n",
       "      <td>11</td>\n",
       "      <td>0</td>\n",
       "      <td>1</td>\n",
       "      <td>0</td>\n",
       "      <td>0</td>\n",
       "      <td>0</td>\n",
       "      <td>0</td>\n",
       "      <td>0</td>\n",
       "      <td>0</td>\n",
       "      <td>0</td>\n",
       "      <td>10</td>\n",
       "      <td>0</td>\n",
       "      <td>0</td>\n",
       "      <td>0</td>\n",
       "      <td>0.2</td>\n",
       "      <td>0.0</td>\n",
       "      <td>-1.000000</td>\n",
       "      <td>3</td>\n",
       "      <td>0.374166</td>\n",
       "      <td>0.693848</td>\n",
       "      <td>0.380789</td>\n",
       "      <td>2.449490</td>\n",
       "      <td>0.0</td>\n",
       "      <td>0.5</td>\n",
       "      <td>0.2</td>\n",
       "      <td>2</td>\n",
       "      <td>4</td>\n",
       "      <td>8</td>\n",
       "      <td>4</td>\n",
       "      <td>10</td>\n",
       "      <td>2</td>\n",
       "      <td>9</td>\n",
       "      <td>8</td>\n",
       "      <td>1</td>\n",
       "      <td>2</td>\n",
       "      <td>4</td>\n",
       "      <td>0</td>\n",
       "      <td>1</td>\n",
       "      <td>0</td>\n",
       "      <td>...</td>\n",
       "      <td>0</td>\n",
       "      <td>0</td>\n",
       "      <td>0</td>\n",
       "      <td>0</td>\n",
       "      <td>0</td>\n",
       "      <td>0</td>\n",
       "      <td>0</td>\n",
       "      <td>0</td>\n",
       "      <td>0</td>\n",
       "      <td>0</td>\n",
       "      <td>0</td>\n",
       "      <td>0</td>\n",
       "      <td>0</td>\n",
       "      <td>0</td>\n",
       "      <td>0</td>\n",
       "      <td>0</td>\n",
       "      <td>0</td>\n",
       "      <td>0</td>\n",
       "      <td>0</td>\n",
       "      <td>0</td>\n",
       "      <td>0</td>\n",
       "      <td>0</td>\n",
       "      <td>0</td>\n",
       "      <td>0</td>\n",
       "      <td>0</td>\n",
       "      <td>0</td>\n",
       "      <td>0</td>\n",
       "      <td>0</td>\n",
       "      <td>0</td>\n",
       "      <td>0</td>\n",
       "      <td>0</td>\n",
       "      <td>0</td>\n",
       "      <td>0</td>\n",
       "      <td>0</td>\n",
       "      <td>0</td>\n",
       "      <td>0</td>\n",
       "      <td>0</td>\n",
       "      <td>0</td>\n",
       "      <td>0</td>\n",
       "      <td>0</td>\n",
       "    </tr>\n",
       "    <tr>\n",
       "      <th>74864</th>\n",
       "      <td>3</td>\n",
       "      <td>5</td>\n",
       "      <td>0</td>\n",
       "      <td>0</td>\n",
       "      <td>1</td>\n",
       "      <td>0</td>\n",
       "      <td>0</td>\n",
       "      <td>0</td>\n",
       "      <td>1</td>\n",
       "      <td>0</td>\n",
       "      <td>1</td>\n",
       "      <td>10</td>\n",
       "      <td>0</td>\n",
       "      <td>0</td>\n",
       "      <td>0</td>\n",
       "      <td>0.4</td>\n",
       "      <td>0.0</td>\n",
       "      <td>1.184800</td>\n",
       "      <td>3</td>\n",
       "      <td>0.316228</td>\n",
       "      <td>0.663605</td>\n",
       "      <td>0.294449</td>\n",
       "      <td>3.000000</td>\n",
       "      <td>0.3</td>\n",
       "      <td>0.5</td>\n",
       "      <td>0.9</td>\n",
       "      <td>1</td>\n",
       "      <td>2</td>\n",
       "      <td>8</td>\n",
       "      <td>4</td>\n",
       "      <td>8</td>\n",
       "      <td>3</td>\n",
       "      <td>10</td>\n",
       "      <td>9</td>\n",
       "      <td>2</td>\n",
       "      <td>3</td>\n",
       "      <td>8</td>\n",
       "      <td>0</td>\n",
       "      <td>1</td>\n",
       "      <td>1</td>\n",
       "      <td>...</td>\n",
       "      <td>0</td>\n",
       "      <td>0</td>\n",
       "      <td>0</td>\n",
       "      <td>0</td>\n",
       "      <td>0</td>\n",
       "      <td>0</td>\n",
       "      <td>0</td>\n",
       "      <td>0</td>\n",
       "      <td>0</td>\n",
       "      <td>0</td>\n",
       "      <td>0</td>\n",
       "      <td>0</td>\n",
       "      <td>0</td>\n",
       "      <td>0</td>\n",
       "      <td>0</td>\n",
       "      <td>0</td>\n",
       "      <td>0</td>\n",
       "      <td>0</td>\n",
       "      <td>0</td>\n",
       "      <td>0</td>\n",
       "      <td>0</td>\n",
       "      <td>0</td>\n",
       "      <td>1</td>\n",
       "      <td>0</td>\n",
       "      <td>0</td>\n",
       "      <td>0</td>\n",
       "      <td>0</td>\n",
       "      <td>0</td>\n",
       "      <td>0</td>\n",
       "      <td>0</td>\n",
       "      <td>0</td>\n",
       "      <td>0</td>\n",
       "      <td>0</td>\n",
       "      <td>0</td>\n",
       "      <td>0</td>\n",
       "      <td>0</td>\n",
       "      <td>0</td>\n",
       "      <td>0</td>\n",
       "      <td>0</td>\n",
       "      <td>0</td>\n",
       "    </tr>\n",
       "    <tr>\n",
       "      <th>...</th>\n",
       "      <td>...</td>\n",
       "      <td>...</td>\n",
       "      <td>...</td>\n",
       "      <td>...</td>\n",
       "      <td>...</td>\n",
       "      <td>...</td>\n",
       "      <td>...</td>\n",
       "      <td>...</td>\n",
       "      <td>...</td>\n",
       "      <td>...</td>\n",
       "      <td>...</td>\n",
       "      <td>...</td>\n",
       "      <td>...</td>\n",
       "      <td>...</td>\n",
       "      <td>...</td>\n",
       "      <td>...</td>\n",
       "      <td>...</td>\n",
       "      <td>...</td>\n",
       "      <td>...</td>\n",
       "      <td>...</td>\n",
       "      <td>...</td>\n",
       "      <td>...</td>\n",
       "      <td>...</td>\n",
       "      <td>...</td>\n",
       "      <td>...</td>\n",
       "      <td>...</td>\n",
       "      <td>...</td>\n",
       "      <td>...</td>\n",
       "      <td>...</td>\n",
       "      <td>...</td>\n",
       "      <td>...</td>\n",
       "      <td>...</td>\n",
       "      <td>...</td>\n",
       "      <td>...</td>\n",
       "      <td>...</td>\n",
       "      <td>...</td>\n",
       "      <td>...</td>\n",
       "      <td>...</td>\n",
       "      <td>...</td>\n",
       "      <td>...</td>\n",
       "      <td>...</td>\n",
       "      <td>...</td>\n",
       "      <td>...</td>\n",
       "      <td>...</td>\n",
       "      <td>...</td>\n",
       "      <td>...</td>\n",
       "      <td>...</td>\n",
       "      <td>...</td>\n",
       "      <td>...</td>\n",
       "      <td>...</td>\n",
       "      <td>...</td>\n",
       "      <td>...</td>\n",
       "      <td>...</td>\n",
       "      <td>...</td>\n",
       "      <td>...</td>\n",
       "      <td>...</td>\n",
       "      <td>...</td>\n",
       "      <td>...</td>\n",
       "      <td>...</td>\n",
       "      <td>...</td>\n",
       "      <td>...</td>\n",
       "      <td>...</td>\n",
       "      <td>...</td>\n",
       "      <td>...</td>\n",
       "      <td>...</td>\n",
       "      <td>...</td>\n",
       "      <td>...</td>\n",
       "      <td>...</td>\n",
       "      <td>...</td>\n",
       "      <td>...</td>\n",
       "      <td>...</td>\n",
       "      <td>...</td>\n",
       "      <td>...</td>\n",
       "      <td>...</td>\n",
       "      <td>...</td>\n",
       "      <td>...</td>\n",
       "      <td>...</td>\n",
       "      <td>...</td>\n",
       "      <td>...</td>\n",
       "      <td>...</td>\n",
       "      <td>...</td>\n",
       "    </tr>\n",
       "    <tr>\n",
       "      <th>1215796</th>\n",
       "      <td>2</td>\n",
       "      <td>6</td>\n",
       "      <td>1</td>\n",
       "      <td>0</td>\n",
       "      <td>0</td>\n",
       "      <td>0</td>\n",
       "      <td>0</td>\n",
       "      <td>0</td>\n",
       "      <td>0</td>\n",
       "      <td>0</td>\n",
       "      <td>0</td>\n",
       "      <td>1</td>\n",
       "      <td>0</td>\n",
       "      <td>0</td>\n",
       "      <td>1</td>\n",
       "      <td>0.9</td>\n",
       "      <td>1.1</td>\n",
       "      <td>1.325472</td>\n",
       "      <td>2</td>\n",
       "      <td>0.422019</td>\n",
       "      <td>0.498344</td>\n",
       "      <td>0.387298</td>\n",
       "      <td>0.000000</td>\n",
       "      <td>0.3</td>\n",
       "      <td>0.5</td>\n",
       "      <td>0.7</td>\n",
       "      <td>3</td>\n",
       "      <td>3</td>\n",
       "      <td>9</td>\n",
       "      <td>5</td>\n",
       "      <td>9</td>\n",
       "      <td>3</td>\n",
       "      <td>9</td>\n",
       "      <td>5</td>\n",
       "      <td>1</td>\n",
       "      <td>3</td>\n",
       "      <td>3</td>\n",
       "      <td>0</td>\n",
       "      <td>0</td>\n",
       "      <td>0</td>\n",
       "      <td>...</td>\n",
       "      <td>0</td>\n",
       "      <td>0</td>\n",
       "      <td>0</td>\n",
       "      <td>0</td>\n",
       "      <td>0</td>\n",
       "      <td>0</td>\n",
       "      <td>0</td>\n",
       "      <td>0</td>\n",
       "      <td>0</td>\n",
       "      <td>0</td>\n",
       "      <td>0</td>\n",
       "      <td>0</td>\n",
       "      <td>0</td>\n",
       "      <td>0</td>\n",
       "      <td>0</td>\n",
       "      <td>0</td>\n",
       "      <td>0</td>\n",
       "      <td>0</td>\n",
       "      <td>0</td>\n",
       "      <td>0</td>\n",
       "      <td>0</td>\n",
       "      <td>0</td>\n",
       "      <td>0</td>\n",
       "      <td>0</td>\n",
       "      <td>0</td>\n",
       "      <td>0</td>\n",
       "      <td>0</td>\n",
       "      <td>0</td>\n",
       "      <td>0</td>\n",
       "      <td>0</td>\n",
       "      <td>0</td>\n",
       "      <td>0</td>\n",
       "      <td>0</td>\n",
       "      <td>0</td>\n",
       "      <td>0</td>\n",
       "      <td>0</td>\n",
       "      <td>0</td>\n",
       "      <td>0</td>\n",
       "      <td>0</td>\n",
       "      <td>1</td>\n",
       "    </tr>\n",
       "    <tr>\n",
       "      <th>514147</th>\n",
       "      <td>1</td>\n",
       "      <td>7</td>\n",
       "      <td>1</td>\n",
       "      <td>0</td>\n",
       "      <td>0</td>\n",
       "      <td>0</td>\n",
       "      <td>0</td>\n",
       "      <td>0</td>\n",
       "      <td>0</td>\n",
       "      <td>0</td>\n",
       "      <td>0</td>\n",
       "      <td>13</td>\n",
       "      <td>1</td>\n",
       "      <td>0</td>\n",
       "      <td>0</td>\n",
       "      <td>0.6</td>\n",
       "      <td>0.6</td>\n",
       "      <td>0.904503</td>\n",
       "      <td>3</td>\n",
       "      <td>0.400000</td>\n",
       "      <td>0.847615</td>\n",
       "      <td>0.338821</td>\n",
       "      <td>3.464102</td>\n",
       "      <td>0.0</td>\n",
       "      <td>0.6</td>\n",
       "      <td>0.1</td>\n",
       "      <td>0</td>\n",
       "      <td>3</td>\n",
       "      <td>8</td>\n",
       "      <td>2</td>\n",
       "      <td>8</td>\n",
       "      <td>2</td>\n",
       "      <td>9</td>\n",
       "      <td>5</td>\n",
       "      <td>1</td>\n",
       "      <td>5</td>\n",
       "      <td>5</td>\n",
       "      <td>0</td>\n",
       "      <td>0</td>\n",
       "      <td>0</td>\n",
       "      <td>...</td>\n",
       "      <td>0</td>\n",
       "      <td>0</td>\n",
       "      <td>0</td>\n",
       "      <td>0</td>\n",
       "      <td>0</td>\n",
       "      <td>0</td>\n",
       "      <td>0</td>\n",
       "      <td>0</td>\n",
       "      <td>0</td>\n",
       "      <td>0</td>\n",
       "      <td>0</td>\n",
       "      <td>0</td>\n",
       "      <td>0</td>\n",
       "      <td>0</td>\n",
       "      <td>0</td>\n",
       "      <td>0</td>\n",
       "      <td>0</td>\n",
       "      <td>0</td>\n",
       "      <td>0</td>\n",
       "      <td>0</td>\n",
       "      <td>0</td>\n",
       "      <td>0</td>\n",
       "      <td>0</td>\n",
       "      <td>0</td>\n",
       "      <td>0</td>\n",
       "      <td>0</td>\n",
       "      <td>0</td>\n",
       "      <td>0</td>\n",
       "      <td>0</td>\n",
       "      <td>0</td>\n",
       "      <td>0</td>\n",
       "      <td>0</td>\n",
       "      <td>0</td>\n",
       "      <td>0</td>\n",
       "      <td>0</td>\n",
       "      <td>0</td>\n",
       "      <td>0</td>\n",
       "      <td>0</td>\n",
       "      <td>0</td>\n",
       "      <td>1</td>\n",
       "    </tr>\n",
       "    <tr>\n",
       "      <th>1182212</th>\n",
       "      <td>3</td>\n",
       "      <td>4</td>\n",
       "      <td>0</td>\n",
       "      <td>0</td>\n",
       "      <td>0</td>\n",
       "      <td>1</td>\n",
       "      <td>0</td>\n",
       "      <td>0</td>\n",
       "      <td>0</td>\n",
       "      <td>0</td>\n",
       "      <td>0</td>\n",
       "      <td>0</td>\n",
       "      <td>0</td>\n",
       "      <td>0</td>\n",
       "      <td>1</td>\n",
       "      <td>0.5</td>\n",
       "      <td>0.4</td>\n",
       "      <td>0.639336</td>\n",
       "      <td>2</td>\n",
       "      <td>0.374166</td>\n",
       "      <td>0.862954</td>\n",
       "      <td>0.399625</td>\n",
       "      <td>3.464102</td>\n",
       "      <td>0.8</td>\n",
       "      <td>0.7</td>\n",
       "      <td>0.0</td>\n",
       "      <td>2</td>\n",
       "      <td>2</td>\n",
       "      <td>7</td>\n",
       "      <td>7</td>\n",
       "      <td>10</td>\n",
       "      <td>2</td>\n",
       "      <td>8</td>\n",
       "      <td>5</td>\n",
       "      <td>1</td>\n",
       "      <td>3</td>\n",
       "      <td>3</td>\n",
       "      <td>0</td>\n",
       "      <td>1</td>\n",
       "      <td>0</td>\n",
       "      <td>...</td>\n",
       "      <td>0</td>\n",
       "      <td>0</td>\n",
       "      <td>0</td>\n",
       "      <td>0</td>\n",
       "      <td>0</td>\n",
       "      <td>0</td>\n",
       "      <td>0</td>\n",
       "      <td>0</td>\n",
       "      <td>0</td>\n",
       "      <td>0</td>\n",
       "      <td>0</td>\n",
       "      <td>0</td>\n",
       "      <td>0</td>\n",
       "      <td>0</td>\n",
       "      <td>0</td>\n",
       "      <td>0</td>\n",
       "      <td>0</td>\n",
       "      <td>0</td>\n",
       "      <td>0</td>\n",
       "      <td>0</td>\n",
       "      <td>1</td>\n",
       "      <td>0</td>\n",
       "      <td>0</td>\n",
       "      <td>0</td>\n",
       "      <td>0</td>\n",
       "      <td>0</td>\n",
       "      <td>0</td>\n",
       "      <td>0</td>\n",
       "      <td>0</td>\n",
       "      <td>0</td>\n",
       "      <td>0</td>\n",
       "      <td>0</td>\n",
       "      <td>0</td>\n",
       "      <td>0</td>\n",
       "      <td>0</td>\n",
       "      <td>0</td>\n",
       "      <td>0</td>\n",
       "      <td>0</td>\n",
       "      <td>0</td>\n",
       "      <td>0</td>\n",
       "    </tr>\n",
       "    <tr>\n",
       "      <th>258042</th>\n",
       "      <td>3</td>\n",
       "      <td>1</td>\n",
       "      <td>0</td>\n",
       "      <td>1</td>\n",
       "      <td>0</td>\n",
       "      <td>0</td>\n",
       "      <td>0</td>\n",
       "      <td>0</td>\n",
       "      <td>0</td>\n",
       "      <td>0</td>\n",
       "      <td>0</td>\n",
       "      <td>11</td>\n",
       "      <td>1</td>\n",
       "      <td>0</td>\n",
       "      <td>0</td>\n",
       "      <td>0.8</td>\n",
       "      <td>0.2</td>\n",
       "      <td>0.772981</td>\n",
       "      <td>3</td>\n",
       "      <td>0.316228</td>\n",
       "      <td>0.707238</td>\n",
       "      <td>0.368511</td>\n",
       "      <td>3.316625</td>\n",
       "      <td>0.6</td>\n",
       "      <td>0.5</td>\n",
       "      <td>0.0</td>\n",
       "      <td>4</td>\n",
       "      <td>1</td>\n",
       "      <td>9</td>\n",
       "      <td>4</td>\n",
       "      <td>10</td>\n",
       "      <td>4</td>\n",
       "      <td>7</td>\n",
       "      <td>9</td>\n",
       "      <td>0</td>\n",
       "      <td>2</td>\n",
       "      <td>7</td>\n",
       "      <td>0</td>\n",
       "      <td>1</td>\n",
       "      <td>0</td>\n",
       "      <td>...</td>\n",
       "      <td>0</td>\n",
       "      <td>0</td>\n",
       "      <td>0</td>\n",
       "      <td>0</td>\n",
       "      <td>0</td>\n",
       "      <td>0</td>\n",
       "      <td>0</td>\n",
       "      <td>0</td>\n",
       "      <td>0</td>\n",
       "      <td>0</td>\n",
       "      <td>0</td>\n",
       "      <td>0</td>\n",
       "      <td>0</td>\n",
       "      <td>0</td>\n",
       "      <td>0</td>\n",
       "      <td>0</td>\n",
       "      <td>0</td>\n",
       "      <td>1</td>\n",
       "      <td>0</td>\n",
       "      <td>0</td>\n",
       "      <td>0</td>\n",
       "      <td>0</td>\n",
       "      <td>0</td>\n",
       "      <td>0</td>\n",
       "      <td>0</td>\n",
       "      <td>0</td>\n",
       "      <td>0</td>\n",
       "      <td>0</td>\n",
       "      <td>0</td>\n",
       "      <td>0</td>\n",
       "      <td>0</td>\n",
       "      <td>0</td>\n",
       "      <td>0</td>\n",
       "      <td>0</td>\n",
       "      <td>0</td>\n",
       "      <td>0</td>\n",
       "      <td>0</td>\n",
       "      <td>0</td>\n",
       "      <td>0</td>\n",
       "      <td>0</td>\n",
       "    </tr>\n",
       "    <tr>\n",
       "      <th>1158078</th>\n",
       "      <td>1</td>\n",
       "      <td>0</td>\n",
       "      <td>0</td>\n",
       "      <td>0</td>\n",
       "      <td>1</td>\n",
       "      <td>0</td>\n",
       "      <td>0</td>\n",
       "      <td>0</td>\n",
       "      <td>0</td>\n",
       "      <td>0</td>\n",
       "      <td>0</td>\n",
       "      <td>11</td>\n",
       "      <td>1</td>\n",
       "      <td>0</td>\n",
       "      <td>0</td>\n",
       "      <td>0.7</td>\n",
       "      <td>1.5</td>\n",
       "      <td>1.322876</td>\n",
       "      <td>2</td>\n",
       "      <td>0.316228</td>\n",
       "      <td>0.735195</td>\n",
       "      <td>0.359861</td>\n",
       "      <td>3.464102</td>\n",
       "      <td>0.2</td>\n",
       "      <td>0.1</td>\n",
       "      <td>0.3</td>\n",
       "      <td>2</td>\n",
       "      <td>2</td>\n",
       "      <td>7</td>\n",
       "      <td>3</td>\n",
       "      <td>10</td>\n",
       "      <td>2</td>\n",
       "      <td>7</td>\n",
       "      <td>3</td>\n",
       "      <td>0</td>\n",
       "      <td>7</td>\n",
       "      <td>14</td>\n",
       "      <td>0</td>\n",
       "      <td>0</td>\n",
       "      <td>1</td>\n",
       "      <td>...</td>\n",
       "      <td>0</td>\n",
       "      <td>0</td>\n",
       "      <td>0</td>\n",
       "      <td>0</td>\n",
       "      <td>0</td>\n",
       "      <td>0</td>\n",
       "      <td>0</td>\n",
       "      <td>0</td>\n",
       "      <td>0</td>\n",
       "      <td>0</td>\n",
       "      <td>0</td>\n",
       "      <td>0</td>\n",
       "      <td>0</td>\n",
       "      <td>0</td>\n",
       "      <td>0</td>\n",
       "      <td>0</td>\n",
       "      <td>0</td>\n",
       "      <td>0</td>\n",
       "      <td>0</td>\n",
       "      <td>0</td>\n",
       "      <td>0</td>\n",
       "      <td>0</td>\n",
       "      <td>0</td>\n",
       "      <td>0</td>\n",
       "      <td>0</td>\n",
       "      <td>0</td>\n",
       "      <td>0</td>\n",
       "      <td>0</td>\n",
       "      <td>0</td>\n",
       "      <td>0</td>\n",
       "      <td>0</td>\n",
       "      <td>0</td>\n",
       "      <td>0</td>\n",
       "      <td>0</td>\n",
       "      <td>0</td>\n",
       "      <td>0</td>\n",
       "      <td>0</td>\n",
       "      <td>0</td>\n",
       "      <td>0</td>\n",
       "      <td>0</td>\n",
       "    </tr>\n",
       "  </tbody>\n",
       "</table>\n",
       "<p>476169 rows × 227 columns</p>\n",
       "</div>"
      ],
      "text/plain": [
       "         ps_ind_01  ps_ind_03  ...  ps_car_11_cat_103  ps_car_11_cat_104\n",
       "id                             ...                                      \n",
       "381341           1          8  ...                  0                  0\n",
       "1327969          2          2  ...                  0                  0\n",
       "601794           0          2  ...                  0                  0\n",
       "632925           6         11  ...                  0                  0\n",
       "74864            3          5  ...                  0                  0\n",
       "...            ...        ...  ...                ...                ...\n",
       "1215796          2          6  ...                  0                  1\n",
       "514147           1          7  ...                  0                  1\n",
       "1182212          3          4  ...                  0                  0\n",
       "258042           3          1  ...                  0                  0\n",
       "1158078          1          0  ...                  0                  0\n",
       "\n",
       "[476169 rows x 227 columns]"
      ]
     },
     "execution_count": 80,
     "metadata": {},
     "output_type": "execute_result"
    }
   ],
   "source": [
    "X_train"
   ]
  },
  {
   "cell_type": "markdown",
   "metadata": {
    "id": "N7XV0lNihVpi"
   },
   "source": [
    "В качестве нашей основной модели будем использовать логистическую регрессию, которая возвращает вероятность положительного класса. Обучите модель, сделайте предсказания на тестовой выборке."
   ]
  },
  {
   "cell_type": "code",
   "execution_count": 81,
   "metadata": {
    "ExecuteTime": {
     "end_time": "2021-11-22T06:23:30.700110Z",
     "start_time": "2021-11-22T06:21:43.634767Z"
    },
    "id": "wNx-8mXFhVpi"
   },
   "outputs": [],
   "source": [
    "model = LogisticRegression(solver='sag', random_state=0)\n",
    "model.fit(X_train, y_train)\n",
    "y_pred_proba = model.predict_proba(X_test)[:, 1]"
   ]
  },
  {
   "cell_type": "markdown",
   "metadata": {
    "id": "G0irYNFbhVpi"
   },
   "source": [
    "**(?)** Посчитайте ROC-AUC. Что вы можете про него сказать? Как вы считаете, почему получилось так?"
   ]
  },
  {
   "cell_type": "code",
   "execution_count": 82,
   "metadata": {
    "ExecuteTime": {
     "end_time": "2021-11-22T06:27:21.025262Z",
     "start_time": "2021-11-22T06:27:20.872257Z"
    },
    "colab": {
     "base_uri": "https://localhost:8080/",
     "height": 369
    },
    "id": "TA0OYx7whVpi",
    "outputId": "64be235a-232c-4d1a-c713-2b5f0a5ec837"
   },
   "outputs": [
    {
     "data": {
      "image/png": "[encoded data removed]",
      "text/plain": [
       "<Figure size 360x360 with 1 Axes>"
      ]
     },
     "metadata": {
      "needs_background": "light"
     },
     "output_type": "display_data"
    }
   ],
   "source": [
    "fpr, tpr, _ = roc_curve(y_test, y_pred_proba)\n",
    "fig = plt.figure(figsize=(5, 5))\n",
    "ax = fig.add_subplot(111)\n",
    "plot_curve_w_auc(ax, 'ROC curve', fpr, tpr, 'g', 'FPR', 'TPR')\n",
    "plt.tight_layout()"
   ]
  },
  {
   "cell_type": "markdown",
   "metadata": {
    "id": "zNNT9SSQhVpi"
   },
   "source": [
    "ROC-AUC качество невысокое, много ложноположительных результатов из-за дисбаланса классов: как уже говорилось, в классе `+1` более, чем в 25 раз меньше объектов, чем в классе `-1`"
   ]
  },
  {
   "cell_type": "markdown",
   "metadata": {
    "id": "YkVny_8KhVpi"
   },
   "source": [
    "**(?)** Постройте precision-recall кривую на тестовой выборке. Что вы можете по ней сказать?"
   ]
  },
  {
   "cell_type": "code",
   "execution_count": 83,
   "metadata": {
    "ExecuteTime": {
     "end_time": "2021-11-22T06:28:51.711288Z",
     "start_time": "2021-11-22T06:28:51.488530Z"
    },
    "colab": {
     "base_uri": "https://localhost:8080/",
     "height": 369
    },
    "id": "irat1d4LhVpi",
    "outputId": "de4e5eaf-5c2a-4320-d989-86d243a8e650"
   },
   "outputs": [
    {
     "data": {
      "image/png": "[encoded data removed]",
      "text/plain": [
       "<Figure size 360x360 with 1 Axes>"
      ]
     },
     "metadata": {
      "needs_background": "light"
     },
     "output_type": "display_data"
    }
   ],
   "source": [
    "precisions, recall, thresholds = precision_recall_curve(y_test, y_pred_proba)\n",
    "fig = plt.figure(figsize=(5, 5))\n",
    "ax = fig.add_subplot(111)\n",
    "plot_curve_w_auc(ax, 'PR curve', recall, precisions,\n",
    "          'b', 'recall', 'precision')\n",
    "plt.tight_layout()"
   ]
  },
  {
   "cell_type": "markdown",
   "metadata": {
    "id": "2HlBtD8NhVpj"
   },
   "source": [
    "PR-AUC качество очень низкое. И здесь виден дисбаланс классов: при полноте 1.0 точность на уровне 0.04 (много ложноположительных результатов, т.к. объектов из класса `-1` гораздо больше, чем из класса `+1`)"
   ]
  },
  {
   "cell_type": "markdown",
   "metadata": {
    "id": "AGlGKU2ehVpj"
   },
   "source": [
    "У нас есть алгоритм, который определяет вероятность обращения клиента по страховому случаю, но мы хотим использовать этот алгоритм, чтобы отказывать клиентам в обслуживании в страховой. Для этого нам нужны бинарные предсказания алгоритма. Давайте искать этот порог для получения бинарных предсказаний.\n",
    "\n",
    "__Задание 12.__\n",
    "\n",
    "__(0.5 балла)__\n",
    "\n",
    "Предположим, что нам надо подобрать порог такой, чтобы среди наших положителных предсказаний 95\\% действительно обратились бы по страховому случаю. Подберите соответствующий порог, оцените на нём precision, recall. Скажите, какой части потенциальных клиентов мы откажем (т.е доля тех клиентов (среди всех клиентов тестовой выборки), которых мы пометили единичками, но у которых на самом деле был 0 в y_test)?\n",
    "\n",
    "**Замечание-подсказка (!)**\n",
    "* Порог нужно искать по precision"
   ]
  },
  {
   "cell_type": "markdown",
   "metadata": {
    "id": "jAuh9VMNhVpj"
   },
   "source": [
    "Требуется:\n",
    "$$\n",
    "\\frac{TP}{\\hat{P}} = \\frac{TP}{TP+FP} \\geqslant 0.95\n",
    "\\Rightarrow\n",
    "\\text{precision} \\geqslant 0.95\n",
    "$$"
   ]
  },
  {
   "cell_type": "code",
   "execution_count": 84,
   "metadata": {
    "ExecuteTime": {
     "end_time": "2021-11-22T06:23:31.459899Z",
     "start_time": "2021-11-22T06:23:31.444835Z"
    },
    "id": "247eElishVpj"
   },
   "outputs": [],
   "source": [
    "from sklearn.metrics import precision_score"
   ]
  },
  {
   "cell_type": "code",
   "execution_count": 85,
   "metadata": {
    "ExecuteTime": {
     "end_time": "2021-11-22T06:29:03.503334Z",
     "start_time": "2021-11-22T06:29:03.498376Z"
    },
    "id": "BibFJzrVhVpj"
   },
   "outputs": [],
   "source": [
    "precisions = precisions[:-1]  # remove extra 1\n",
    "min_prec = 0.95"
   ]
  },
  {
   "cell_type": "code",
   "execution_count": 86,
   "metadata": {
    "ExecuteTime": {
     "end_time": "2021-11-22T06:29:12.180320Z",
     "start_time": "2021-11-22T06:29:12.166390Z"
    },
    "colab": {
     "base_uri": "https://localhost:8080/"
    },
    "id": "Y3nS7HYdhVpj",
    "outputId": "b50ae503-62ed-4e68-d3a2-5e91403bb236"
   },
   "outputs": [
    {
     "name": "stdout",
     "output_type": "stream",
     "text": [
      "thresholds   precisions\n",
      "0.511181642  1.000\n",
      "0.480095197  1.000\n",
      "0.472754032  0.667\n"
     ]
    }
   ],
   "source": [
    "print('thresholds   precisions')\n",
    "for thr, prec in zip(reversed(thresholds),\n",
    "                     reversed(precisions)):\n",
    "    print(f'{thr:.9f}  {prec:.3f}')\n",
    "    if prec < min_prec:\n",
    "        break"
   ]
  },
  {
   "cell_type": "markdown",
   "metadata": {
    "ExecuteTime": {
     "end_time": "2021-11-21T17:55:39.174918Z",
     "start_time": "2021-11-21T17:55:39.160867Z"
    },
    "id": "5KXXNSxwhVpj"
   },
   "source": [
    "Требуемый порог для нашей задачи лежит в промежутке $[\\approx0.47276, \\approx0.51118]$ (при других значениях либо точность низкая, либо пороги не применимы к нашей выборке)"
   ]
  },
  {
   "cell_type": "code",
   "execution_count": 87,
   "metadata": {
    "ExecuteTime": {
     "end_time": "2021-11-22T06:23:31.569644Z",
     "start_time": "2021-11-22T06:23:31.476881Z"
    },
    "colab": {
     "base_uri": "https://localhost:8080/",
     "height": 475
    },
    "id": "Uk09DWIbhVpj",
    "outputId": "c5e41221-2ceb-4c53-a43f-382d7e248ce7"
   },
   "outputs": [
    {
     "data": {
      "text/html": [
       "<div>\n",
       "<style scoped>\n",
       "    .dataframe tbody tr th:only-of-type {\n",
       "        vertical-align: middle;\n",
       "    }\n",
       "\n",
       "    .dataframe tbody tr th {\n",
       "        vertical-align: top;\n",
       "    }\n",
       "\n",
       "    .dataframe thead th {\n",
       "        text-align: right;\n",
       "    }\n",
       "</style>\n",
       "<table border=\"1\" class=\"dataframe\">\n",
       "  <thead>\n",
       "    <tr style=\"text-align: right;\">\n",
       "      <th></th>\n",
       "      <th>ps_ind_01</th>\n",
       "      <th>ps_ind_03</th>\n",
       "      <th>ps_ind_06_bin</th>\n",
       "      <th>ps_ind_07_bin</th>\n",
       "      <th>ps_ind_08_bin</th>\n",
       "      <th>ps_ind_09_bin</th>\n",
       "      <th>ps_ind_10_bin</th>\n",
       "      <th>ps_ind_11_bin</th>\n",
       "      <th>ps_ind_12_bin</th>\n",
       "      <th>ps_ind_13_bin</th>\n",
       "      <th>ps_ind_14</th>\n",
       "      <th>ps_ind_15</th>\n",
       "      <th>ps_ind_16_bin</th>\n",
       "      <th>ps_ind_17_bin</th>\n",
       "      <th>ps_ind_18_bin</th>\n",
       "      <th>ps_reg_01</th>\n",
       "      <th>ps_reg_02</th>\n",
       "      <th>ps_reg_03</th>\n",
       "      <th>ps_car_11</th>\n",
       "      <th>ps_car_12</th>\n",
       "      <th>ps_car_13</th>\n",
       "      <th>ps_car_14</th>\n",
       "      <th>ps_car_15</th>\n",
       "      <th>ps_calc_01</th>\n",
       "      <th>ps_calc_02</th>\n",
       "      <th>ps_calc_03</th>\n",
       "      <th>ps_calc_04</th>\n",
       "      <th>ps_calc_05</th>\n",
       "      <th>ps_calc_06</th>\n",
       "      <th>ps_calc_07</th>\n",
       "      <th>ps_calc_08</th>\n",
       "      <th>ps_calc_09</th>\n",
       "      <th>ps_calc_10</th>\n",
       "      <th>ps_calc_11</th>\n",
       "      <th>ps_calc_12</th>\n",
       "      <th>ps_calc_13</th>\n",
       "      <th>ps_calc_14</th>\n",
       "      <th>ps_calc_15_bin</th>\n",
       "      <th>ps_calc_16_bin</th>\n",
       "      <th>ps_calc_17_bin</th>\n",
       "      <th>...</th>\n",
       "      <th>ps_car_11_cat_65</th>\n",
       "      <th>ps_car_11_cat_66</th>\n",
       "      <th>ps_car_11_cat_67</th>\n",
       "      <th>ps_car_11_cat_68</th>\n",
       "      <th>ps_car_11_cat_69</th>\n",
       "      <th>ps_car_11_cat_70</th>\n",
       "      <th>ps_car_11_cat_71</th>\n",
       "      <th>ps_car_11_cat_72</th>\n",
       "      <th>ps_car_11_cat_73</th>\n",
       "      <th>ps_car_11_cat_74</th>\n",
       "      <th>ps_car_11_cat_75</th>\n",
       "      <th>ps_car_11_cat_76</th>\n",
       "      <th>ps_car_11_cat_77</th>\n",
       "      <th>ps_car_11_cat_78</th>\n",
       "      <th>ps_car_11_cat_79</th>\n",
       "      <th>ps_car_11_cat_80</th>\n",
       "      <th>ps_car_11_cat_81</th>\n",
       "      <th>ps_car_11_cat_82</th>\n",
       "      <th>ps_car_11_cat_83</th>\n",
       "      <th>ps_car_11_cat_84</th>\n",
       "      <th>ps_car_11_cat_85</th>\n",
       "      <th>ps_car_11_cat_86</th>\n",
       "      <th>ps_car_11_cat_87</th>\n",
       "      <th>ps_car_11_cat_88</th>\n",
       "      <th>ps_car_11_cat_89</th>\n",
       "      <th>ps_car_11_cat_90</th>\n",
       "      <th>ps_car_11_cat_91</th>\n",
       "      <th>ps_car_11_cat_92</th>\n",
       "      <th>ps_car_11_cat_93</th>\n",
       "      <th>ps_car_11_cat_94</th>\n",
       "      <th>ps_car_11_cat_95</th>\n",
       "      <th>ps_car_11_cat_96</th>\n",
       "      <th>ps_car_11_cat_97</th>\n",
       "      <th>ps_car_11_cat_98</th>\n",
       "      <th>ps_car_11_cat_99</th>\n",
       "      <th>ps_car_11_cat_100</th>\n",
       "      <th>ps_car_11_cat_101</th>\n",
       "      <th>ps_car_11_cat_102</th>\n",
       "      <th>ps_car_11_cat_103</th>\n",
       "      <th>ps_car_11_cat_104</th>\n",
       "    </tr>\n",
       "    <tr>\n",
       "      <th>id</th>\n",
       "      <th></th>\n",
       "      <th></th>\n",
       "      <th></th>\n",
       "      <th></th>\n",
       "      <th></th>\n",
       "      <th></th>\n",
       "      <th></th>\n",
       "      <th></th>\n",
       "      <th></th>\n",
       "      <th></th>\n",
       "      <th></th>\n",
       "      <th></th>\n",
       "      <th></th>\n",
       "      <th></th>\n",
       "      <th></th>\n",
       "      <th></th>\n",
       "      <th></th>\n",
       "      <th></th>\n",
       "      <th></th>\n",
       "      <th></th>\n",
       "      <th></th>\n",
       "      <th></th>\n",
       "      <th></th>\n",
       "      <th></th>\n",
       "      <th></th>\n",
       "      <th></th>\n",
       "      <th></th>\n",
       "      <th></th>\n",
       "      <th></th>\n",
       "      <th></th>\n",
       "      <th></th>\n",
       "      <th></th>\n",
       "      <th></th>\n",
       "      <th></th>\n",
       "      <th></th>\n",
       "      <th></th>\n",
       "      <th></th>\n",
       "      <th></th>\n",
       "      <th></th>\n",
       "      <th></th>\n",
       "      <th></th>\n",
       "      <th></th>\n",
       "      <th></th>\n",
       "      <th></th>\n",
       "      <th></th>\n",
       "      <th></th>\n",
       "      <th></th>\n",
       "      <th></th>\n",
       "      <th></th>\n",
       "      <th></th>\n",
       "      <th></th>\n",
       "      <th></th>\n",
       "      <th></th>\n",
       "      <th></th>\n",
       "      <th></th>\n",
       "      <th></th>\n",
       "      <th></th>\n",
       "      <th></th>\n",
       "      <th></th>\n",
       "      <th></th>\n",
       "      <th></th>\n",
       "      <th></th>\n",
       "      <th></th>\n",
       "      <th></th>\n",
       "      <th></th>\n",
       "      <th></th>\n",
       "      <th></th>\n",
       "      <th></th>\n",
       "      <th></th>\n",
       "      <th></th>\n",
       "      <th></th>\n",
       "      <th></th>\n",
       "      <th></th>\n",
       "      <th></th>\n",
       "      <th></th>\n",
       "      <th></th>\n",
       "      <th></th>\n",
       "      <th></th>\n",
       "      <th></th>\n",
       "      <th></th>\n",
       "      <th></th>\n",
       "    </tr>\n",
       "  </thead>\n",
       "  <tbody>\n",
       "    <tr>\n",
       "      <th>381341</th>\n",
       "      <td>1</td>\n",
       "      <td>8</td>\n",
       "      <td>0</td>\n",
       "      <td>0</td>\n",
       "      <td>1</td>\n",
       "      <td>0</td>\n",
       "      <td>0</td>\n",
       "      <td>0</td>\n",
       "      <td>0</td>\n",
       "      <td>0</td>\n",
       "      <td>0</td>\n",
       "      <td>12</td>\n",
       "      <td>1</td>\n",
       "      <td>0</td>\n",
       "      <td>0</td>\n",
       "      <td>0.6</td>\n",
       "      <td>0.2</td>\n",
       "      <td>0.557898</td>\n",
       "      <td>3</td>\n",
       "      <td>0.316070</td>\n",
       "      <td>0.661625</td>\n",
       "      <td>0.374433</td>\n",
       "      <td>2.828427</td>\n",
       "      <td>0.3</td>\n",
       "      <td>0.8</td>\n",
       "      <td>0.4</td>\n",
       "      <td>2</td>\n",
       "      <td>1</td>\n",
       "      <td>8</td>\n",
       "      <td>2</td>\n",
       "      <td>9</td>\n",
       "      <td>2</td>\n",
       "      <td>7</td>\n",
       "      <td>2</td>\n",
       "      <td>1</td>\n",
       "      <td>5</td>\n",
       "      <td>8</td>\n",
       "      <td>0</td>\n",
       "      <td>1</td>\n",
       "      <td>1</td>\n",
       "      <td>...</td>\n",
       "      <td>0</td>\n",
       "      <td>0</td>\n",
       "      <td>0</td>\n",
       "      <td>0</td>\n",
       "      <td>0</td>\n",
       "      <td>0</td>\n",
       "      <td>0</td>\n",
       "      <td>0</td>\n",
       "      <td>0</td>\n",
       "      <td>0</td>\n",
       "      <td>0</td>\n",
       "      <td>0</td>\n",
       "      <td>0</td>\n",
       "      <td>0</td>\n",
       "      <td>0</td>\n",
       "      <td>0</td>\n",
       "      <td>0</td>\n",
       "      <td>0</td>\n",
       "      <td>0</td>\n",
       "      <td>0</td>\n",
       "      <td>0</td>\n",
       "      <td>0</td>\n",
       "      <td>0</td>\n",
       "      <td>0</td>\n",
       "      <td>0</td>\n",
       "      <td>0</td>\n",
       "      <td>0</td>\n",
       "      <td>0</td>\n",
       "      <td>0</td>\n",
       "      <td>0</td>\n",
       "      <td>0</td>\n",
       "      <td>0</td>\n",
       "      <td>0</td>\n",
       "      <td>0</td>\n",
       "      <td>0</td>\n",
       "      <td>0</td>\n",
       "      <td>0</td>\n",
       "      <td>0</td>\n",
       "      <td>0</td>\n",
       "      <td>0</td>\n",
       "    </tr>\n",
       "    <tr>\n",
       "      <th>1327969</th>\n",
       "      <td>2</td>\n",
       "      <td>2</td>\n",
       "      <td>0</td>\n",
       "      <td>0</td>\n",
       "      <td>0</td>\n",
       "      <td>1</td>\n",
       "      <td>0</td>\n",
       "      <td>0</td>\n",
       "      <td>0</td>\n",
       "      <td>0</td>\n",
       "      <td>0</td>\n",
       "      <td>10</td>\n",
       "      <td>1</td>\n",
       "      <td>0</td>\n",
       "      <td>0</td>\n",
       "      <td>0.8</td>\n",
       "      <td>0.9</td>\n",
       "      <td>0.943729</td>\n",
       "      <td>1</td>\n",
       "      <td>0.316228</td>\n",
       "      <td>0.642824</td>\n",
       "      <td>0.394335</td>\n",
       "      <td>3.162278</td>\n",
       "      <td>0.5</td>\n",
       "      <td>0.8</td>\n",
       "      <td>0.2</td>\n",
       "      <td>3</td>\n",
       "      <td>2</td>\n",
       "      <td>9</td>\n",
       "      <td>1</td>\n",
       "      <td>8</td>\n",
       "      <td>2</td>\n",
       "      <td>5</td>\n",
       "      <td>6</td>\n",
       "      <td>0</td>\n",
       "      <td>2</td>\n",
       "      <td>5</td>\n",
       "      <td>0</td>\n",
       "      <td>1</td>\n",
       "      <td>1</td>\n",
       "      <td>...</td>\n",
       "      <td>0</td>\n",
       "      <td>0</td>\n",
       "      <td>0</td>\n",
       "      <td>0</td>\n",
       "      <td>0</td>\n",
       "      <td>0</td>\n",
       "      <td>0</td>\n",
       "      <td>0</td>\n",
       "      <td>0</td>\n",
       "      <td>0</td>\n",
       "      <td>0</td>\n",
       "      <td>0</td>\n",
       "      <td>0</td>\n",
       "      <td>0</td>\n",
       "      <td>0</td>\n",
       "      <td>0</td>\n",
       "      <td>0</td>\n",
       "      <td>0</td>\n",
       "      <td>0</td>\n",
       "      <td>0</td>\n",
       "      <td>0</td>\n",
       "      <td>0</td>\n",
       "      <td>0</td>\n",
       "      <td>0</td>\n",
       "      <td>0</td>\n",
       "      <td>0</td>\n",
       "      <td>0</td>\n",
       "      <td>0</td>\n",
       "      <td>0</td>\n",
       "      <td>0</td>\n",
       "      <td>0</td>\n",
       "      <td>0</td>\n",
       "      <td>0</td>\n",
       "      <td>0</td>\n",
       "      <td>0</td>\n",
       "      <td>0</td>\n",
       "      <td>0</td>\n",
       "      <td>0</td>\n",
       "      <td>0</td>\n",
       "      <td>0</td>\n",
       "    </tr>\n",
       "    <tr>\n",
       "      <th>601794</th>\n",
       "      <td>0</td>\n",
       "      <td>2</td>\n",
       "      <td>1</td>\n",
       "      <td>0</td>\n",
       "      <td>0</td>\n",
       "      <td>0</td>\n",
       "      <td>0</td>\n",
       "      <td>0</td>\n",
       "      <td>0</td>\n",
       "      <td>0</td>\n",
       "      <td>0</td>\n",
       "      <td>8</td>\n",
       "      <td>0</td>\n",
       "      <td>1</td>\n",
       "      <td>0</td>\n",
       "      <td>0.6</td>\n",
       "      <td>0.4</td>\n",
       "      <td>0.637868</td>\n",
       "      <td>3</td>\n",
       "      <td>0.374166</td>\n",
       "      <td>0.741327</td>\n",
       "      <td>0.318591</td>\n",
       "      <td>3.464102</td>\n",
       "      <td>0.9</td>\n",
       "      <td>0.6</td>\n",
       "      <td>0.2</td>\n",
       "      <td>1</td>\n",
       "      <td>2</td>\n",
       "      <td>9</td>\n",
       "      <td>2</td>\n",
       "      <td>10</td>\n",
       "      <td>2</td>\n",
       "      <td>3</td>\n",
       "      <td>9</td>\n",
       "      <td>1</td>\n",
       "      <td>5</td>\n",
       "      <td>3</td>\n",
       "      <td>0</td>\n",
       "      <td>0</td>\n",
       "      <td>0</td>\n",
       "      <td>...</td>\n",
       "      <td>0</td>\n",
       "      <td>0</td>\n",
       "      <td>0</td>\n",
       "      <td>0</td>\n",
       "      <td>0</td>\n",
       "      <td>0</td>\n",
       "      <td>0</td>\n",
       "      <td>0</td>\n",
       "      <td>0</td>\n",
       "      <td>0</td>\n",
       "      <td>0</td>\n",
       "      <td>0</td>\n",
       "      <td>0</td>\n",
       "      <td>0</td>\n",
       "      <td>0</td>\n",
       "      <td>0</td>\n",
       "      <td>0</td>\n",
       "      <td>0</td>\n",
       "      <td>0</td>\n",
       "      <td>0</td>\n",
       "      <td>0</td>\n",
       "      <td>0</td>\n",
       "      <td>0</td>\n",
       "      <td>0</td>\n",
       "      <td>0</td>\n",
       "      <td>0</td>\n",
       "      <td>0</td>\n",
       "      <td>0</td>\n",
       "      <td>0</td>\n",
       "      <td>0</td>\n",
       "      <td>0</td>\n",
       "      <td>0</td>\n",
       "      <td>0</td>\n",
       "      <td>0</td>\n",
       "      <td>0</td>\n",
       "      <td>0</td>\n",
       "      <td>0</td>\n",
       "      <td>0</td>\n",
       "      <td>0</td>\n",
       "      <td>0</td>\n",
       "    </tr>\n",
       "    <tr>\n",
       "      <th>632925</th>\n",
       "      <td>6</td>\n",
       "      <td>11</td>\n",
       "      <td>0</td>\n",
       "      <td>1</td>\n",
       "      <td>0</td>\n",
       "      <td>0</td>\n",
       "      <td>0</td>\n",
       "      <td>0</td>\n",
       "      <td>0</td>\n",
       "      <td>0</td>\n",
       "      <td>0</td>\n",
       "      <td>10</td>\n",
       "      <td>0</td>\n",
       "      <td>0</td>\n",
       "      <td>0</td>\n",
       "      <td>0.2</td>\n",
       "      <td>0.0</td>\n",
       "      <td>-1.000000</td>\n",
       "      <td>3</td>\n",
       "      <td>0.374166</td>\n",
       "      <td>0.693848</td>\n",
       "      <td>0.380789</td>\n",
       "      <td>2.449490</td>\n",
       "      <td>0.0</td>\n",
       "      <td>0.5</td>\n",
       "      <td>0.2</td>\n",
       "      <td>2</td>\n",
       "      <td>4</td>\n",
       "      <td>8</td>\n",
       "      <td>4</td>\n",
       "      <td>10</td>\n",
       "      <td>2</td>\n",
       "      <td>9</td>\n",
       "      <td>8</td>\n",
       "      <td>1</td>\n",
       "      <td>2</td>\n",
       "      <td>4</td>\n",
       "      <td>0</td>\n",
       "      <td>1</td>\n",
       "      <td>0</td>\n",
       "      <td>...</td>\n",
       "      <td>0</td>\n",
       "      <td>0</td>\n",
       "      <td>0</td>\n",
       "      <td>0</td>\n",
       "      <td>0</td>\n",
       "      <td>0</td>\n",
       "      <td>0</td>\n",
       "      <td>0</td>\n",
       "      <td>0</td>\n",
       "      <td>0</td>\n",
       "      <td>0</td>\n",
       "      <td>0</td>\n",
       "      <td>0</td>\n",
       "      <td>0</td>\n",
       "      <td>0</td>\n",
       "      <td>0</td>\n",
       "      <td>0</td>\n",
       "      <td>0</td>\n",
       "      <td>0</td>\n",
       "      <td>0</td>\n",
       "      <td>0</td>\n",
       "      <td>0</td>\n",
       "      <td>0</td>\n",
       "      <td>0</td>\n",
       "      <td>0</td>\n",
       "      <td>0</td>\n",
       "      <td>0</td>\n",
       "      <td>0</td>\n",
       "      <td>0</td>\n",
       "      <td>0</td>\n",
       "      <td>0</td>\n",
       "      <td>0</td>\n",
       "      <td>0</td>\n",
       "      <td>0</td>\n",
       "      <td>0</td>\n",
       "      <td>0</td>\n",
       "      <td>0</td>\n",
       "      <td>0</td>\n",
       "      <td>0</td>\n",
       "      <td>0</td>\n",
       "    </tr>\n",
       "    <tr>\n",
       "      <th>74864</th>\n",
       "      <td>3</td>\n",
       "      <td>5</td>\n",
       "      <td>0</td>\n",
       "      <td>0</td>\n",
       "      <td>1</td>\n",
       "      <td>0</td>\n",
       "      <td>0</td>\n",
       "      <td>0</td>\n",
       "      <td>1</td>\n",
       "      <td>0</td>\n",
       "      <td>1</td>\n",
       "      <td>10</td>\n",
       "      <td>0</td>\n",
       "      <td>0</td>\n",
       "      <td>0</td>\n",
       "      <td>0.4</td>\n",
       "      <td>0.0</td>\n",
       "      <td>1.184800</td>\n",
       "      <td>3</td>\n",
       "      <td>0.316228</td>\n",
       "      <td>0.663605</td>\n",
       "      <td>0.294449</td>\n",
       "      <td>3.000000</td>\n",
       "      <td>0.3</td>\n",
       "      <td>0.5</td>\n",
       "      <td>0.9</td>\n",
       "      <td>1</td>\n",
       "      <td>2</td>\n",
       "      <td>8</td>\n",
       "      <td>4</td>\n",
       "      <td>8</td>\n",
       "      <td>3</td>\n",
       "      <td>10</td>\n",
       "      <td>9</td>\n",
       "      <td>2</td>\n",
       "      <td>3</td>\n",
       "      <td>8</td>\n",
       "      <td>0</td>\n",
       "      <td>1</td>\n",
       "      <td>1</td>\n",
       "      <td>...</td>\n",
       "      <td>0</td>\n",
       "      <td>0</td>\n",
       "      <td>0</td>\n",
       "      <td>0</td>\n",
       "      <td>0</td>\n",
       "      <td>0</td>\n",
       "      <td>0</td>\n",
       "      <td>0</td>\n",
       "      <td>0</td>\n",
       "      <td>0</td>\n",
       "      <td>0</td>\n",
       "      <td>0</td>\n",
       "      <td>0</td>\n",
       "      <td>0</td>\n",
       "      <td>0</td>\n",
       "      <td>0</td>\n",
       "      <td>0</td>\n",
       "      <td>0</td>\n",
       "      <td>0</td>\n",
       "      <td>0</td>\n",
       "      <td>0</td>\n",
       "      <td>0</td>\n",
       "      <td>1</td>\n",
       "      <td>0</td>\n",
       "      <td>0</td>\n",
       "      <td>0</td>\n",
       "      <td>0</td>\n",
       "      <td>0</td>\n",
       "      <td>0</td>\n",
       "      <td>0</td>\n",
       "      <td>0</td>\n",
       "      <td>0</td>\n",
       "      <td>0</td>\n",
       "      <td>0</td>\n",
       "      <td>0</td>\n",
       "      <td>0</td>\n",
       "      <td>0</td>\n",
       "      <td>0</td>\n",
       "      <td>0</td>\n",
       "      <td>0</td>\n",
       "    </tr>\n",
       "    <tr>\n",
       "      <th>...</th>\n",
       "      <td>...</td>\n",
       "      <td>...</td>\n",
       "      <td>...</td>\n",
       "      <td>...</td>\n",
       "      <td>...</td>\n",
       "      <td>...</td>\n",
       "      <td>...</td>\n",
       "      <td>...</td>\n",
       "      <td>...</td>\n",
       "      <td>...</td>\n",
       "      <td>...</td>\n",
       "      <td>...</td>\n",
       "      <td>...</td>\n",
       "      <td>...</td>\n",
       "      <td>...</td>\n",
       "      <td>...</td>\n",
       "      <td>...</td>\n",
       "      <td>...</td>\n",
       "      <td>...</td>\n",
       "      <td>...</td>\n",
       "      <td>...</td>\n",
       "      <td>...</td>\n",
       "      <td>...</td>\n",
       "      <td>...</td>\n",
       "      <td>...</td>\n",
       "      <td>...</td>\n",
       "      <td>...</td>\n",
       "      <td>...</td>\n",
       "      <td>...</td>\n",
       "      <td>...</td>\n",
       "      <td>...</td>\n",
       "      <td>...</td>\n",
       "      <td>...</td>\n",
       "      <td>...</td>\n",
       "      <td>...</td>\n",
       "      <td>...</td>\n",
       "      <td>...</td>\n",
       "      <td>...</td>\n",
       "      <td>...</td>\n",
       "      <td>...</td>\n",
       "      <td>...</td>\n",
       "      <td>...</td>\n",
       "      <td>...</td>\n",
       "      <td>...</td>\n",
       "      <td>...</td>\n",
       "      <td>...</td>\n",
       "      <td>...</td>\n",
       "      <td>...</td>\n",
       "      <td>...</td>\n",
       "      <td>...</td>\n",
       "      <td>...</td>\n",
       "      <td>...</td>\n",
       "      <td>...</td>\n",
       "      <td>...</td>\n",
       "      <td>...</td>\n",
       "      <td>...</td>\n",
       "      <td>...</td>\n",
       "      <td>...</td>\n",
       "      <td>...</td>\n",
       "      <td>...</td>\n",
       "      <td>...</td>\n",
       "      <td>...</td>\n",
       "      <td>...</td>\n",
       "      <td>...</td>\n",
       "      <td>...</td>\n",
       "      <td>...</td>\n",
       "      <td>...</td>\n",
       "      <td>...</td>\n",
       "      <td>...</td>\n",
       "      <td>...</td>\n",
       "      <td>...</td>\n",
       "      <td>...</td>\n",
       "      <td>...</td>\n",
       "      <td>...</td>\n",
       "      <td>...</td>\n",
       "      <td>...</td>\n",
       "      <td>...</td>\n",
       "      <td>...</td>\n",
       "      <td>...</td>\n",
       "      <td>...</td>\n",
       "      <td>...</td>\n",
       "    </tr>\n",
       "    <tr>\n",
       "      <th>1215796</th>\n",
       "      <td>2</td>\n",
       "      <td>6</td>\n",
       "      <td>1</td>\n",
       "      <td>0</td>\n",
       "      <td>0</td>\n",
       "      <td>0</td>\n",
       "      <td>0</td>\n",
       "      <td>0</td>\n",
       "      <td>0</td>\n",
       "      <td>0</td>\n",
       "      <td>0</td>\n",
       "      <td>1</td>\n",
       "      <td>0</td>\n",
       "      <td>0</td>\n",
       "      <td>1</td>\n",
       "      <td>0.9</td>\n",
       "      <td>1.1</td>\n",
       "      <td>1.325472</td>\n",
       "      <td>2</td>\n",
       "      <td>0.422019</td>\n",
       "      <td>0.498344</td>\n",
       "      <td>0.387298</td>\n",
       "      <td>0.000000</td>\n",
       "      <td>0.3</td>\n",
       "      <td>0.5</td>\n",
       "      <td>0.7</td>\n",
       "      <td>3</td>\n",
       "      <td>3</td>\n",
       "      <td>9</td>\n",
       "      <td>5</td>\n",
       "      <td>9</td>\n",
       "      <td>3</td>\n",
       "      <td>9</td>\n",
       "      <td>5</td>\n",
       "      <td>1</td>\n",
       "      <td>3</td>\n",
       "      <td>3</td>\n",
       "      <td>0</td>\n",
       "      <td>0</td>\n",
       "      <td>0</td>\n",
       "      <td>...</td>\n",
       "      <td>0</td>\n",
       "      <td>0</td>\n",
       "      <td>0</td>\n",
       "      <td>0</td>\n",
       "      <td>0</td>\n",
       "      <td>0</td>\n",
       "      <td>0</td>\n",
       "      <td>0</td>\n",
       "      <td>0</td>\n",
       "      <td>0</td>\n",
       "      <td>0</td>\n",
       "      <td>0</td>\n",
       "      <td>0</td>\n",
       "      <td>0</td>\n",
       "      <td>0</td>\n",
       "      <td>0</td>\n",
       "      <td>0</td>\n",
       "      <td>0</td>\n",
       "      <td>0</td>\n",
       "      <td>0</td>\n",
       "      <td>0</td>\n",
       "      <td>0</td>\n",
       "      <td>0</td>\n",
       "      <td>0</td>\n",
       "      <td>0</td>\n",
       "      <td>0</td>\n",
       "      <td>0</td>\n",
       "      <td>0</td>\n",
       "      <td>0</td>\n",
       "      <td>0</td>\n",
       "      <td>0</td>\n",
       "      <td>0</td>\n",
       "      <td>0</td>\n",
       "      <td>0</td>\n",
       "      <td>0</td>\n",
       "      <td>0</td>\n",
       "      <td>0</td>\n",
       "      <td>0</td>\n",
       "      <td>0</td>\n",
       "      <td>1</td>\n",
       "    </tr>\n",
       "    <tr>\n",
       "      <th>514147</th>\n",
       "      <td>1</td>\n",
       "      <td>7</td>\n",
       "      <td>1</td>\n",
       "      <td>0</td>\n",
       "      <td>0</td>\n",
       "      <td>0</td>\n",
       "      <td>0</td>\n",
       "      <td>0</td>\n",
       "      <td>0</td>\n",
       "      <td>0</td>\n",
       "      <td>0</td>\n",
       "      <td>13</td>\n",
       "      <td>1</td>\n",
       "      <td>0</td>\n",
       "      <td>0</td>\n",
       "      <td>0.6</td>\n",
       "      <td>0.6</td>\n",
       "      <td>0.904503</td>\n",
       "      <td>3</td>\n",
       "      <td>0.400000</td>\n",
       "      <td>0.847615</td>\n",
       "      <td>0.338821</td>\n",
       "      <td>3.464102</td>\n",
       "      <td>0.0</td>\n",
       "      <td>0.6</td>\n",
       "      <td>0.1</td>\n",
       "      <td>0</td>\n",
       "      <td>3</td>\n",
       "      <td>8</td>\n",
       "      <td>2</td>\n",
       "      <td>8</td>\n",
       "      <td>2</td>\n",
       "      <td>9</td>\n",
       "      <td>5</td>\n",
       "      <td>1</td>\n",
       "      <td>5</td>\n",
       "      <td>5</td>\n",
       "      <td>0</td>\n",
       "      <td>0</td>\n",
       "      <td>0</td>\n",
       "      <td>...</td>\n",
       "      <td>0</td>\n",
       "      <td>0</td>\n",
       "      <td>0</td>\n",
       "      <td>0</td>\n",
       "      <td>0</td>\n",
       "      <td>0</td>\n",
       "      <td>0</td>\n",
       "      <td>0</td>\n",
       "      <td>0</td>\n",
       "      <td>0</td>\n",
       "      <td>0</td>\n",
       "      <td>0</td>\n",
       "      <td>0</td>\n",
       "      <td>0</td>\n",
       "      <td>0</td>\n",
       "      <td>0</td>\n",
       "      <td>0</td>\n",
       "      <td>0</td>\n",
       "      <td>0</td>\n",
       "      <td>0</td>\n",
       "      <td>0</td>\n",
       "      <td>0</td>\n",
       "      <td>0</td>\n",
       "      <td>0</td>\n",
       "      <td>0</td>\n",
       "      <td>0</td>\n",
       "      <td>0</td>\n",
       "      <td>0</td>\n",
       "      <td>0</td>\n",
       "      <td>0</td>\n",
       "      <td>0</td>\n",
       "      <td>0</td>\n",
       "      <td>0</td>\n",
       "      <td>0</td>\n",
       "      <td>0</td>\n",
       "      <td>0</td>\n",
       "      <td>0</td>\n",
       "      <td>0</td>\n",
       "      <td>0</td>\n",
       "      <td>1</td>\n",
       "    </tr>\n",
       "    <tr>\n",
       "      <th>1182212</th>\n",
       "      <td>3</td>\n",
       "      <td>4</td>\n",
       "      <td>0</td>\n",
       "      <td>0</td>\n",
       "      <td>0</td>\n",
       "      <td>1</td>\n",
       "      <td>0</td>\n",
       "      <td>0</td>\n",
       "      <td>0</td>\n",
       "      <td>0</td>\n",
       "      <td>0</td>\n",
       "      <td>0</td>\n",
       "      <td>0</td>\n",
       "      <td>0</td>\n",
       "      <td>1</td>\n",
       "      <td>0.5</td>\n",
       "      <td>0.4</td>\n",
       "      <td>0.639336</td>\n",
       "      <td>2</td>\n",
       "      <td>0.374166</td>\n",
       "      <td>0.862954</td>\n",
       "      <td>0.399625</td>\n",
       "      <td>3.464102</td>\n",
       "      <td>0.8</td>\n",
       "      <td>0.7</td>\n",
       "      <td>0.0</td>\n",
       "      <td>2</td>\n",
       "      <td>2</td>\n",
       "      <td>7</td>\n",
       "      <td>7</td>\n",
       "      <td>10</td>\n",
       "      <td>2</td>\n",
       "      <td>8</td>\n",
       "      <td>5</td>\n",
       "      <td>1</td>\n",
       "      <td>3</td>\n",
       "      <td>3</td>\n",
       "      <td>0</td>\n",
       "      <td>1</td>\n",
       "      <td>0</td>\n",
       "      <td>...</td>\n",
       "      <td>0</td>\n",
       "      <td>0</td>\n",
       "      <td>0</td>\n",
       "      <td>0</td>\n",
       "      <td>0</td>\n",
       "      <td>0</td>\n",
       "      <td>0</td>\n",
       "      <td>0</td>\n",
       "      <td>0</td>\n",
       "      <td>0</td>\n",
       "      <td>0</td>\n",
       "      <td>0</td>\n",
       "      <td>0</td>\n",
       "      <td>0</td>\n",
       "      <td>0</td>\n",
       "      <td>0</td>\n",
       "      <td>0</td>\n",
       "      <td>0</td>\n",
       "      <td>0</td>\n",
       "      <td>0</td>\n",
       "      <td>1</td>\n",
       "      <td>0</td>\n",
       "      <td>0</td>\n",
       "      <td>0</td>\n",
       "      <td>0</td>\n",
       "      <td>0</td>\n",
       "      <td>0</td>\n",
       "      <td>0</td>\n",
       "      <td>0</td>\n",
       "      <td>0</td>\n",
       "      <td>0</td>\n",
       "      <td>0</td>\n",
       "      <td>0</td>\n",
       "      <td>0</td>\n",
       "      <td>0</td>\n",
       "      <td>0</td>\n",
       "      <td>0</td>\n",
       "      <td>0</td>\n",
       "      <td>0</td>\n",
       "      <td>0</td>\n",
       "    </tr>\n",
       "    <tr>\n",
       "      <th>258042</th>\n",
       "      <td>3</td>\n",
       "      <td>1</td>\n",
       "      <td>0</td>\n",
       "      <td>1</td>\n",
       "      <td>0</td>\n",
       "      <td>0</td>\n",
       "      <td>0</td>\n",
       "      <td>0</td>\n",
       "      <td>0</td>\n",
       "      <td>0</td>\n",
       "      <td>0</td>\n",
       "      <td>11</td>\n",
       "      <td>1</td>\n",
       "      <td>0</td>\n",
       "      <td>0</td>\n",
       "      <td>0.8</td>\n",
       "      <td>0.2</td>\n",
       "      <td>0.772981</td>\n",
       "      <td>3</td>\n",
       "      <td>0.316228</td>\n",
       "      <td>0.707238</td>\n",
       "      <td>0.368511</td>\n",
       "      <td>3.316625</td>\n",
       "      <td>0.6</td>\n",
       "      <td>0.5</td>\n",
       "      <td>0.0</td>\n",
       "      <td>4</td>\n",
       "      <td>1</td>\n",
       "      <td>9</td>\n",
       "      <td>4</td>\n",
       "      <td>10</td>\n",
       "      <td>4</td>\n",
       "      <td>7</td>\n",
       "      <td>9</td>\n",
       "      <td>0</td>\n",
       "      <td>2</td>\n",
       "      <td>7</td>\n",
       "      <td>0</td>\n",
       "      <td>1</td>\n",
       "      <td>0</td>\n",
       "      <td>...</td>\n",
       "      <td>0</td>\n",
       "      <td>0</td>\n",
       "      <td>0</td>\n",
       "      <td>0</td>\n",
       "      <td>0</td>\n",
       "      <td>0</td>\n",
       "      <td>0</td>\n",
       "      <td>0</td>\n",
       "      <td>0</td>\n",
       "      <td>0</td>\n",
       "      <td>0</td>\n",
       "      <td>0</td>\n",
       "      <td>0</td>\n",
       "      <td>0</td>\n",
       "      <td>0</td>\n",
       "      <td>0</td>\n",
       "      <td>0</td>\n",
       "      <td>1</td>\n",
       "      <td>0</td>\n",
       "      <td>0</td>\n",
       "      <td>0</td>\n",
       "      <td>0</td>\n",
       "      <td>0</td>\n",
       "      <td>0</td>\n",
       "      <td>0</td>\n",
       "      <td>0</td>\n",
       "      <td>0</td>\n",
       "      <td>0</td>\n",
       "      <td>0</td>\n",
       "      <td>0</td>\n",
       "      <td>0</td>\n",
       "      <td>0</td>\n",
       "      <td>0</td>\n",
       "      <td>0</td>\n",
       "      <td>0</td>\n",
       "      <td>0</td>\n",
       "      <td>0</td>\n",
       "      <td>0</td>\n",
       "      <td>0</td>\n",
       "      <td>0</td>\n",
       "    </tr>\n",
       "    <tr>\n",
       "      <th>1158078</th>\n",
       "      <td>1</td>\n",
       "      <td>0</td>\n",
       "      <td>0</td>\n",
       "      <td>0</td>\n",
       "      <td>1</td>\n",
       "      <td>0</td>\n",
       "      <td>0</td>\n",
       "      <td>0</td>\n",
       "      <td>0</td>\n",
       "      <td>0</td>\n",
       "      <td>0</td>\n",
       "      <td>11</td>\n",
       "      <td>1</td>\n",
       "      <td>0</td>\n",
       "      <td>0</td>\n",
       "      <td>0.7</td>\n",
       "      <td>1.5</td>\n",
       "      <td>1.322876</td>\n",
       "      <td>2</td>\n",
       "      <td>0.316228</td>\n",
       "      <td>0.735195</td>\n",
       "      <td>0.359861</td>\n",
       "      <td>3.464102</td>\n",
       "      <td>0.2</td>\n",
       "      <td>0.1</td>\n",
       "      <td>0.3</td>\n",
       "      <td>2</td>\n",
       "      <td>2</td>\n",
       "      <td>7</td>\n",
       "      <td>3</td>\n",
       "      <td>10</td>\n",
       "      <td>2</td>\n",
       "      <td>7</td>\n",
       "      <td>3</td>\n",
       "      <td>0</td>\n",
       "      <td>7</td>\n",
       "      <td>14</td>\n",
       "      <td>0</td>\n",
       "      <td>0</td>\n",
       "      <td>1</td>\n",
       "      <td>...</td>\n",
       "      <td>0</td>\n",
       "      <td>0</td>\n",
       "      <td>0</td>\n",
       "      <td>0</td>\n",
       "      <td>0</td>\n",
       "      <td>0</td>\n",
       "      <td>0</td>\n",
       "      <td>0</td>\n",
       "      <td>0</td>\n",
       "      <td>0</td>\n",
       "      <td>0</td>\n",
       "      <td>0</td>\n",
       "      <td>0</td>\n",
       "      <td>0</td>\n",
       "      <td>0</td>\n",
       "      <td>0</td>\n",
       "      <td>0</td>\n",
       "      <td>0</td>\n",
       "      <td>0</td>\n",
       "      <td>0</td>\n",
       "      <td>0</td>\n",
       "      <td>0</td>\n",
       "      <td>0</td>\n",
       "      <td>0</td>\n",
       "      <td>0</td>\n",
       "      <td>0</td>\n",
       "      <td>0</td>\n",
       "      <td>0</td>\n",
       "      <td>0</td>\n",
       "      <td>0</td>\n",
       "      <td>0</td>\n",
       "      <td>0</td>\n",
       "      <td>0</td>\n",
       "      <td>0</td>\n",
       "      <td>0</td>\n",
       "      <td>0</td>\n",
       "      <td>0</td>\n",
       "      <td>0</td>\n",
       "      <td>0</td>\n",
       "      <td>0</td>\n",
       "    </tr>\n",
       "  </tbody>\n",
       "</table>\n",
       "<p>476169 rows × 227 columns</p>\n",
       "</div>"
      ],
      "text/plain": [
       "         ps_ind_01  ps_ind_03  ...  ps_car_11_cat_103  ps_car_11_cat_104\n",
       "id                             ...                                      \n",
       "381341           1          8  ...                  0                  0\n",
       "1327969          2          2  ...                  0                  0\n",
       "601794           0          2  ...                  0                  0\n",
       "632925           6         11  ...                  0                  0\n",
       "74864            3          5  ...                  0                  0\n",
       "...            ...        ...  ...                ...                ...\n",
       "1215796          2          6  ...                  0                  1\n",
       "514147           1          7  ...                  0                  1\n",
       "1182212          3          4  ...                  0                  0\n",
       "258042           3          1  ...                  0                  0\n",
       "1158078          1          0  ...                  0                  0\n",
       "\n",
       "[476169 rows x 227 columns]"
      ]
     },
     "execution_count": 87,
     "metadata": {},
     "output_type": "execute_result"
    }
   ],
   "source": [
    "X_train"
   ]
  },
  {
   "cell_type": "markdown",
   "metadata": {
    "id": "vHXy3lAzhVpk"
   },
   "source": [
    "Иногда сложно решить, какие значения precision и recall нужны в нашей задаче. Однако иногда можно оценить экономический эффект от нашего алгоритма. Мы знаем, во сколько нам обходится клиент, который обратился в страховую, и сколько нам приносит клиент, который не обратился. \n",
    "\n",
    "При фиксированном пороге мы знаем, кому мы бы отказали в обслуживании. Среди них есть те, кто обратился бы в страховую и нам пришлось бы потратить деньги (читай: y_pred_i = 1, y_test_i = 1), и те, кто не обратился бы, то есть принёс бы нам деньги (читай: y_pred_i = 1, y_test_i = 0). Мы можем посчитать разницу между нашими доходами и расходами от этой группы людей и надеяться, что она будет положительной.  \n",
    "\n",
    "__Задание 13.__ Найдите такой порог, при котором наш баланс (разница между доходами и расходами на группе клиентов, которым мы отказали) неотрицательный. \n",
    "\n",
    "__(0.5 баллa)__"
   ]
  },
  {
   "cell_type": "markdown",
   "metadata": {
    "id": "DEcscW6ghVpk"
   },
   "source": [
    "$balance = 100000 \\cdot TP - 5000 \\cdot FP = 5000 \\cdot (20 \\cdot TP - (P - TP)) = 5000 \\cdot (21 \\cdot TP - P) = \\left\\{TP = P \\cdot precision \\right\\} = 5000 \\cdot P \\cdot (21 \\cdot precision - 1)$"
   ]
  },
  {
   "cell_type": "code",
   "execution_count": 88,
   "metadata": {
    "ExecuteTime": {
     "end_time": "2021-11-22T06:29:54.302023Z",
     "start_time": "2021-11-22T06:29:54.284069Z"
    },
    "id": "jaAt7d4DhVpk"
   },
   "outputs": [],
   "source": [
    "balances = 5000 * np.arange(len(precisions), 0, -1) * (21 * precisions - 1)\n",
    "best_thr = thresholds[balances >= 0]"
   ]
  },
  {
   "cell_type": "code",
   "execution_count": 89,
   "metadata": {
    "ExecuteTime": {
     "end_time": "2021-11-22T06:29:59.337431Z",
     "start_time": "2021-11-22T06:29:59.327408Z"
    },
    "colab": {
     "base_uri": "https://localhost:8080/"
    },
    "id": "I3lzMw8dhVpk",
    "outputId": "fd945e20-0fd5-4589-fcb2-d8cf8151d8fd"
   },
   "outputs": [
    {
     "data": {
      "text/plain": [
       "array([0.02928684, 0.0292871 , 0.02928739, ..., 0.47275403, 0.4800952 ,\n",
       "       0.51118164])"
      ]
     },
     "execution_count": 89,
     "metadata": {},
     "output_type": "execute_result"
    }
   ],
   "source": [
    "best_thr"
   ]
  },
  {
   "cell_type": "markdown",
   "metadata": {
    "id": "dnnD8q8JhVpk"
   },
   "source": []
  },
  {
   "cell_type": "code",
   "execution_count": 90,
   "metadata": {
    "ExecuteTime": {
     "end_time": "2021-11-22T06:32:02.486823Z",
     "start_time": "2021-11-22T06:32:02.481808Z"
    },
    "colab": {
     "base_uri": "https://localhost:8080/"
    },
    "id": "GLixlG6ShVpk",
    "outputId": "8398cc3d-445a-4338-d05d-f0615e725c33"
   },
   "outputs": [
    {
     "name": "stdout",
     "output_type": "stream",
     "text": [
      "Минимальный порог при котором баланс неотрицательный: 0.0293\n"
     ]
    }
   ],
   "source": [
    "print(f'Минимальный порог при котором баланс неотрицательный: {best_thr[0]:.4f}')"
   ]
  },
  {
   "cell_type": "markdown",
   "metadata": {
    "id": "T2bQJpd3hVpk"
   },
   "source": [
    "**(?)** А на каком значении порога это разнциа максимальна? Скольким клиентам мы отказали в обслуживании?"
   ]
  },
  {
   "cell_type": "code",
   "execution_count": 91,
   "metadata": {
    "ExecuteTime": {
     "end_time": "2021-11-22T06:31:34.500513Z",
     "start_time": "2021-11-22T06:31:34.487541Z"
    },
    "colab": {
     "base_uri": "https://localhost:8080/"
    },
    "id": "PHJ1NjVghVpk",
    "outputId": "e91c2010-2306-401a-b6f6-b2b33b1d1e38"
   },
   "outputs": [
    {
     "name": "stdout",
     "output_type": "stream",
     "text": [
      "Порог, при котором баланс максимальный: 0.0493\n",
      "Отказали 20886 клиентам\n"
     ]
    }
   ],
   "source": [
    "ind = balances.argmax()\n",
    "print(f'Порог, при котором баланс максимальный: {thresholds[ind]:.4f}\\n'\n",
    "      f'Отказали {len(balances) - ind} клиентам')"
   ]
  },
  {
   "cell_type": "markdown",
   "metadata": {
    "id": "J8v68dQlhVpl"
   },
   "source": [
    "## Часть 6 (бонус). Vowpal Wabbit"
   ]
  },
  {
   "cell_type": "markdown",
   "metadata": {
    "id": "o2ciCmlzhVpl"
   },
   "source": [
    "В этой части мы научимся использовать библиотеку [vowpal wabbit](https://github.com/JohnLangford/vowpal_wabbit). У неё есть несколько особенностей:\n",
    "- можно обучать только линейные модели, но за счёт большого количества опций и возможностей по усложнению, можно построить и довольно сложные вещи\n",
    "- можно обучаться на выборках, которые не помещаются в оперативную память\n",
    "- можно обрабатывать большое количество признаков (например, мешки слов текстов) и \"на ходу\" строить на них комбинации (не переделывать датасет)\n",
    "- другие особенности, как например, активное обучение и возможность распараллеленного обучения.\n",
    "\n",
    "Основные особенности при использовании следующие:\n",
    "- Свой формат данных: \"label |A feature1:value1 |B feature2:value2\", позволяющий, во-первых, указывать не все признаки (не нужно хранить много нулей в разреженных данных), а во-вторых, группировать и иметь возможность отключать или взаимодействовать (\"отключать\", добавлять квадратичные признаки и т.д.) сразу со всей группой признаков. По этой причине вам понадобится реализовать конвертер датасета и загрузку своих предсказаний, чтобы посчитать качество предсказаний.\n",
    "- Запуск обучения из командной строки (однако можно запускать эти же команды из ноутбука).\n",
    "\n",
    "В этот раз мы будем использовать данные с конкурса [Kaggle Avazu Click-Through Rate Prediction](https://www.kaggle.com/c/avazu-ctr-prediction) по предсказанию кликов (бинарная классификация). В обучающей выборке 40kk строк, так что у вас не должно быть желания загружать их в оперативную память. Предлагается взять первые 30kk строк в качестве обучающей выборке и оставшуюся часть для тестирования.\n",
    "\n",
    "<font color=\"red\"> !!ВНИМАНИЕ!! ХАЛЯВНЫЕ БАЛЛЫ!! ЗАДАНИЕ НА 1 БАЛЛ НЕСЛОЖНОЕ И ОЧЕНЬ ПОЛЕЗНОЕ!!</font>\n",
    "\n",
    "__Задание 14.__ Работа с vowpal wabbit. \n",
    "\n",
    "- Скачайте данные, разделите их на обучающую и тестовую выборки.\n",
    "- Подготовьте функции для конвертирования датасета в формат vowpal wabbit и для загрузки предсказаний в ноутбук для подсчёта функционала.\n",
    "- Сделайте простейшее решение на vowpal wabbit. Оцените качество.\n",
    "- Изучите возможности и параметры vowpal wabbit. Поэксперементируйте. \n",
    "- Расскажите, что интересного вы узнали (какие-нибудь особенности, режимы работы, фишки, параметры).\n",
    "- Удалось ли вам улучшить качество базовой модели? Насколько? Что ещё можно было бы попробовать?\n",
    "\n",
    "В этом задании предусмотрены баллы по двум критериям:\n",
    "- Мы видим, что вы **\"поигрались\" с vw**, а именно: запуск vw, обучение модели и предсказание ответов на нашем датасете (2-3 попытки обучения с разными параметрами, если не достигли 0.738), изменение значения/включения/выключения 2-3 параметров обучения с описанием того, что они делают. Несколько занимательных фактов и возможностей vowpal-wabbit __(1 балл)__.\n",
    "- Достижение ROC-AUC на отложенной выборки более 0.738 __(1.5 баллa)__"
   ]
  },
  {
   "cell_type": "markdown",
   "metadata": {
    "id": "Q6njgO47xsXR"
   },
   "source": [
    "For **vw**:"
   ]
  },
  {
   "cell_type": "code",
   "execution_count": 92,
   "metadata": {
    "colab": {
     "base_uri": "https://localhost:8080/"
    },
    "id": "eXraTAcntS2A",
    "outputId": "4d51ebd3-56dc-425e-f6a5-a373c199e923"
   },
   "outputs": [
    {
     "name": "stdout",
     "output_type": "stream",
     "text": [
      "Reading package lists... Done\n",
      "Building dependency tree       \n",
      "Reading state information... Done\n",
      "libboost-program-options-dev is already the newest version (1.65.1.0ubuntu1).\n",
      "libboost-program-options-dev set to manually installed.\n",
      "zlib1g-dev is already the newest version (1:1.2.11.dfsg-0ubuntu2).\n",
      "zlib1g-dev set to manually installed.\n",
      "libboost-python-dev is already the newest version (1.65.1.0ubuntu1).\n",
      "libboost-python-dev set to manually installed.\n",
      "The following additional packages will be installed:\n",
      "  libvw0\n",
      "Suggested packages:\n",
      "  vowpal-wabbit-doc\n",
      "The following NEW packages will be installed:\n",
      "  libvw0 vowpal-wabbit\n",
      "0 upgraded, 2 newly installed, 0 to remove and 37 not upgraded.\n",
      "Need to get 797 kB of archives.\n",
      "After this operation, 3,034 kB of additional disk space will be used.\n",
      "Get:1 http://archive.ubuntu.com/ubuntu bionic/universe amd64 libvw0 amd64 8.5.0.dfsg1-1 [748 kB]\n",
      "Get:2 http://archive.ubuntu.com/ubuntu bionic/universe amd64 vowpal-wabbit amd64 8.5.0.dfsg1-1 [49.1 kB]\n",
      "Fetched 797 kB in 1s (933 kB/s)\n",
      "Selecting previously unselected package libvw0.\n",
      "(Reading database ... 155222 files and directories currently installed.)\n",
      "Preparing to unpack .../libvw0_8.5.0.dfsg1-1_amd64.deb ...\n",
      "Unpacking libvw0 (8.5.0.dfsg1-1) ...\n",
      "Selecting previously unselected package vowpal-wabbit.\n",
      "Preparing to unpack .../vowpal-wabbit_8.5.0.dfsg1-1_amd64.deb ...\n",
      "Unpacking vowpal-wabbit (8.5.0.dfsg1-1) ...\n",
      "Setting up libvw0 (8.5.0.dfsg1-1) ...\n",
      "Setting up vowpal-wabbit (8.5.0.dfsg1-1) ...\n",
      "Processing triggers for man-db (2.8.3-2ubuntu0.1) ...\n",
      "Processing triggers for libc-bin (2.27-3ubuntu1.3) ...\n",
      "/sbin/ldconfig.real: /usr/local/lib/python3.7/dist-packages/ideep4py/lib/libmkldnn.so.0 is not a symbolic link\n",
      "\n",
      "Collecting vowpalwabbit\n",
      "  Downloading vowpalwabbit-8.11.0-cp37-cp37m-manylinux2010_x86_64.whl (2.6 MB)\n",
      "\u001b[K     |████████████████████████████████| 2.6 MB 5.1 MB/s \n",
      "\u001b[?25hInstalling collected packages: vowpalwabbit\n",
      "Successfully installed vowpalwabbit-8.11.0\n"
     ]
    }
   ],
   "source": [
    "!apt-get install libboost-program-options-dev zlib1g-dev libboost-python-dev vowpal-wabbit\n",
    "!pip install vowpalwabbit"
   ]
  },
  {
   "cell_type": "code",
   "execution_count": 93,
   "metadata": {
    "colab": {
     "base_uri": "https://localhost:8080/"
    },
    "id": "hnXxN0D-td5X",
    "outputId": "80efd809-ee5e-416c-817d-438f00e82297"
   },
   "outputs": [
    {
     "name": "stdout",
     "output_type": "stream",
     "text": [
      "8.5.0\n"
     ]
    }
   ],
   "source": [
    "!vw --version"
   ]
  },
  {
   "cell_type": "code",
   "execution_count": 94,
   "metadata": {
    "ExecuteTime": {
     "end_time": "2021-11-22T06:50:55.072152Z",
     "start_time": "2021-11-22T06:50:55.037244Z"
    },
    "colab": {
     "base_uri": "https://localhost:8080/",
     "height": 383
    },
    "id": "xUjgmhZNhVpl",
    "outputId": "e6c70537-581a-4ac5-d0f0-41b9d8766f15"
   },
   "outputs": [
    {
     "data": {
      "text/html": [
       "<div>\n",
       "<style scoped>\n",
       "    .dataframe tbody tr th:only-of-type {\n",
       "        vertical-align: middle;\n",
       "    }\n",
       "\n",
       "    .dataframe tbody tr th {\n",
       "        vertical-align: top;\n",
       "    }\n",
       "\n",
       "    .dataframe thead th {\n",
       "        text-align: right;\n",
       "    }\n",
       "</style>\n",
       "<table border=\"1\" class=\"dataframe\">\n",
       "  <thead>\n",
       "    <tr style=\"text-align: right;\">\n",
       "      <th></th>\n",
       "      <th>id</th>\n",
       "      <th>click</th>\n",
       "      <th>hour</th>\n",
       "      <th>C1</th>\n",
       "      <th>banner_pos</th>\n",
       "      <th>site_id</th>\n",
       "      <th>site_domain</th>\n",
       "      <th>site_category</th>\n",
       "      <th>app_id</th>\n",
       "      <th>app_domain</th>\n",
       "      <th>app_category</th>\n",
       "      <th>device_id</th>\n",
       "      <th>device_ip</th>\n",
       "      <th>device_model</th>\n",
       "      <th>device_type</th>\n",
       "      <th>device_conn_type</th>\n",
       "      <th>C14</th>\n",
       "      <th>C15</th>\n",
       "      <th>C16</th>\n",
       "      <th>C17</th>\n",
       "      <th>C18</th>\n",
       "      <th>C19</th>\n",
       "      <th>C20</th>\n",
       "      <th>C21</th>\n",
       "    </tr>\n",
       "  </thead>\n",
       "  <tbody>\n",
       "    <tr>\n",
       "      <th>0</th>\n",
       "      <td>1000009418151094273</td>\n",
       "      <td>0</td>\n",
       "      <td>14102100</td>\n",
       "      <td>1005</td>\n",
       "      <td>0</td>\n",
       "      <td>1fbe01fe</td>\n",
       "      <td>f3845767</td>\n",
       "      <td>28905ebd</td>\n",
       "      <td>ecad2386</td>\n",
       "      <td>7801e8d9</td>\n",
       "      <td>07d7df22</td>\n",
       "      <td>a99f214a</td>\n",
       "      <td>ddd2926e</td>\n",
       "      <td>44956a24</td>\n",
       "      <td>1</td>\n",
       "      <td>2</td>\n",
       "      <td>15706</td>\n",
       "      <td>320</td>\n",
       "      <td>50</td>\n",
       "      <td>1722</td>\n",
       "      <td>0</td>\n",
       "      <td>35</td>\n",
       "      <td>-1</td>\n",
       "      <td>79</td>\n",
       "    </tr>\n",
       "    <tr>\n",
       "      <th>1</th>\n",
       "      <td>10000169349117863715</td>\n",
       "      <td>0</td>\n",
       "      <td>14102100</td>\n",
       "      <td>1005</td>\n",
       "      <td>0</td>\n",
       "      <td>1fbe01fe</td>\n",
       "      <td>f3845767</td>\n",
       "      <td>28905ebd</td>\n",
       "      <td>ecad2386</td>\n",
       "      <td>7801e8d9</td>\n",
       "      <td>07d7df22</td>\n",
       "      <td>a99f214a</td>\n",
       "      <td>96809ac8</td>\n",
       "      <td>711ee120</td>\n",
       "      <td>1</td>\n",
       "      <td>0</td>\n",
       "      <td>15704</td>\n",
       "      <td>320</td>\n",
       "      <td>50</td>\n",
       "      <td>1722</td>\n",
       "      <td>0</td>\n",
       "      <td>35</td>\n",
       "      <td>100084</td>\n",
       "      <td>79</td>\n",
       "    </tr>\n",
       "    <tr>\n",
       "      <th>2</th>\n",
       "      <td>10000371904215119486</td>\n",
       "      <td>0</td>\n",
       "      <td>14102100</td>\n",
       "      <td>1005</td>\n",
       "      <td>0</td>\n",
       "      <td>1fbe01fe</td>\n",
       "      <td>f3845767</td>\n",
       "      <td>28905ebd</td>\n",
       "      <td>ecad2386</td>\n",
       "      <td>7801e8d9</td>\n",
       "      <td>07d7df22</td>\n",
       "      <td>a99f214a</td>\n",
       "      <td>b3cf8def</td>\n",
       "      <td>8a4875bd</td>\n",
       "      <td>1</td>\n",
       "      <td>0</td>\n",
       "      <td>15704</td>\n",
       "      <td>320</td>\n",
       "      <td>50</td>\n",
       "      <td>1722</td>\n",
       "      <td>0</td>\n",
       "      <td>35</td>\n",
       "      <td>100084</td>\n",
       "      <td>79</td>\n",
       "    </tr>\n",
       "    <tr>\n",
       "      <th>3</th>\n",
       "      <td>10000640724480838376</td>\n",
       "      <td>0</td>\n",
       "      <td>14102100</td>\n",
       "      <td>1005</td>\n",
       "      <td>0</td>\n",
       "      <td>1fbe01fe</td>\n",
       "      <td>f3845767</td>\n",
       "      <td>28905ebd</td>\n",
       "      <td>ecad2386</td>\n",
       "      <td>7801e8d9</td>\n",
       "      <td>07d7df22</td>\n",
       "      <td>a99f214a</td>\n",
       "      <td>e8275b8f</td>\n",
       "      <td>6332421a</td>\n",
       "      <td>1</td>\n",
       "      <td>0</td>\n",
       "      <td>15706</td>\n",
       "      <td>320</td>\n",
       "      <td>50</td>\n",
       "      <td>1722</td>\n",
       "      <td>0</td>\n",
       "      <td>35</td>\n",
       "      <td>100084</td>\n",
       "      <td>79</td>\n",
       "    </tr>\n",
       "    <tr>\n",
       "      <th>4</th>\n",
       "      <td>10000679056417042096</td>\n",
       "      <td>0</td>\n",
       "      <td>14102100</td>\n",
       "      <td>1005</td>\n",
       "      <td>1</td>\n",
       "      <td>fe8cc448</td>\n",
       "      <td>9166c161</td>\n",
       "      <td>0569f928</td>\n",
       "      <td>ecad2386</td>\n",
       "      <td>7801e8d9</td>\n",
       "      <td>07d7df22</td>\n",
       "      <td>a99f214a</td>\n",
       "      <td>9644d0bf</td>\n",
       "      <td>779d90c2</td>\n",
       "      <td>1</td>\n",
       "      <td>0</td>\n",
       "      <td>18993</td>\n",
       "      <td>320</td>\n",
       "      <td>50</td>\n",
       "      <td>2161</td>\n",
       "      <td>0</td>\n",
       "      <td>35</td>\n",
       "      <td>-1</td>\n",
       "      <td>157</td>\n",
       "    </tr>\n",
       "    <tr>\n",
       "      <th>5</th>\n",
       "      <td>10000720757801103869</td>\n",
       "      <td>0</td>\n",
       "      <td>14102100</td>\n",
       "      <td>1005</td>\n",
       "      <td>0</td>\n",
       "      <td>d6137915</td>\n",
       "      <td>bb1ef334</td>\n",
       "      <td>f028772b</td>\n",
       "      <td>ecad2386</td>\n",
       "      <td>7801e8d9</td>\n",
       "      <td>07d7df22</td>\n",
       "      <td>a99f214a</td>\n",
       "      <td>05241af0</td>\n",
       "      <td>8a4875bd</td>\n",
       "      <td>1</td>\n",
       "      <td>0</td>\n",
       "      <td>16920</td>\n",
       "      <td>320</td>\n",
       "      <td>50</td>\n",
       "      <td>1899</td>\n",
       "      <td>0</td>\n",
       "      <td>431</td>\n",
       "      <td>100077</td>\n",
       "      <td>117</td>\n",
       "    </tr>\n",
       "    <tr>\n",
       "      <th>6</th>\n",
       "      <td>10000724729988544911</td>\n",
       "      <td>0</td>\n",
       "      <td>14102100</td>\n",
       "      <td>1005</td>\n",
       "      <td>0</td>\n",
       "      <td>8fda644b</td>\n",
       "      <td>25d4cfcd</td>\n",
       "      <td>f028772b</td>\n",
       "      <td>ecad2386</td>\n",
       "      <td>7801e8d9</td>\n",
       "      <td>07d7df22</td>\n",
       "      <td>a99f214a</td>\n",
       "      <td>b264c159</td>\n",
       "      <td>be6db1d7</td>\n",
       "      <td>1</td>\n",
       "      <td>0</td>\n",
       "      <td>20362</td>\n",
       "      <td>320</td>\n",
       "      <td>50</td>\n",
       "      <td>2333</td>\n",
       "      <td>0</td>\n",
       "      <td>39</td>\n",
       "      <td>-1</td>\n",
       "      <td>157</td>\n",
       "    </tr>\n",
       "    <tr>\n",
       "      <th>7</th>\n",
       "      <td>10000918755742328737</td>\n",
       "      <td>0</td>\n",
       "      <td>14102100</td>\n",
       "      <td>1005</td>\n",
       "      <td>1</td>\n",
       "      <td>e151e245</td>\n",
       "      <td>7e091613</td>\n",
       "      <td>f028772b</td>\n",
       "      <td>ecad2386</td>\n",
       "      <td>7801e8d9</td>\n",
       "      <td>07d7df22</td>\n",
       "      <td>a99f214a</td>\n",
       "      <td>e6f67278</td>\n",
       "      <td>be74e6fe</td>\n",
       "      <td>1</td>\n",
       "      <td>0</td>\n",
       "      <td>20632</td>\n",
       "      <td>320</td>\n",
       "      <td>50</td>\n",
       "      <td>2374</td>\n",
       "      <td>3</td>\n",
       "      <td>39</td>\n",
       "      <td>-1</td>\n",
       "      <td>23</td>\n",
       "    </tr>\n",
       "    <tr>\n",
       "      <th>8</th>\n",
       "      <td>10000949271186029916</td>\n",
       "      <td>1</td>\n",
       "      <td>14102100</td>\n",
       "      <td>1005</td>\n",
       "      <td>0</td>\n",
       "      <td>1fbe01fe</td>\n",
       "      <td>f3845767</td>\n",
       "      <td>28905ebd</td>\n",
       "      <td>ecad2386</td>\n",
       "      <td>7801e8d9</td>\n",
       "      <td>07d7df22</td>\n",
       "      <td>a99f214a</td>\n",
       "      <td>37e8da74</td>\n",
       "      <td>5db079b5</td>\n",
       "      <td>1</td>\n",
       "      <td>2</td>\n",
       "      <td>15707</td>\n",
       "      <td>320</td>\n",
       "      <td>50</td>\n",
       "      <td>1722</td>\n",
       "      <td>0</td>\n",
       "      <td>35</td>\n",
       "      <td>-1</td>\n",
       "      <td>79</td>\n",
       "    </tr>\n",
       "    <tr>\n",
       "      <th>9</th>\n",
       "      <td>10001264480619467364</td>\n",
       "      <td>0</td>\n",
       "      <td>14102100</td>\n",
       "      <td>1002</td>\n",
       "      <td>0</td>\n",
       "      <td>84c7ba46</td>\n",
       "      <td>c4e18dd6</td>\n",
       "      <td>50e219e0</td>\n",
       "      <td>ecad2386</td>\n",
       "      <td>7801e8d9</td>\n",
       "      <td>07d7df22</td>\n",
       "      <td>c357dbff</td>\n",
       "      <td>f1ac7184</td>\n",
       "      <td>373ecbe6</td>\n",
       "      <td>0</td>\n",
       "      <td>0</td>\n",
       "      <td>21689</td>\n",
       "      <td>320</td>\n",
       "      <td>50</td>\n",
       "      <td>2496</td>\n",
       "      <td>3</td>\n",
       "      <td>167</td>\n",
       "      <td>100191</td>\n",
       "      <td>23</td>\n",
       "    </tr>\n",
       "  </tbody>\n",
       "</table>\n",
       "</div>"
      ],
      "text/plain": [
       "                     id  click      hour    C1  ...  C18  C19     C20  C21\n",
       "0   1000009418151094273      0  14102100  1005  ...    0   35      -1   79\n",
       "1  10000169349117863715      0  14102100  1005  ...    0   35  100084   79\n",
       "2  10000371904215119486      0  14102100  1005  ...    0   35  100084   79\n",
       "3  10000640724480838376      0  14102100  1005  ...    0   35  100084   79\n",
       "4  10000679056417042096      0  14102100  1005  ...    0   35      -1  157\n",
       "5  10000720757801103869      0  14102100  1005  ...    0  431  100077  117\n",
       "6  10000724729988544911      0  14102100  1005  ...    0   39      -1  157\n",
       "7  10000918755742328737      0  14102100  1005  ...    3   39      -1   23\n",
       "8  10000949271186029916      1  14102100  1005  ...    0   35      -1   79\n",
       "9  10001264480619467364      0  14102100  1002  ...    3  167  100191   23\n",
       "\n",
       "[10 rows x 24 columns]"
      ]
     },
     "execution_count": 94,
     "metadata": {},
     "output_type": "execute_result"
    }
   ],
   "source": [
    "data = pd.read_csv('drive/MyDrive/train_bonus.csv', nrows=10)\n",
    "data"
   ]
  },
  {
   "cell_type": "code",
   "execution_count": 95,
   "metadata": {
    "ExecuteTime": {
     "end_time": "2021-11-22T06:51:07.474711Z",
     "start_time": "2021-11-22T06:51:07.464706Z"
    },
    "colab": {
     "base_uri": "https://localhost:8080/"
    },
    "id": "Cf7rd7OihVpl",
    "outputId": "7599c7d7-21bd-409a-c127-38b14ef90600"
   },
   "outputs": [
    {
     "data": {
      "text/plain": [
       "Index(['id', 'click', 'hour', 'C1', 'banner_pos', 'site_id', 'site_domain',\n",
       "       'site_category', 'app_id', 'app_domain', 'app_category', 'device_id',\n",
       "       'device_ip', 'device_model', 'device_type', 'device_conn_type', 'C14',\n",
       "       'C15', 'C16', 'C17', 'C18', 'C19', 'C20', 'C21'],\n",
       "      dtype='object')"
      ]
     },
     "execution_count": 95,
     "metadata": {},
     "output_type": "execute_result"
    }
   ],
   "source": [
    "data.columns"
   ]
  },
  {
   "cell_type": "markdown",
   "metadata": {
    "id": "bcYU-QlFhVpl"
   },
   "source": [
    "Колонки датасета представляют собой: бесполезный признак `id`, целевую переменую `click` и признаки выборки, которые можно разделить на следующие смысловые категории:"
   ]
  },
  {
   "cell_type": "code",
   "execution_count": 96,
   "metadata": {
    "ExecuteTime": {
     "end_time": "2021-11-22T07:04:51.909025Z",
     "start_time": "2021-11-22T07:04:51.889079Z"
    },
    "colab": {
     "base_uri": "https://localhost:8080/"
    },
    "id": "B0aVQU5mhVpl",
    "outputId": "a692aa55-dd29-46ee-b2ab-cd9fd707cc8f"
   },
   "outputs": [
    {
     "name": "stdout",
     "output_type": "stream",
     "text": [
      "['hour', 'C1', 'banner_pos']\n",
      "['site_id', 'site_domain', 'site_category']\n",
      "['app_id', 'app_domain', 'app_category']\n",
      "['device_id', 'device_ip', 'device_model', 'device_type', 'device_conn_type']\n",
      "['C14', 'C15', 'C16', 'C17', 'C18', 'C19', 'C20', 'C21']\n"
     ]
    }
   ],
   "source": [
    "for ind in [slice(2, 5), slice(5, 8), slice(8, 11), slice(11, 16), slice(16, 24)]:\n",
    "    print(list(data.columns[ind]))"
   ]
  },
  {
   "cell_type": "markdown",
   "metadata": {
    "id": "kI_NciEshVpl"
   },
   "source": [
    "Подготовка к делению датасета на выборки:"
   ]
  },
  {
   "cell_type": "code",
   "execution_count": 97,
   "metadata": {
    "id": "cKGrI5vbzu5v"
   },
   "outputs": [],
   "source": [
    "from itertools import islice\n",
    "from sklearn.metrics import roc_auc_score as auc"
   ]
  },
  {
   "cell_type": "markdown",
   "metadata": {
    "id": "TVDvylTS18GJ"
   },
   "source": [
    "Из строки Python в строку vowpal wabbit:"
   ]
  },
  {
   "cell_type": "code",
   "execution_count": 98,
   "metadata": {
    "id": "ppPlJKJE16rV"
   },
   "outputs": [],
   "source": [
    "def str_to_vw(entry, prefixes, separator_chk):\n",
    "    arr = entry.strip().split(',')\n",
    "    res_1 = ('-1' if arr[1] == '0' else '1') + ' '\n",
    "    res_2 = ' '.join(p + f for p, f in zip(prefixes, arr[2:])) + '\\n'\n",
    "    if separator_chk:\n",
    "        return int(res_1), res_2\n",
    "    return res_1 + res_2"
   ]
  },
  {
   "cell_type": "markdown",
   "metadata": {
    "id": "mTdFkBwT2Q9r"
   },
   "source": [
    "AUC score:"
   ]
  },
  {
   "cell_type": "code",
   "execution_count": 99,
   "metadata": {
    "id": "eXof8XPn2Tko"
   },
   "outputs": [],
   "source": [
    "def get_auc():\n",
    "    return auc(np.load('vw/y_test.npy'), np.loadtxt('vw/y_pred.txt'))"
   ]
  },
  {
   "cell_type": "markdown",
   "metadata": {
    "id": "ovBYZz1h21Qf"
   },
   "source": [
    "Разделим датасет на обучающую выборку `train` (первые 30kk строк) и отложенную выборку `test` (остальное):"
   ]
  },
  {
   "cell_type": "code",
   "execution_count": 101,
   "metadata": {
    "id": "x65cTL8R2pbQ"
   },
   "outputs": [],
   "source": [
    "filename = 'drive/MyDrive/train_bonus.csv'\n",
    "# features encoding for vw parser (2 numerical features, other are categorical) \n",
    "feature_prefixes = [\n",
    "    '|F h:', 'c=', 'b:',\n",
    "    '|S i=', 'd=', 'c=',\n",
    "    '|A i=', 'd=', 'c=',\n",
    "    '|D i=', 'p=', 'm=', 't=', 'c=',\n",
    "    '|C a=', 'b=', 'c=', 'd=', 'e=', 'f=', 'g=', 'e=',\n",
    "]\n",
    "train_size=30000000\n",
    "# to vw\n",
    "y_test_ = []\n",
    "\n",
    "with open(filename, 'r') as f_in:\n",
    "    f_in.readline()  # ignoring names of columns\n",
    "    # train\n",
    "    with open('vw/train.vw', 'w') as f_out:\n",
    "        for line in islice(f_in, train_size):\n",
    "            f_out.write(str_to_vw(line, feature_prefixes, separator_chk=False))\n",
    "    # valid\n",
    "    with open('vw/test.vw', 'w') as f_out:\n",
    "        for line in f_in:\n",
    "            ans, vw_line = str_to_vw(line, feature_prefixes, separator_chk=True)\n",
    "            f_out.write(vw_line)\n",
    "            y_test_.append(ans)\n",
    "    np.save('vw/y_test.npy', np.array(y_test_), allow_pickle=False)"
   ]
  },
  {
   "cell_type": "markdown",
   "metadata": {
    "id": "CxtXGElf5zjo"
   },
   "source": [
    "Обучаем модель на логистической фунции потерь и сохраняем (**-f**) в файл `model.vw`:"
   ]
  },
  {
   "cell_type": "code",
   "execution_count": 102,
   "metadata": {
    "ExecuteTime": {
     "end_time": "2021-11-22T07:08:38.921882Z",
     "start_time": "2021-11-22T07:08:38.872981Z"
    },
    "colab": {
     "base_uri": "https://localhost:8080/"
    },
    "id": "7KsAkRALhVpm",
    "outputId": "ca04a479-a44c-46d3-96af-896c9b04f69b"
   },
   "outputs": [
    {
     "name": "stdout",
     "output_type": "stream",
     "text": [
      "final_regressor = vw/model.vw\n",
      "Num weight bits = 18\n",
      "learning rate = 0.5\n",
      "initial_t = 0\n",
      "power_t = 0.5\n",
      "using no cache\n",
      "Reading datafile = vw/train.vw\n",
      "num sources = 1\n",
      "average  since         example        example  current  current  current\n",
      "loss     last          counter         weight    label  predict features\n",
      "0.693147 0.693147            1            1.0  -1.0000   0.0000       22\n",
      "0.488136 0.283124            2            2.0  -1.0000  -1.1170       22\n",
      "0.304292 0.120448            4            4.0  -1.0000  -2.2664       22\n",
      "0.214658 0.125024            8            8.0  -1.0000  -2.3124       23\n",
      "0.363789 0.512920           16           16.0  -1.0000  -2.6336       22\n",
      "0.393967 0.424145           32           32.0  -1.0000  -1.8419       22\n",
      "0.519177 0.644386           64           64.0  -1.0000  -0.8039       22\n",
      "0.532424 0.545671          128          128.0  -1.0000  -1.2779       22\n",
      "0.489940 0.447456          256          256.0   1.0000  -1.7938       22\n",
      "0.459096 0.428251          512          512.0  -1.0000  -2.7326       22\n",
      "0.435630 0.412165         1024         1024.0  -1.0000  -1.4342       22\n",
      "0.430965 0.426300         2048         2048.0  -1.0000  -3.1159       22\n",
      "0.432843 0.434721         4096         4096.0  -1.0000  -2.3025       22\n",
      "0.425537 0.418231         8192         8192.0  -1.0000  -2.2360       22\n",
      "0.416243 0.406948        16384        16384.0  -1.0000  -2.8363       22\n",
      "0.417076 0.417910        32768        32768.0   1.0000  -1.4909       22\n",
      "0.411043 0.405010        65536        65536.0  -1.0000  -2.8539       22\n",
      "0.406408 0.401773       131072       131072.0  -1.0000  -4.1893       22\n",
      "0.401214 0.396020       262144       262144.0  -1.0000  -2.8236       23\n",
      "0.384110 0.367006       524288       524288.0  -1.0000  -1.8347       22\n",
      "0.376081 0.368052      1048576      1048576.0  -1.0000  -1.0132       22\n",
      "0.377869 0.379658      2097152      2097152.0  -1.0000  -3.4090       22\n",
      "0.399543 0.421217      4194304      4194304.0  -1.0000  -4.1485       22\n",
      "0.382607 0.365671      8388608      8388608.0  -1.0000  -0.8426       22\n",
      "0.397168 0.411729     16777216     16777216.0  -1.0000  -0.6814       22\n",
      "\n",
      "finished run\n",
      "number of examples per pass = 30000000\n",
      "passes used = 1\n",
      "weighted example sum = 30000000.000000\n",
      "weighted label sum = -19615276.000000\n",
      "average loss = 0.399742\n",
      "best constant = -1.563963\n",
      "best constant's loss = 0.460734\n",
      "total feature number = 668359184\n"
     ]
    }
   ],
   "source": [
    "!vw vw/train.vw -f vw/model.vw --loss_function logistic"
   ]
  },
  {
   "cell_type": "markdown",
   "metadata": {
    "id": "F3kzvLjn7__6"
   },
   "source": [
    "Загружаем (**-i**) обученную модель, тестируем модель (**-t**) на отложенной выборке, строим и записываем предсказания (**-p**):"
   ]
  },
  {
   "cell_type": "code",
   "execution_count": 103,
   "metadata": {
    "ExecuteTime": {
     "end_time": "2021-11-22T07:09:05.249723Z",
     "start_time": "2021-11-22T07:09:05.200859Z"
    },
    "colab": {
     "base_uri": "https://localhost:8080/"
    },
    "id": "S4DOxQ2HhVpm",
    "outputId": "edef8bfc-7396-40cc-8fcb-0486de59f464"
   },
   "outputs": [
    {
     "name": "stdout",
     "output_type": "stream",
     "text": [
      "only testing\n",
      "predictions = vw/y_pred.txt\n",
      "Num weight bits = 18\n",
      "learning rate = 0.5\n",
      "initial_t = 0\n",
      "power_t = 0.5\n",
      "using no cache\n",
      "Reading datafile = vw/test.vw\n",
      "num sources = 1\n",
      "average  since         example        example  current  current  current\n",
      "loss     last          counter         weight    label  predict features\n",
      "    n.a.     n.a.            1            1.0  unknown   0.0583       22\n",
      "    n.a.     n.a.            2            2.0  unknown   0.2208       23\n",
      "    n.a.     n.a.            4            4.0  unknown   0.0792       22\n",
      "    n.a.     n.a.            8            8.0  unknown   0.0130       22\n",
      "    n.a.     n.a.           16           16.0  unknown   0.1508       22\n",
      "    n.a.     n.a.           32           32.0  unknown   0.0596       22\n",
      "    n.a.     n.a.           64           64.0  unknown   0.2890       22\n",
      "    n.a.     n.a.          128          128.0  unknown   0.2035       22\n",
      "    n.a.     n.a.          256          256.0  unknown   0.2959       23\n",
      "    n.a.     n.a.          512          512.0  unknown   0.0719       23\n",
      "    n.a.     n.a.         1024         1024.0  unknown   0.0145       22\n",
      "    n.a.     n.a.         2048         2048.0  unknown   0.3606       22\n",
      "    n.a.     n.a.         4096         4096.0  unknown   0.1697       22\n",
      "    n.a.     n.a.         8192         8192.0  unknown   0.0271       22\n",
      "    n.a.     n.a.        16384        16384.0  unknown   0.0121       22\n",
      "    n.a.     n.a.        32768        32768.0  unknown   0.2202       22\n",
      "    n.a.     n.a.        65536        65536.0  unknown   0.0825       22\n",
      "    n.a.     n.a.       131072       131072.0  unknown   0.0763       23\n",
      "    n.a.     n.a.       262144       262144.0  unknown   0.3781       22\n",
      "    n.a.     n.a.       524288       524288.0  unknown   0.1596       23\n",
      "    n.a.     n.a.      1048576      1048576.0  unknown   0.3505       23\n",
      "    n.a.     n.a.      2097152      2097152.0  unknown   0.0863       22\n",
      "    n.a.     n.a.      4194304      4194304.0  unknown   0.4103       22\n",
      "    n.a.     n.a.      8388608      8388608.0  unknown   0.2649       22\n",
      "\n",
      "finished run\n",
      "number of examples per pass = 10428967\n",
      "passes used = 1\n",
      "weighted example sum = 10428967.000000\n",
      "weighted label sum = 0.000000\n",
      "average loss = n.a.\n",
      "total feature number = 232397467\n"
     ]
    }
   ],
   "source": [
    "!vw -i vw/model.vw -t vw/test.vw -p vw/y_pred.txt --link logistic"
   ]
  },
  {
   "cell_type": "markdown",
   "metadata": {
    "id": "Qd_5Gygd9JaI"
   },
   "source": [
    "Будем запоминать AUC score:"
   ]
  },
  {
   "cell_type": "code",
   "execution_count": 104,
   "metadata": {
    "id": "HHB0NVNA9PJO"
   },
   "outputs": [],
   "source": [
    "auc_scores = []"
   ]
  },
  {
   "cell_type": "markdown",
   "metadata": {
    "id": "OrMjGA2i9TlO"
   },
   "source": [
    "Считаем AUC score на test (валидационная выборка, выделена из исходного файла `train_bonus.csv`):"
   ]
  },
  {
   "cell_type": "code",
   "execution_count": 105,
   "metadata": {
    "ExecuteTime": {
     "end_time": "2021-11-22T07:09:16.724543Z",
     "start_time": "2021-11-22T07:09:16.697583Z"
    },
    "colab": {
     "base_uri": "https://localhost:8080/"
    },
    "id": "51L6TJ1ahVpm",
    "outputId": "8b02f239-db19-478a-812b-b0e82458bc3a"
   },
   "outputs": [
    {
     "data": {
      "text/plain": [
       "0.7385460473067718"
      ]
     },
     "execution_count": 105,
     "metadata": {},
     "output_type": "execute_result"
    }
   ],
   "source": [
    "auc_scores += [get_auc()]\n",
    "auc_scores[-1]"
   ]
  },
  {
   "cell_type": "markdown",
   "metadata": {
    "id": "IpEsfr_aW5b2"
   },
   "source": [
    "Итак, уже на отложенной выборке получаем AUC $\\approx 0.7385 \\gt 0.7380$"
   ]
  },
  {
   "cell_type": "markdown",
   "metadata": {
    "id": "pMfj65WvYoyn"
   },
   "source": [
    "Кастомизируем нашу vw-модель. Во время предсказаний выводилась отладочная информация, вот её начало:\n",
    "\n",
    "`Num weight bits = 18`<br>\n",
    "`learning rate = 0.5`<br>\n",
    "`initial_t = 0`<br>\n",
    "`power_t = 0.5`<br>\n",
    "`using no cache`"
   ]
  },
  {
   "cell_type": "markdown",
   "metadata": {
    "id": "VWhDDmQdZXLl"
   },
   "source": [
    "Изменим `learning rate` (**-l**) и добавим кэширование (**-c**) (полезно при многократном прохождении датасета). Также отключим вывод отладочной информации (**--quiet**), чтобы записи выглядели компактнее"
   ]
  },
  {
   "cell_type": "markdown",
   "metadata": {
    "id": "wCzmBguucYKs"
   },
   "source": [
    "Увеличим `learning rate`:"
   ]
  },
  {
   "cell_type": "code",
   "execution_count": 106,
   "metadata": {
    "colab": {
     "base_uri": "https://localhost:8080/"
    },
    "id": "sdvAebHiXh7o",
    "outputId": "711c4e27-9ea9-43cd-d7ea-aa560947218e"
   },
   "outputs": [
    {
     "data": {
      "text/plain": [
       "0.7351652737567378"
      ]
     },
     "execution_count": 106,
     "metadata": {},
     "output_type": "execute_result"
    }
   ],
   "source": [
    "#train\n",
    "!vw vw/train.vw -f vw/model.vw --loss_function logistic -l 0.75 -c --quiet\n",
    "#valid\n",
    "!vw -i vw/model.vw -t vw/test.vw -p vw/y_pred.txt --link logistic -c --quiet\n",
    "#score\n",
    "auc_scores += [get_auc()]\n",
    "auc_scores[-1]"
   ]
  },
  {
   "cell_type": "markdown",
   "metadata": {
    "id": "I_EIwaFjcvIM"
   },
   "source": [
    "Уменьшим `learning rate`:"
   ]
  },
  {
   "cell_type": "code",
   "execution_count": 107,
   "metadata": {
    "colab": {
     "base_uri": "https://localhost:8080/"
    },
    "id": "nN0lFnYpcvIO",
    "outputId": "c909a8ec-9db0-401a-f2aa-a93df70ee7c5"
   },
   "outputs": [
    {
     "data": {
      "text/plain": [
       "0.7420845051984257"
      ]
     },
     "execution_count": 107,
     "metadata": {},
     "output_type": "execute_result"
    }
   ],
   "source": [
    "#train\n",
    "!vw vw/train.vw -f vw/model.vw --loss_function logistic -l 0.25 -c --quiet\n",
    "#valid\n",
    "!vw -i vw/model.vw -t vw/test.vw -p vw/y_pred.txt --link logistic -c --quiet\n",
    "#score\n",
    "auc_scores += [get_auc()]\n",
    "auc_scores[-1]"
   ]
  },
  {
   "cell_type": "markdown",
   "metadata": {
    "id": "8QMx5KJ8dm4Z"
   },
   "source": [
    "Значит:\n",
    "1. Увеличение learning rate понизило качество AUC\n",
    "2. Уменьшение learning rate повысило качество AUC\n",
    "\n",
    "Наилучшее качество на отложенной выборке $\\approx 0.7421 \\gt 0.7850$"
   ]
  },
  {
   "cell_type": "markdown",
   "metadata": {
    "id": "NgZ6mg7Xfw9d"
   },
   "source": [
    "Мы улучшили baseline AUC $\\approx 0.7385$. Библиотека быстрая и, на первый взгляд, с ней легко работать. Для меня было в новинку видеть удобную библиотеку для линейных моделей в ML, в которой легко и \"на лету\" можно корректировать, оптимизировать модель (изменять `learning rate`, включать кэширование), при надобности получая при этом подробную отладку.\n",
    "\n",
    "Мне показалось, что это библиотека, в которой вроде бы негде ошибиться и которая сходу будет хорошо работать, если правильно подготовить данные (формат **vw**).\n",
    "\n",
    "Также хотелось бы попробовать распараллелить вычисления, а в случае ошибок воспользоваться встроенным аудитом (**-audit**)."
   ]
  },
  {
   "cell_type": "markdown",
   "metadata": {
    "id": "xrHOtIJgedcb"
   },
   "source": [
    "**Таким образом**, немного поработали с библиотекой **vowpal wabbit**, немного кастомизировали модель и добились на отложенной выборке качества AUC $\\approx 0.7421$\n",
    "\n",
    "Часть 6 **done**."
   ]
  }
 ],
 "metadata": {
  "colab": {
   "collapsed_sections": [
    "JIHW-qm_hVpE",
    "VAM3OPqBhVpc",
    "ukGE8utphVpe",
    "ouOTa9C2hVpf"
   ],
   "machine_shape": "hm",
   "name": "hw-practice-03-svm-linclass.ipynb",
   "provenance": []
  },
  "kernelspec": {
   "display_name": "Python 3 (ipykernel)",
   "language": "python",
   "name": "python3"
  },
  "language_info": {
   "codemirror_mode": {
    "name": "ipython",
    "version": 3
   },
   "file_extension": ".py",
   "mimetype": "text/x-python",
   "name": "python",
   "nbconvert_exporter": "python",
   "pygments_lexer": "ipython3",
   "version": "3.8.10"
  },
  "toc": {
   "base_numbering": 1,
   "nav_menu": {},
   "number_sections": true,
   "sideBar": true,
   "skip_h1_title": true,
   "title_cell": "Table of Contents",
   "title_sidebar": "Contents",
   "toc_cell": false,
   "toc_position": {},
   "toc_section_display": true,
   "toc_window_display": false
  },
  "varInspector": {
   "cols": {
    "lenName": 16,
    "lenType": 16,
    "lenVar": 40
   },
   "kernels_config": {
    "python": {
     "delete_cmd_postfix": "",
     "delete_cmd_prefix": "del ",
     "library": "var_list.py",
     "varRefreshCmd": "print(var_dic_list())"
    },
    "r": {
     "delete_cmd_postfix": ") ",
     "delete_cmd_prefix": "rm(",
     "library": "var_list.r",
     "varRefreshCmd": "cat(var_dic_list()) "
    }
   },
   "types_to_exclude": [
    "module",
    "function",
    "builtin_function_or_method",
    "instance",
    "_Feature"
   ],
   "window_display": false
  }
 },
 "nbformat": 4,
 "nbformat_minor": 1
}
